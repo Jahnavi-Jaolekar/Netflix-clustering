{
  "nbformat": 4,
  "nbformat_minor": 0,
  "metadata": {
    "colab": {
      "provenance": [],
      "collapsed_sections": [
        "vncDsAP0Gaoa",
        "FJNUwmbgGyua",
        "w6K7xa23Elo4",
        "yQaldy8SH6Dl",
        "mDgbUHAGgjLW",
        "Y3lxredqlCYt",
        "3RnN4peoiCZX",
        "JlHwYmJAmNHm",
        "35m5QtbWiB9F",
        "PoPl-ycgm1ru",
        "H0kj-8xxnORC",
        "PBTbrJXOngz2",
        "u3PMJOP6ngxN",
        "bKJF3rekwFvQ",
        "MSa1f5Uengrz",
        "GF8Ens_Soomf",
        "K5QZ13OEpz2H",
        "lQ7QKXXCp7Bj",
        "448CDAPjqfQr",
        "t6dVpIINYklI",
        "ijmpgYnKYklI",
        "-JiQyfWJYklI",
        "fge-S5ZAYoAp",
        "85gYPyotYoAp",
        "RoGjAbkUYoAp",
        "iky9q4vBYrdO",
        "F6T5p64dYrdO",
        "y-Ehk30pYrdP",
        "QHF8YVU7Yuh3",
        "GwzvFGzlYuh3",
        "qYpmQ266Yuh3",
        "bbFf2-_FphqN",
        "_ouA3fa0phqN",
        "Seke61FWphqN",
        "PIIx-8_IphqN",
        "t27r6nlMphqO",
        "r2jJGEOYphqO",
        "b0JNsNcRphqO",
        "BZR9WyysphqO",
        "jj7wYXLtphqO",
        "eZrbJ2SmphqO",
        "rFu4xreNphqO",
        "YJ55k-q6phqO",
        "gCFgpxoyphqP",
        "OVtJsKN_phqQ",
        "lssrdh5qphqQ",
        "U2RJ9gkRphqQ",
        "1M8mcRywphqQ",
        "tgIPom80phqQ",
        "JMzcOPDDphqR",
        "x-EpHcCOp1ci",
        "X_VqEhTip1ck",
        "8zGJKyg5p1ck",
        "PVzmfK_Ep1ck",
        "n3dbpmDWp1ck",
        "ylSl6qgtp1ck",
        "ZWILFDl5p1ck",
        "M7G43BXep1ck",
        "Ag9LCva-p1cl",
        "E6MkPsBcp1cl",
        "2cELzS2fp1cl",
        "3MPXvC8up1cl",
        "NC_X3p0fY2L0",
        "UV0SzAkaZNRQ",
        "YPEH6qLeZNRQ",
        "q29F0dvdveiT",
        "EXh0U9oCveiU",
        "22aHeOlLveiV",
        "g-ATYxFrGrvw",
        "Yfr_Vlr8HBkt",
        "8yEUt7NnHlrM",
        "tEA2Xm5dHt1r",
        "I79__PHVH19G",
        "Ou-I18pAyIpj",
        "fF3858GYyt-u",
        "4_0_7-oCpUZd",
        "hwyV_J3ipUZe",
        "3yB-zSqbpUZe",
        "dEUvejAfpUZe",
        "Fd15vwWVpUZf",
        "bn_IUdTipZyH",
        "49K5P_iCpZyH",
        "Nff-vKELpZyI",
        "kLW572S8pZyI",
        "dWbDXHzopZyI",
        "yLjJCtPM0KBk",
        "xiyOF9F70UgQ",
        "7wuGOrhz0itI",
        "id1riN9m0vUs",
        "578E2V7j08f6",
        "89xtkJwZ18nB",
        "67NQN5KX2AMe",
        "Iwf50b-R2tYG",
        "GMQiZwjn3iu7",
        "WVIkgGqN3qsr",
        "XkPnILGE3zoT",
        "Hlsf0x5436Go",
        "mT9DMSJo4nBL",
        "c49ITxTc407N",
        "OeJFEK0N496M",
        "9ExmJH0g5HBk",
        "cJNqERVU536h",
        "k5UmGsbsOxih",
        "T0VqWOYE6DLQ",
        "qBMux9mC6MCf",
        "-oLEiFgy-5Pf",
        "C74aWNz2AliB",
        "2DejudWSA-a0",
        "pEMng2IbBLp7",
        "rAdphbQ9Bhjc",
        "TNVZ9zx19K6k",
        "nqoHp30x9hH9",
        "rMDnDkt2B6du",
        "yiiVWRdJDDil",
        "1UUpS68QDMuG",
        "kexQrXU-DjzY",
        "T5CmagL3EC8N",
        "BhH2vgX9EjGr",
        "qjKvONjwE8ra",
        "P1XJ9OREExlT",
        "VFOzZv6IFROw",
        "TIqpNgepFxVj",
        "VfCC591jGiD4",
        "OB4l2ZhMeS1U",
        "ArJBuiUVfxKd",
        "4qY1EAkEfxKe",
        "PiV4Ypx8fxKe",
        "TfvqoZmBfxKf",
        "dJ2tPlVmpsJ0",
        "JWYfwnehpsJ1",
        "-jK_YjpMpsJ2",
        "HAih1iBOpsJ2",
        "zVGeBEFhpsJ2",
        "bmKjuQ-FpsJ3",
        "Fze-IPXLpx6K",
        "7AN1z2sKpx6M",
        "9PIHJqyupx6M",
        "_-qAgymDpx6N",
        "Z-hykwinpx6N",
        "h_CCil-SKHpo",
        "cBFFvTBNJzUa",
        "HvGl1hHyA_VK",
        "EyNgTHvd2WFk",
        "KH5McJBi2d8v",
        "iW_Lq9qf2h6X",
        "-Kee-DAl2viO",
        "gCX9965dhzqZ",
        "gIfDvo9L0UH2"
      ],
      "include_colab_link": true
    },
    "kernelspec": {
      "name": "python3",
      "display_name": "Python 3"
    },
    "language_info": {
      "name": "python"
    },
    "gpuClass": "standard"
  },
  "cells": [
    {
      "cell_type": "markdown",
      "metadata": {
        "id": "view-in-github",
        "colab_type": "text"
      },
      "source": [
        "<a href=\"https://colab.research.google.com/github/Jahnavi-Jaolekar/Netflix-clustering/blob/main/Netflix_movies_and_TV_shows_Clustering_.ipynb\" target=\"_parent\"><img src=\"https://colab.research.google.com/assets/colab-badge.svg\" alt=\"Open In Colab\"/></a>"
      ]
    },
    {
      "cell_type": "markdown",
      "source": [
        "# **Project Name**    - Netflx movies and tv shows clustering\n",
        "\n"
      ],
      "metadata": {
        "id": "vncDsAP0Gaoa"
      }
    },
    {
      "cell_type": "markdown",
      "source": [
        "##### **Project Type**    - Unsupervised\n",
        "##### **Contribution**    - Team\n",
        "##### **Team Member 1 - Kaustubh Amare**\n",
        "##### **Team Member 2 - Md Nawab Ali**\n",
        "##### **Team Member 3 - Jahnavi Jaolekar**\n"
      ],
      "metadata": {
        "id": "beRrZCGUAJYm"
      }
    },
    {
      "cell_type": "markdown",
      "source": [
        "# **Project Summary -**"
      ],
      "metadata": {
        "id": "FJNUwmbgGyua"
      }
    },
    {
      "cell_type": "markdown",
      "source": [
        "Write the summary here within 500-600 words."
      ],
      "metadata": {
        "id": "F6v_1wHtG2nS"
      }
    },
    {
      "cell_type": "markdown",
      "source": [
        "# **GitHub Link -**"
      ],
      "metadata": {
        "id": "w6K7xa23Elo4"
      }
    },
    {
      "cell_type": "markdown",
      "source": [
        "Provide your GitHub Link here."
      ],
      "metadata": {
        "id": "h1o69JH3Eqqn"
      }
    },
    {
      "cell_type": "markdown",
      "source": [
        "# **Problem Statement**\n"
      ],
      "metadata": {
        "id": "yQaldy8SH6Dl"
      }
    },
    {
      "cell_type": "markdown",
      "source": [
        "**Write Problem Statement Here.**"
      ],
      "metadata": {
        "id": "DpeJGUA3kjGy"
      }
    },
    {
      "cell_type": "markdown",
      "source": [
        "# **General Guidelines** : -  "
      ],
      "metadata": {
        "id": "mDgbUHAGgjLW"
      }
    },
    {
      "cell_type": "markdown",
      "source": [
        "1.   Well-structured, formatted, and commented code is required. \n",
        "2.   Exception Handling, Production Grade Code & Deployment Ready Code will be a plus. Those students will be awarded some additional credits. \n",
        "     \n",
        "     The additional credits will have advantages over other students during Star Student selection.\n",
        "       \n",
        "             [ Note: - Deployment Ready Code is defined as, the whole .ipynb notebook should be executable in one go\n",
        "                       without a single error logged. ]\n",
        "\n",
        "3.   Each and every logic should have proper comments.\n",
        "4. You may add as many number of charts you want. Make Sure for each and every chart the following format should be answered.\n",
        "        \n",
        "\n",
        "```\n",
        "# Chart visualization code\n",
        "```\n",
        "            \n",
        "\n",
        "*   Why did you pick the specific chart?\n",
        "*   What is/are the insight(s) found from the chart?\n",
        "* Will the gained insights help creating a positive business impact? \n",
        "Are there any insights that lead to negative growth? Justify with specific reason.\n",
        "\n",
        "5. You have to create at least 15 logical & meaningful charts having important insights.\n",
        "\n",
        "\n",
        "[ Hints : - Do the Vizualization in  a structured way while following \"UBM\" Rule. \n",
        "\n",
        "U - Univariate Analysis,\n",
        "\n",
        "B - Bivariate Analysis (Numerical - Categorical, Numerical - Numerical, Categorical - Categorical)\n",
        "\n",
        "M - Multivariate Analysis\n",
        " ]\n",
        "\n",
        "\n",
        "\n",
        "\n",
        "\n",
        "6. You may add more ml algorithms for model creation. Make sure for each and every algorithm, the following format should be answered.\n",
        "\n",
        "\n",
        "*   Explain the ML Model used and it's performance using Evaluation metric Score Chart.\n",
        "\n",
        "\n",
        "*   Cross- Validation & Hyperparameter Tuning\n",
        "\n",
        "*   Have you seen any improvement? Note down the improvement with updates Evaluation metric Score Chart.\n",
        "\n",
        "*   Explain each evaluation metric's indication towards business and the business impact pf the ML model used.\n",
        "\n",
        "\n",
        "\n",
        "\n",
        "\n",
        "\n",
        "\n",
        "\n",
        "\n",
        "\n",
        "\n",
        "\n",
        "\n",
        "\n",
        "\n",
        "\n",
        "\n",
        "\n"
      ],
      "metadata": {
        "id": "ZrxVaUj-hHfC"
      }
    },
    {
      "cell_type": "markdown",
      "source": [
        "# ***Let's Begin !***"
      ],
      "metadata": {
        "id": "O_i_v8NEhb9l"
      }
    },
    {
      "cell_type": "markdown",
      "source": [
        "## ***1. Know Your Data***"
      ],
      "metadata": {
        "id": "HhfV-JJviCcP"
      }
    },
    {
      "cell_type": "markdown",
      "source": [
        "### Import Libraries"
      ],
      "metadata": {
        "id": "Y3lxredqlCYt"
      }
    },
    {
      "cell_type": "code",
      "source": [
        "# Import Libraries\n",
        "!pip install xplotter --upgrade\n",
        "!pip install pycountry-convert\n",
        "!pip install geopy\n",
        "!pip install folium\n",
        "!pip install geopandas\n",
        "from xplotter.insights import *\n",
        "from xplotter.formatter import format_spines\n",
        "import numpy as np\n",
        "import pandas as pd\n",
        "from numpy import math\n",
        "import seaborn as sns\n",
        "import matplotlib.pyplot as plt\n",
        "import matplotlib.ticker as mtick\n",
        "from matplotlib.pyplot import figure\n",
        "import plotly.graph_objects as go\n",
        "import plotly.offline as py\n",
        "import plotly.express as px\n",
        "from plotly.subplots import make_subplots\n",
        "import matplotlib.cm as cm\n",
        "!pip install missingno\n",
        "import missingno as msno\n",
        "from dateutil.parser import parse\n",
        "import collections as c\n",
        "import re\n",
        "from wordcloud import WordCloud, STOPWORDS\n",
        "import string, unicodedata\n",
        "import nltk\n",
        "from bs4 import BeautifulSoup\n",
        "from nltk import word_tokenize, sent_tokenize\n",
        "from nltk.corpus import stopwords\n",
        "from nltk.stem import LancasterStemmer, WordNetLemmatizer\n",
        "from sklearn.feature_extraction.text import TfidfVectorizer\n",
        "from sklearn.decomposition import PCA\n",
        "from nltk.stem import WordNetLemmatizer\n",
        "nltk.download('wordnet')\n",
        "import nltk\n",
        "nltk.download('stopwords')\n",
        "from nltk.corpus import stopwords\n",
        "import string\n",
        "string.punctuation\n",
        "nltk.download('omw-1.4')\n",
        "from nltk.tokenize import TweetTokenizer\n",
        "\n",
        "from sklearn.cluster import KMeans\n",
        "from sklearn.metrics import silhouette_samples, silhouette_score\n",
        "from sklearn.cluster import AgglomerativeClustering\n",
        "import scipy.cluster.hierarchy as shc\n",
        "\n",
        "from sklearn.preprocessing import LabelEncoder\n",
        "from sklearn.preprocessing import StandardScaler\n",
        "from sklearn.decomposition import PCA\n",
        "\n",
        "from sklearn.cluster import AffinityPropagation\n",
        "from sklearn.datasets import make_blobs\n",
        "\n",
        "from sklearn.preprocessing import MinMaxScaler\n",
        "from sklearn.preprocessing import MultiLabelBinarizer\n",
        "from sklearn.preprocessing import OneHotEncoder\n",
        "\n",
        "\n",
        "\n",
        "import warnings\n",
        "warnings.filterwarnings('ignore') "
      ],
      "metadata": {
        "id": "M8Vqi-pPk-HR",
        "colab": {
          "base_uri": "https://localhost:8080/"
        },
        "outputId": "387d2435-9c69-4f17-ddc9-0fb07cbb2809"
      },
      "execution_count": 1,
      "outputs": [
        {
          "output_type": "stream",
          "name": "stdout",
          "text": [
            "Looking in indexes: https://pypi.org/simple, https://us-python.pkg.dev/colab-wheels/public/simple/\n",
            "Collecting xplotter\n",
            "  Downloading xplotter-0.0.6-py3-none-any.whl (21 kB)\n",
            "Requirement already satisfied: matplotlib in /usr/local/lib/python3.8/dist-packages (from xplotter) (3.2.2)\n",
            "Requirement already satisfied: pandas in /usr/local/lib/python3.8/dist-packages (from xplotter) (1.3.5)\n",
            "Requirement already satisfied: seaborn in /usr/local/lib/python3.8/dist-packages (from xplotter) (0.11.2)\n",
            "Requirement already satisfied: pyparsing!=2.0.4,!=2.1.2,!=2.1.6,>=2.0.1 in /usr/local/lib/python3.8/dist-packages (from matplotlib->xplotter) (3.0.9)\n",
            "Requirement already satisfied: cycler>=0.10 in /usr/local/lib/python3.8/dist-packages (from matplotlib->xplotter) (0.11.0)\n",
            "Requirement already satisfied: python-dateutil>=2.1 in /usr/local/lib/python3.8/dist-packages (from matplotlib->xplotter) (2.8.2)\n",
            "Requirement already satisfied: kiwisolver>=1.0.1 in /usr/local/lib/python3.8/dist-packages (from matplotlib->xplotter) (1.4.4)\n",
            "Requirement already satisfied: numpy>=1.11 in /usr/local/lib/python3.8/dist-packages (from matplotlib->xplotter) (1.21.6)\n",
            "Requirement already satisfied: six>=1.5 in /usr/local/lib/python3.8/dist-packages (from python-dateutil>=2.1->matplotlib->xplotter) (1.15.0)\n",
            "Requirement already satisfied: pytz>=2017.3 in /usr/local/lib/python3.8/dist-packages (from pandas->xplotter) (2022.6)\n",
            "Requirement already satisfied: scipy>=1.0 in /usr/local/lib/python3.8/dist-packages (from seaborn->xplotter) (1.7.3)\n",
            "Installing collected packages: xplotter\n",
            "Successfully installed xplotter-0.0.6\n",
            "Looking in indexes: https://pypi.org/simple, https://us-python.pkg.dev/colab-wheels/public/simple/\n",
            "Collecting pycountry-convert\n",
            "  Downloading pycountry_convert-0.7.2-py3-none-any.whl (13 kB)\n",
            "Requirement already satisfied: wheel>=0.30.0 in /usr/local/lib/python3.8/dist-packages (from pycountry-convert) (0.38.4)\n",
            "Collecting pprintpp>=0.3.0\n",
            "  Downloading pprintpp-0.4.0-py2.py3-none-any.whl (16 kB)\n",
            "Collecting pycountry>=16.11.27.1\n",
            "  Downloading pycountry-22.3.5.tar.gz (10.1 MB)\n",
            "\u001b[K     |████████████████████████████████| 10.1 MB 20.2 MB/s \n",
            "\u001b[?25h  Installing build dependencies ... \u001b[?25l\u001b[?25hdone\n",
            "  Getting requirements to build wheel ... \u001b[?25l\u001b[?25hdone\n",
            "    Preparing wheel metadata ... \u001b[?25l\u001b[?25hdone\n",
            "Collecting pytest-cov>=2.5.1\n",
            "  Downloading pytest_cov-4.0.0-py3-none-any.whl (21 kB)\n",
            "Requirement already satisfied: pytest>=3.4.0 in /usr/local/lib/python3.8/dist-packages (from pycountry-convert) (3.6.4)\n",
            "Collecting repoze.lru>=0.7\n",
            "  Downloading repoze.lru-0.7-py3-none-any.whl (10 kB)\n",
            "Collecting pytest-mock>=1.6.3\n",
            "  Downloading pytest_mock-3.10.0-py3-none-any.whl (9.3 kB)\n",
            "Requirement already satisfied: setuptools in /usr/local/lib/python3.8/dist-packages (from pycountry>=16.11.27.1->pycountry-convert) (57.4.0)\n",
            "Requirement already satisfied: more-itertools>=4.0.0 in /usr/local/lib/python3.8/dist-packages (from pytest>=3.4.0->pycountry-convert) (9.0.0)\n",
            "Requirement already satisfied: attrs>=17.4.0 in /usr/local/lib/python3.8/dist-packages (from pytest>=3.4.0->pycountry-convert) (22.1.0)\n",
            "Requirement already satisfied: atomicwrites>=1.0 in /usr/local/lib/python3.8/dist-packages (from pytest>=3.4.0->pycountry-convert) (1.4.1)\n",
            "Requirement already satisfied: py>=1.5.0 in /usr/local/lib/python3.8/dist-packages (from pytest>=3.4.0->pycountry-convert) (1.11.0)\n",
            "Requirement already satisfied: pluggy<0.8,>=0.5 in /usr/local/lib/python3.8/dist-packages (from pytest>=3.4.0->pycountry-convert) (0.7.1)\n",
            "Requirement already satisfied: six>=1.10.0 in /usr/local/lib/python3.8/dist-packages (from pytest>=3.4.0->pycountry-convert) (1.15.0)\n",
            "Collecting pytest>=3.4.0\n",
            "  Downloading pytest-7.2.0-py3-none-any.whl (316 kB)\n",
            "\u001b[K     |████████████████████████████████| 316 kB 66.8 MB/s \n",
            "\u001b[?25hCollecting coverage[toml]>=5.2.1\n",
            "  Downloading coverage-7.0.1-cp38-cp38-manylinux_2_5_x86_64.manylinux1_x86_64.manylinux_2_17_x86_64.manylinux2014_x86_64.whl (217 kB)\n",
            "\u001b[K     |████████████████████████████████| 217 kB 87.5 MB/s \n",
            "\u001b[?25hRequirement already satisfied: tomli in /usr/local/lib/python3.8/dist-packages (from coverage[toml]>=5.2.1->pytest-cov>=2.5.1->pycountry-convert) (2.0.1)\n",
            "Collecting iniconfig\n",
            "  Downloading iniconfig-1.1.1-py2.py3-none-any.whl (5.0 kB)\n",
            "Collecting pytest>=3.4.0\n",
            "  Downloading pytest-7.1.3-py3-none-any.whl (298 kB)\n",
            "\u001b[K     |████████████████████████████████| 298 kB 75.7 MB/s \n",
            "\u001b[?25h  Downloading pytest-7.1.2-py3-none-any.whl (297 kB)\n",
            "\u001b[K     |████████████████████████████████| 297 kB 70.3 MB/s \n",
            "\u001b[?25h  Downloading pytest-7.1.1-py3-none-any.whl (297 kB)\n",
            "\u001b[K     |████████████████████████████████| 297 kB 90.4 MB/s \n",
            "\u001b[?25h  Downloading pytest-7.1.0-py3-none-any.whl (297 kB)\n",
            "\u001b[K     |████████████████████████████████| 297 kB 78.1 MB/s \n",
            "\u001b[?25h  Downloading pytest-7.0.1-py3-none-any.whl (296 kB)\n",
            "\u001b[K     |████████████████████████████████| 296 kB 76.0 MB/s \n",
            "\u001b[?25h  Downloading pytest-7.0.0-py3-none-any.whl (296 kB)\n",
            "\u001b[K     |████████████████████████████████| 296 kB 75.6 MB/s \n",
            "\u001b[?25h  Downloading pytest-6.2.5-py3-none-any.whl (280 kB)\n",
            "\u001b[K     |████████████████████████████████| 280 kB 76.8 MB/s \n",
            "\u001b[?25h  Downloading pytest-6.2.4-py3-none-any.whl (280 kB)\n",
            "\u001b[K     |████████████████████████████████| 280 kB 73.6 MB/s \n",
            "\u001b[?25hRequirement already satisfied: toml in /usr/local/lib/python3.8/dist-packages (from pytest>=3.4.0->pycountry-convert) (0.10.2)\n",
            "Requirement already satisfied: packaging in /usr/local/lib/python3.8/dist-packages (from pytest>=3.4.0->pycountry-convert) (21.3)\n",
            "  Downloading pytest-6.2.3-py3-none-any.whl (280 kB)\n",
            "\u001b[K     |████████████████████████████████| 280 kB 86.1 MB/s \n",
            "\u001b[?25h  Downloading pytest-6.2.2-py3-none-any.whl (280 kB)\n",
            "\u001b[K     |████████████████████████████████| 280 kB 66.9 MB/s \n",
            "\u001b[?25h  Downloading pytest-6.2.1-py3-none-any.whl (279 kB)\n",
            "\u001b[K     |████████████████████████████████| 279 kB 70.6 MB/s \n",
            "\u001b[?25h  Downloading pytest-6.2.0-py3-none-any.whl (279 kB)\n",
            "\u001b[K     |████████████████████████████████| 279 kB 66.8 MB/s \n",
            "\u001b[?25h  Downloading pytest-6.1.2-py3-none-any.whl (272 kB)\n",
            "\u001b[K     |████████████████████████████████| 272 kB 69.6 MB/s \n",
            "\u001b[?25h  Downloading pytest-6.1.1-py3-none-any.whl (272 kB)\n",
            "\u001b[K     |████████████████████████████████| 272 kB 76.1 MB/s \n",
            "\u001b[?25h  Downloading pytest-6.1.0-py3-none-any.whl (272 kB)\n",
            "\u001b[K     |████████████████████████████████| 272 kB 60.2 MB/s \n",
            "\u001b[?25h  Downloading pytest-6.0.2-py3-none-any.whl (270 kB)\n",
            "\u001b[K     |████████████████████████████████| 270 kB 70.9 MB/s \n",
            "\u001b[?25h  Downloading pytest-6.0.1-py3-none-any.whl (270 kB)\n",
            "\u001b[K     |████████████████████████████████| 270 kB 70.6 MB/s \n",
            "\u001b[?25h  Downloading pytest-6.0.0-py3-none-any.whl (270 kB)\n",
            "\u001b[K     |████████████████████████████████| 270 kB 67.6 MB/s \n",
            "\u001b[?25h  Downloading pytest-5.4.3-py3-none-any.whl (248 kB)\n",
            "\u001b[K     |████████████████████████████████| 248 kB 82.6 MB/s \n",
            "\u001b[?25h  Downloading pytest-5.4.2-py3-none-any.whl (247 kB)\n",
            "\u001b[K     |████████████████████████████████| 247 kB 68.4 MB/s \n",
            "\u001b[?25h  Downloading pytest-5.4.1-py3-none-any.whl (246 kB)\n",
            "\u001b[K     |████████████████████████████████| 246 kB 78.4 MB/s \n",
            "\u001b[?25h  Downloading pytest-5.4.0-py3-none-any.whl (247 kB)\n",
            "\u001b[K     |████████████████████████████████| 247 kB 78.1 MB/s \n",
            "\u001b[?25h  Downloading pytest-5.3.5-py3-none-any.whl (235 kB)\n",
            "\u001b[K     |████████████████████████████████| 235 kB 67.6 MB/s \n",
            "\u001b[?25h  Downloading pytest-5.3.4-py3-none-any.whl (235 kB)\n",
            "\u001b[K     |████████████████████████████████| 235 kB 68.6 MB/s \n",
            "\u001b[?25h  Downloading pytest-5.3.3-py3-none-any.whl (235 kB)\n",
            "\u001b[K     |████████████████████████████████| 235 kB 53.7 MB/s \n",
            "\u001b[?25h  Downloading pytest-5.3.2-py3-none-any.whl (234 kB)\n",
            "\u001b[K     |████████████████████████████████| 234 kB 67.3 MB/s \n",
            "\u001b[?25h  Downloading pytest-5.3.1-py3-none-any.whl (233 kB)\n",
            "\u001b[K     |████████████████████████████████| 233 kB 94.9 MB/s \n",
            "\u001b[?25h  Downloading pytest-5.3.0-py3-none-any.whl (233 kB)\n",
            "\u001b[K     |████████████████████████████████| 233 kB 58.1 MB/s \n",
            "\u001b[?25h  Downloading pytest-5.2.4-py3-none-any.whl (227 kB)\n",
            "\u001b[K     |████████████████████████████████| 227 kB 69.2 MB/s \n",
            "\u001b[?25h  Downloading pytest-5.2.3-py3-none-any.whl (227 kB)\n",
            "\u001b[K     |████████████████████████████████| 227 kB 63.1 MB/s \n",
            "\u001b[?25h  Downloading pytest-5.2.2-py3-none-any.whl (227 kB)\n",
            "\u001b[K     |████████████████████████████████| 227 kB 69.8 MB/s \n",
            "\u001b[?25h  Downloading pytest-5.2.1-py3-none-any.whl (226 kB)\n",
            "\u001b[K     |████████████████████████████████| 226 kB 96.5 MB/s \n",
            "\u001b[?25h  Downloading pytest-5.2.0-py3-none-any.whl (226 kB)\n",
            "\u001b[K     |████████████████████████████████| 226 kB 81.3 MB/s \n",
            "\u001b[?25h  Downloading pytest-5.1.3-py3-none-any.whl (224 kB)\n",
            "\u001b[K     |████████████████████████████████| 224 kB 68.4 MB/s \n",
            "\u001b[?25h  Downloading pytest-5.1.2-py3-none-any.whl (224 kB)\n",
            "\u001b[K     |████████████████████████████████| 224 kB 77.2 MB/s \n",
            "\u001b[?25h  Downloading pytest-5.1.1-py3-none-any.whl (223 kB)\n",
            "\u001b[K     |████████████████████████████████| 223 kB 78.3 MB/s \n",
            "\u001b[?25h  Downloading pytest-5.1.0-py3-none-any.whl (223 kB)\n",
            "\u001b[K     |████████████████████████████████| 223 kB 64.2 MB/s \n",
            "\u001b[?25h  Downloading pytest-5.0.1-py3-none-any.whl (221 kB)\n",
            "\u001b[K     |████████████████████████████████| 221 kB 54.1 MB/s \n",
            "\u001b[?25h  Downloading pytest-5.0.0-py3-none-any.whl (221 kB)\n",
            "\u001b[K     |████████████████████████████████| 221 kB 56.4 MB/s \n",
            "\u001b[?25h  Downloading pytest-4.6.11-py2.py3-none-any.whl (231 kB)\n",
            "\u001b[K     |████████████████████████████████| 231 kB 71.2 MB/s \n",
            "\u001b[?25h  Downloading pytest-4.6.10-py2.py3-none-any.whl (231 kB)\n",
            "\u001b[K     |████████████████████████████████| 231 kB 72.4 MB/s \n",
            "\u001b[?25h  Downloading pytest-4.6.9-py2.py3-none-any.whl (231 kB)\n",
            "\u001b[K     |████████████████████████████████| 231 kB 75.0 MB/s \n",
            "\u001b[?25h  Downloading pytest-4.6.8-py2.py3-none-any.whl (230 kB)\n",
            "\u001b[K     |████████████████████████████████| 230 kB 80.6 MB/s \n",
            "\u001b[?25h  Downloading pytest-4.6.7-py2.py3-none-any.whl (230 kB)\n",
            "\u001b[K     |████████████████████████████████| 230 kB 63.2 MB/s \n",
            "\u001b[?25h  Downloading pytest-4.6.6-py2.py3-none-any.whl (230 kB)\n",
            "\u001b[K     |████████████████████████████████| 230 kB 37.5 MB/s \n",
            "\u001b[?25h  Downloading pytest-4.6.5-py2.py3-none-any.whl (230 kB)\n",
            "\u001b[K     |████████████████████████████████| 230 kB 65.9 MB/s \n",
            "\u001b[?25h  Downloading pytest-4.6.4-py2.py3-none-any.whl (229 kB)\n",
            "\u001b[K     |████████████████████████████████| 229 kB 63.0 MB/s \n",
            "\u001b[?25h  Downloading pytest-4.6.3-py2.py3-none-any.whl (229 kB)\n",
            "\u001b[K     |████████████████████████████████| 229 kB 47.0 MB/s \n",
            "\u001b[?25h  Downloading pytest-4.6.2-py2.py3-none-any.whl (229 kB)\n",
            "\u001b[K     |████████████████████████████████| 229 kB 57.8 MB/s \n",
            "\u001b[?25h  Downloading pytest-4.6.1-py2.py3-none-any.whl (229 kB)\n",
            "\u001b[K     |████████████████████████████████| 229 kB 58.0 MB/s \n",
            "\u001b[?25h  Downloading pytest-4.6.0-py2.py3-none-any.whl (229 kB)\n",
            "\u001b[K     |████████████████████████████████| 229 kB 50.3 MB/s \n",
            "\u001b[?25hINFO: pip is looking at multiple versions of coverage to determine which version is compatible with other requirements. This could take a while.\n",
            "INFO: pip is looking at multiple versions of coverage[toml] to determine which version is compatible with other requirements. This could take a while.\n",
            "Collecting coverage[toml]>=5.2.1\n",
            "  Downloading coverage-7.0.0-cp38-cp38-manylinux_2_5_x86_64.manylinux1_x86_64.manylinux_2_17_x86_64.manylinux2014_x86_64.whl (217 kB)\n",
            "\u001b[K     |████████████████████████████████| 217 kB 64.3 MB/s \n",
            "\u001b[?25h  Downloading coverage-6.5.0-cp38-cp38-manylinux_2_5_x86_64.manylinux1_x86_64.manylinux_2_17_x86_64.manylinux2014_x86_64.whl (214 kB)\n",
            "\u001b[K     |████████████████████████████████| 214 kB 51.0 MB/s \n",
            "\u001b[?25h  Downloading coverage-6.4.4-cp38-cp38-manylinux_2_5_x86_64.manylinux1_x86_64.manylinux_2_17_x86_64.manylinux2014_x86_64.whl (213 kB)\n",
            "\u001b[K     |████████████████████████████████| 213 kB 66.9 MB/s \n",
            "\u001b[?25h  Downloading coverage-6.4.3-cp38-cp38-manylinux_2_5_x86_64.manylinux1_x86_64.manylinux_2_17_x86_64.manylinux2014_x86_64.whl (213 kB)\n",
            "\u001b[K     |████████████████████████████████| 213 kB 69.3 MB/s \n",
            "\u001b[?25h  Downloading coverage-6.4.2-cp38-cp38-manylinux_2_5_x86_64.manylinux1_x86_64.manylinux_2_17_x86_64.manylinux2014_x86_64.whl (213 kB)\n",
            "\u001b[K     |████████████████████████████████| 213 kB 68.7 MB/s \n",
            "\u001b[?25h  Downloading coverage-6.4.1-cp38-cp38-manylinux_2_5_x86_64.manylinux1_x86_64.manylinux_2_17_x86_64.manylinux2014_x86_64.whl (213 kB)\n",
            "\u001b[K     |████████████████████████████████| 213 kB 69.8 MB/s \n",
            "\u001b[?25h  Downloading coverage-6.4-cp38-cp38-manylinux_2_5_x86_64.manylinux1_x86_64.manylinux_2_17_x86_64.manylinux2014_x86_64.whl (212 kB)\n",
            "\u001b[K     |████████████████████████████████| 212 kB 42.3 MB/s \n",
            "\u001b[?25hINFO: pip is looking at multiple versions of coverage to determine which version is compatible with other requirements. This could take a while.\n",
            "INFO: pip is looking at multiple versions of coverage[toml] to determine which version is compatible with other requirements. This could take a while.\n",
            "  Downloading coverage-6.3.3-cp38-cp38-manylinux_2_5_x86_64.manylinux1_x86_64.manylinux_2_17_x86_64.manylinux2014_x86_64.whl (212 kB)\n",
            "\u001b[K     |████████████████████████████████| 212 kB 85.9 MB/s \n",
            "\u001b[?25h  Downloading coverage-6.3.2-cp38-cp38-manylinux_2_5_x86_64.manylinux1_x86_64.manylinux_2_17_x86_64.manylinux2014_x86_64.whl (212 kB)\n",
            "\u001b[K     |████████████████████████████████| 212 kB 97.5 MB/s \n",
            "\u001b[?25h  Downloading coverage-6.3.1-cp38-cp38-manylinux_2_5_x86_64.manylinux1_x86_64.manylinux_2_17_x86_64.manylinux2014_x86_64.whl (211 kB)\n",
            "\u001b[K     |████████████████████████████████| 211 kB 83.6 MB/s \n",
            "\u001b[?25h  Downloading coverage-6.3-cp38-cp38-manylinux_2_5_x86_64.manylinux1_x86_64.manylinux_2_17_x86_64.manylinux2014_x86_64.whl (211 kB)\n",
            "\u001b[K     |████████████████████████████████| 211 kB 67.3 MB/s \n",
            "\u001b[?25h  Downloading coverage-6.2-cp38-cp38-manylinux_2_5_x86_64.manylinux1_x86_64.manylinux_2_12_x86_64.manylinux2010_x86_64.whl (217 kB)\n",
            "\u001b[K     |████████████████████████████████| 217 kB 67.3 MB/s \n",
            "\u001b[?25hINFO: This is taking longer than usual. You might need to provide the dependency resolver with stricter constraints to reduce runtime. If you want to abort this run, you can press Ctrl + C to do so. To improve how pip performs, tell us what happened here: https://pip.pypa.io/surveys/backtracking\n",
            "INFO: This is taking longer than usual. You might need to provide the dependency resolver with stricter constraints to reduce runtime. If you want to abort this run, you can press Ctrl + C to do so. To improve how pip performs, tell us what happened here: https://pip.pypa.io/surveys/backtracking\n",
            "  Downloading coverage-6.1.2-cp38-cp38-manylinux_2_5_x86_64.manylinux1_x86_64.manylinux_2_12_x86_64.manylinux2010_x86_64.whl (216 kB)\n",
            "\u001b[K     |████████████████████████████████| 216 kB 60.0 MB/s \n",
            "\u001b[?25h  Downloading coverage-6.1.1-cp38-cp38-manylinux_2_5_x86_64.manylinux1_x86_64.manylinux_2_12_x86_64.manylinux2010_x86_64.whl (216 kB)\n",
            "\u001b[K     |████████████████████████████████| 216 kB 64.7 MB/s \n",
            "\u001b[?25h  Downloading coverage-6.1-cp38-cp38-manylinux_2_5_x86_64.manylinux1_x86_64.manylinux_2_12_x86_64.manylinux2010_x86_64.whl (216 kB)\n",
            "\u001b[K     |████████████████████████████████| 216 kB 65.4 MB/s \n",
            "\u001b[?25h  Downloading coverage-6.0.2-cp38-cp38-manylinux_2_5_x86_64.manylinux1_x86_64.manylinux_2_12_x86_64.manylinux2010_x86_64.whl (256 kB)\n",
            "\u001b[K     |████████████████████████████████| 256 kB 54.9 MB/s \n",
            "\u001b[?25h  Downloading coverage-6.0.1-cp38-cp38-manylinux_2_5_x86_64.manylinux1_x86_64.manylinux_2_12_x86_64.manylinux2010_x86_64.whl (255 kB)\n",
            "\u001b[K     |████████████████████████████████| 255 kB 59.0 MB/s \n",
            "\u001b[?25h  Downloading coverage-6.0-cp38-cp38-manylinux_2_5_x86_64.manylinux1_x86_64.manylinux_2_12_x86_64.manylinux2010_x86_64.whl (255 kB)\n",
            "\u001b[K     |████████████████████████████████| 255 kB 64.8 MB/s \n",
            "\u001b[?25h  Downloading coverage-5.5-cp38-cp38-manylinux2010_x86_64.whl (245 kB)\n",
            "\u001b[K     |████████████████████████████████| 245 kB 47.5 MB/s \n",
            "\u001b[?25h  Downloading coverage-5.4-cp38-cp38-manylinux2010_x86_64.whl (245 kB)\n",
            "\u001b[K     |████████████████████████████████| 245 kB 68.2 MB/s \n",
            "\u001b[?25h  Downloading coverage-5.3.1-cp38-cp38-manylinux2010_x86_64.whl (245 kB)\n",
            "\u001b[K     |████████████████████████████████| 245 kB 75.8 MB/s \n",
            "\u001b[?25h  Downloading coverage-5.3-cp38-cp38-manylinux1_x86_64.whl (230 kB)\n",
            "\u001b[K     |████████████████████████████████| 230 kB 57.3 MB/s \n",
            "\u001b[?25h  Downloading coverage-5.2.1-cp38-cp38-manylinux1_x86_64.whl (231 kB)\n",
            "\u001b[K     |████████████████████████████████| 231 kB 65.3 MB/s \n",
            "\u001b[?25hINFO: pip is looking at multiple versions of pytest-cov to determine which version is compatible with other requirements. This could take a while.\n",
            "Collecting pytest-cov>=2.5.1\n",
            "  Downloading pytest_cov-3.0.0-py3-none-any.whl (20 kB)\n",
            "  Downloading pytest_cov-2.12.1-py2.py3-none-any.whl (20 kB)\n",
            "  Downloading pytest_cov-2.12.0-py2.py3-none-any.whl (20 kB)\n",
            "  Downloading pytest_cov-2.11.1-py2.py3-none-any.whl (20 kB)\n",
            "  Downloading pytest_cov-2.11.0-py2.py3-none-any.whl (20 kB)\n",
            "  Downloading pytest_cov-2.10.1-py2.py3-none-any.whl (19 kB)\n",
            "Collecting coverage>=4.4\n",
            "  Downloading coverage-5.2-cp38-cp38-manylinux1_x86_64.whl (231 kB)\n",
            "\u001b[K     |████████████████████████████████| 231 kB 66.8 MB/s \n",
            "\u001b[?25h  Downloading coverage-5.1-cp38-cp38-manylinux1_x86_64.whl (229 kB)\n",
            "\u001b[K     |████████████████████████████████| 229 kB 61.7 MB/s \n",
            "\u001b[?25h  Downloading coverage-5.0.4-cp38-cp38-manylinux1_x86_64.whl (228 kB)\n",
            "\u001b[K     |████████████████████████████████| 228 kB 74.4 MB/s \n",
            "\u001b[?25h  Downloading coverage-5.0.3-cp38-cp38-manylinux1_x86_64.whl (228 kB)\n",
            "\u001b[K     |████████████████████████████████| 228 kB 35.9 MB/s \n",
            "\u001b[?25h  Downloading coverage-5.0.2-cp38-cp38-manylinux1_x86_64.whl (228 kB)\n",
            "\u001b[K     |████████████████████████████████| 228 kB 83.2 MB/s \n",
            "\u001b[?25h  Downloading coverage-5.0.1-cp38-cp38-manylinux1_x86_64.whl (228 kB)\n",
            "\u001b[K     |████████████████████████████████| 228 kB 58.6 MB/s \n",
            "\u001b[?25h  Downloading coverage-5.0-cp38-cp38-manylinux1_x86_64.whl (227 kB)\n",
            "\u001b[K     |████████████████████████████████| 227 kB 51.5 MB/s \n",
            "\u001b[?25h  Downloading coverage-4.5.4.tar.gz (385 kB)\n",
            "\u001b[K     |████████████████████████████████| 385 kB 55.9 MB/s \n",
            "\u001b[?25h  Downloading coverage-4.5.3.tar.gz (384 kB)\n",
            "\u001b[K     |████████████████████████████████| 384 kB 60.0 MB/s \n",
            "\u001b[?25h  Downloading coverage-4.5.2.tar.gz (384 kB)\n",
            "\u001b[K     |████████████████████████████████| 384 kB 80.7 MB/s \n",
            "\u001b[?25h  Downloading coverage-4.5.1.tar.gz (379 kB)\n",
            "\u001b[K     |████████████████████████████████| 379 kB 89.7 MB/s \n",
            "\u001b[?25h  Downloading coverage-4.5.tar.gz (378 kB)\n",
            "\u001b[K     |████████████████████████████████| 378 kB 64.7 MB/s \n",
            "\u001b[?25h  Downloading coverage-4.4.2.tar.gz (374 kB)\n",
            "\u001b[K     |████████████████████████████████| 374 kB 69.0 MB/s \n",
            "\u001b[?25h  Downloading coverage-4.4.1.tar.gz (369 kB)\n",
            "\u001b[K     |████████████████████████████████| 369 kB 54.5 MB/s \n",
            "\u001b[?25h  Downloading coverage-4.4.tar.gz (369 kB)\n",
            "\u001b[K     |████████████████████████████████| 369 kB 67.6 MB/s \n",
            "\u001b[?25hCollecting pytest-cov>=2.5.1\n",
            "  Downloading pytest_cov-2.10.0-py2.py3-none-any.whl (19 kB)\n",
            "INFO: pip is looking at multiple versions of pytest-cov to determine which version is compatible with other requirements. This could take a while.\n",
            "  Downloading pytest_cov-2.9.0-py2.py3-none-any.whl (19 kB)\n",
            "INFO: pip is looking at multiple versions of pytest-mock to determine which version is compatible with other requirements. This could take a while.\n",
            "Collecting pytest-mock>=1.6.3\n",
            "  Downloading pytest_mock-3.9.0-py3-none-any.whl (9.1 kB)\n",
            "  Downloading pytest_mock-3.8.2-py3-none-any.whl (9.1 kB)\n",
            "  Downloading pytest_mock-3.8.1-py3-none-any.whl (9.1 kB)\n",
            "  Downloading pytest_mock-3.8.0-py3-none-any.whl (9.1 kB)\n",
            "  Downloading pytest_mock-3.7.0-py3-none-any.whl (12 kB)\n",
            "  Downloading pytest_mock-3.6.1-py3-none-any.whl (12 kB)\n",
            "  Downloading pytest_mock-3.6.0-py3-none-any.whl (12 kB)\n",
            "INFO: pip is looking at multiple versions of pytest-mock to determine which version is compatible with other requirements. This could take a while.\n",
            "  Downloading pytest_mock-3.5.1-py3-none-any.whl (12 kB)\n",
            "  Downloading pytest_mock-3.5.0-py3-none-any.whl (12 kB)\n",
            "  Downloading pytest_mock-3.4.0-py3-none-any.whl (11 kB)\n",
            "  Downloading pytest_mock-3.3.1-py3-none-any.whl (11 kB)\n",
            "  Downloading pytest_mock-3.3.0-py3-none-any.whl (11 kB)\n",
            "INFO: This is taking longer than usual. You might need to provide the dependency resolver with stricter constraints to reduce runtime. If you want to abort this run, you can press Ctrl + C to do so. To improve how pip performs, tell us what happened here: https://pip.pypa.io/surveys/backtracking\n",
            "  Downloading pytest_mock-3.2.0-py3-none-any.whl (10 kB)\n",
            "Building wheels for collected packages: pycountry\n",
            "  Building wheel for pycountry (PEP 517) ... \u001b[?25l\u001b[?25hdone\n",
            "  Created wheel for pycountry: filename=pycountry-22.3.5-py2.py3-none-any.whl size=10681845 sha256=7eedb3d8894a1474932010fda2730ea2423c5bcc18fd72d824db4bbd4038ef94\n",
            "  Stored in directory: /root/.cache/pip/wheels/e2/aa/0f/c224e473b464387170b83ca7c66947b4a7e33e8d903a679748\n",
            "Successfully built pycountry\n",
            "Installing collected packages: coverage, repoze.lru, pytest-mock, pytest-cov, pycountry, pprintpp, pycountry-convert\n",
            "Successfully installed coverage-7.0.1 pprintpp-0.4.0 pycountry-22.3.5 pycountry-convert-0.7.2 pytest-cov-2.9.0 pytest-mock-3.2.0 repoze.lru-0.7\n",
            "Looking in indexes: https://pypi.org/simple, https://us-python.pkg.dev/colab-wheels/public/simple/\n",
            "Requirement already satisfied: geopy in /usr/local/lib/python3.8/dist-packages (1.17.0)\n",
            "Requirement already satisfied: geographiclib<2,>=1.49 in /usr/local/lib/python3.8/dist-packages (from geopy) (1.52)\n",
            "Looking in indexes: https://pypi.org/simple, https://us-python.pkg.dev/colab-wheels/public/simple/\n",
            "Requirement already satisfied: folium in /usr/local/lib/python3.8/dist-packages (0.12.1.post1)\n",
            "Requirement already satisfied: branca>=0.3.0 in /usr/local/lib/python3.8/dist-packages (from folium) (0.6.0)\n",
            "Requirement already satisfied: requests in /usr/local/lib/python3.8/dist-packages (from folium) (2.23.0)\n",
            "Requirement already satisfied: jinja2>=2.9 in /usr/local/lib/python3.8/dist-packages (from folium) (2.11.3)\n",
            "Requirement already satisfied: numpy in /usr/local/lib/python3.8/dist-packages (from folium) (1.21.6)\n",
            "Requirement already satisfied: MarkupSafe>=0.23 in /usr/local/lib/python3.8/dist-packages (from jinja2>=2.9->folium) (2.0.1)\n",
            "Requirement already satisfied: idna<3,>=2.5 in /usr/local/lib/python3.8/dist-packages (from requests->folium) (2.10)\n",
            "Requirement already satisfied: chardet<4,>=3.0.2 in /usr/local/lib/python3.8/dist-packages (from requests->folium) (3.0.4)\n",
            "Requirement already satisfied: certifi>=2017.4.17 in /usr/local/lib/python3.8/dist-packages (from requests->folium) (2022.12.7)\n",
            "Requirement already satisfied: urllib3!=1.25.0,!=1.25.1,<1.26,>=1.21.1 in /usr/local/lib/python3.8/dist-packages (from requests->folium) (1.24.3)\n",
            "Looking in indexes: https://pypi.org/simple, https://us-python.pkg.dev/colab-wheels/public/simple/\n",
            "Collecting geopandas\n",
            "  Downloading geopandas-0.12.2-py3-none-any.whl (1.1 MB)\n",
            "\u001b[K     |████████████████████████████████| 1.1 MB 31.4 MB/s \n",
            "\u001b[?25hCollecting fiona>=1.8\n",
            "  Downloading Fiona-1.8.22-cp38-cp38-manylinux_2_17_x86_64.manylinux2014_x86_64.whl (16.6 MB)\n",
            "\u001b[K     |████████████████████████████████| 16.6 MB 122 kB/s \n",
            "\u001b[?25hRequirement already satisfied: shapely>=1.7 in /usr/local/lib/python3.8/dist-packages (from geopandas) (2.0.0)\n",
            "Requirement already satisfied: packaging in /usr/local/lib/python3.8/dist-packages (from geopandas) (21.3)\n",
            "Requirement already satisfied: pandas>=1.0.0 in /usr/local/lib/python3.8/dist-packages (from geopandas) (1.3.5)\n",
            "Collecting pyproj>=2.6.1.post1\n",
            "  Downloading pyproj-3.4.1-cp38-cp38-manylinux_2_17_x86_64.manylinux2014_x86_64.whl (7.8 MB)\n",
            "\u001b[K     |████████████████████████████████| 7.8 MB 72.6 MB/s \n",
            "\u001b[?25hCollecting munch\n",
            "  Downloading munch-2.5.0-py2.py3-none-any.whl (10 kB)\n",
            "Requirement already satisfied: attrs>=17 in /usr/local/lib/python3.8/dist-packages (from fiona>=1.8->geopandas) (22.1.0)\n",
            "Collecting click-plugins>=1.0\n",
            "  Downloading click_plugins-1.1.1-py2.py3-none-any.whl (7.5 kB)\n",
            "Requirement already satisfied: six>=1.7 in /usr/local/lib/python3.8/dist-packages (from fiona>=1.8->geopandas) (1.15.0)\n",
            "Collecting cligj>=0.5\n",
            "  Downloading cligj-0.7.2-py3-none-any.whl (7.1 kB)\n",
            "Requirement already satisfied: certifi in /usr/local/lib/python3.8/dist-packages (from fiona>=1.8->geopandas) (2022.12.7)\n",
            "Requirement already satisfied: setuptools in /usr/local/lib/python3.8/dist-packages (from fiona>=1.8->geopandas) (57.4.0)\n",
            "Requirement already satisfied: click>=4.0 in /usr/local/lib/python3.8/dist-packages (from fiona>=1.8->geopandas) (7.1.2)\n",
            "Requirement already satisfied: python-dateutil>=2.7.3 in /usr/local/lib/python3.8/dist-packages (from pandas>=1.0.0->geopandas) (2.8.2)\n",
            "Requirement already satisfied: pytz>=2017.3 in /usr/local/lib/python3.8/dist-packages (from pandas>=1.0.0->geopandas) (2022.6)\n",
            "Requirement already satisfied: numpy>=1.17.3 in /usr/local/lib/python3.8/dist-packages (from pandas>=1.0.0->geopandas) (1.21.6)\n",
            "Requirement already satisfied: pyparsing!=3.0.5,>=2.0.2 in /usr/local/lib/python3.8/dist-packages (from packaging->geopandas) (3.0.9)\n",
            "Installing collected packages: munch, cligj, click-plugins, pyproj, fiona, geopandas\n",
            "Successfully installed click-plugins-1.1.1 cligj-0.7.2 fiona-1.8.22 geopandas-0.12.2 munch-2.5.0 pyproj-3.4.1\n",
            "Looking in indexes: https://pypi.org/simple, https://us-python.pkg.dev/colab-wheels/public/simple/\n",
            "Requirement already satisfied: missingno in /usr/local/lib/python3.8/dist-packages (0.5.1)\n",
            "Requirement already satisfied: matplotlib in /usr/local/lib/python3.8/dist-packages (from missingno) (3.2.2)\n",
            "Requirement already satisfied: seaborn in /usr/local/lib/python3.8/dist-packages (from missingno) (0.11.2)\n",
            "Requirement already satisfied: scipy in /usr/local/lib/python3.8/dist-packages (from missingno) (1.7.3)\n",
            "Requirement already satisfied: numpy in /usr/local/lib/python3.8/dist-packages (from missingno) (1.21.6)\n",
            "Requirement already satisfied: pyparsing!=2.0.4,!=2.1.2,!=2.1.6,>=2.0.1 in /usr/local/lib/python3.8/dist-packages (from matplotlib->missingno) (3.0.9)\n",
            "Requirement already satisfied: python-dateutil>=2.1 in /usr/local/lib/python3.8/dist-packages (from matplotlib->missingno) (2.8.2)\n",
            "Requirement already satisfied: kiwisolver>=1.0.1 in /usr/local/lib/python3.8/dist-packages (from matplotlib->missingno) (1.4.4)\n",
            "Requirement already satisfied: cycler>=0.10 in /usr/local/lib/python3.8/dist-packages (from matplotlib->missingno) (0.11.0)\n",
            "Requirement already satisfied: six>=1.5 in /usr/local/lib/python3.8/dist-packages (from python-dateutil>=2.1->matplotlib->missingno) (1.15.0)\n",
            "Requirement already satisfied: pandas>=0.23 in /usr/local/lib/python3.8/dist-packages (from seaborn->missingno) (1.3.5)\n",
            "Requirement already satisfied: pytz>=2017.3 in /usr/local/lib/python3.8/dist-packages (from pandas>=0.23->seaborn->missingno) (2022.6)\n"
          ]
        },
        {
          "output_type": "stream",
          "name": "stderr",
          "text": [
            "[nltk_data] Downloading package wordnet to /root/nltk_data...\n",
            "[nltk_data] Downloading package stopwords to /root/nltk_data...\n",
            "[nltk_data]   Unzipping corpora/stopwords.zip.\n",
            "[nltk_data] Downloading package omw-1.4 to /root/nltk_data...\n"
          ]
        }
      ]
    },
    {
      "cell_type": "markdown",
      "source": [
        "### Dataset Loading"
      ],
      "metadata": {
        "id": "3RnN4peoiCZX"
      }
    },
    {
      "cell_type": "code",
      "source": [
        "from google.colab import drive\n",
        "drive.mount('/content/drive')"
      ],
      "metadata": {
        "colab": {
          "base_uri": "https://localhost:8080/"
        },
        "id": "qP28MGQvRbxW",
        "outputId": "ec3aa9ba-c95a-4f49-bcff-e1a8d5456aa4"
      },
      "execution_count": 2,
      "outputs": [
        {
          "output_type": "stream",
          "name": "stdout",
          "text": [
            "Mounted at /content/drive\n"
          ]
        }
      ]
    },
    {
      "cell_type": "code",
      "source": [
        "# Load Dataset\n",
        "nfx_df=pd.read_csv('/content/drive/MyDrive/capstone project 4/NETFLIX MOVIES AND TV SHOWS CLUSTERING.csv')"
      ],
      "metadata": {
        "id": "4CkvbW_SlZ_R"
      },
      "execution_count": 3,
      "outputs": []
    },
    {
      "cell_type": "markdown",
      "source": [
        "### Dataset First View"
      ],
      "metadata": {
        "id": "x71ZqKXriCWQ"
      }
    },
    {
      "cell_type": "code",
      "source": [
        "# Dataset First Look\n",
        "nfx_df.head()"
      ],
      "metadata": {
        "id": "LWNFOSvLl09H",
        "colab": {
          "base_uri": "https://localhost:8080/",
          "height": 337
        },
        "outputId": "fb5d5100-3c6c-4b04-98d7-743ca2ed4eac"
      },
      "execution_count": 4,
      "outputs": [
        {
          "output_type": "execute_result",
          "data": {
            "text/plain": [
              "  show_id     type  title           director  \\\n",
              "0      s1  TV Show     3%                NaN   \n",
              "1      s2    Movie   7:19  Jorge Michel Grau   \n",
              "2      s3    Movie  23:59       Gilbert Chan   \n",
              "3      s4    Movie      9        Shane Acker   \n",
              "4      s5    Movie     21     Robert Luketic   \n",
              "\n",
              "                                                cast        country  \\\n",
              "0  João Miguel, Bianca Comparato, Michel Gomes, R...         Brazil   \n",
              "1  Demián Bichir, Héctor Bonilla, Oscar Serrano, ...         Mexico   \n",
              "2  Tedd Chan, Stella Chung, Henley Hii, Lawrence ...      Singapore   \n",
              "3  Elijah Wood, John C. Reilly, Jennifer Connelly...  United States   \n",
              "4  Jim Sturgess, Kevin Spacey, Kate Bosworth, Aar...  United States   \n",
              "\n",
              "          date_added  release_year rating   duration  \\\n",
              "0    August 14, 2020          2020  TV-MA  4 Seasons   \n",
              "1  December 23, 2016          2016  TV-MA     93 min   \n",
              "2  December 20, 2018          2011      R     78 min   \n",
              "3  November 16, 2017          2009  PG-13     80 min   \n",
              "4    January 1, 2020          2008  PG-13    123 min   \n",
              "\n",
              "                                           listed_in  \\\n",
              "0  International TV Shows, TV Dramas, TV Sci-Fi &...   \n",
              "1                       Dramas, International Movies   \n",
              "2                Horror Movies, International Movies   \n",
              "3  Action & Adventure, Independent Movies, Sci-Fi...   \n",
              "4                                             Dramas   \n",
              "\n",
              "                                         description  \n",
              "0  In a future where the elite inhabit an island ...  \n",
              "1  After a devastating earthquake hits Mexico Cit...  \n",
              "2  When an army recruit is found dead, his fellow...  \n",
              "3  In a postapocalyptic world, rag-doll robots hi...  \n",
              "4  A brilliant group of students become card-coun...  "
            ],
            "text/html": [
              "\n",
              "  <div id=\"df-9320c444-51f3-4b19-a967-6ee552ad0b40\">\n",
              "    <div class=\"colab-df-container\">\n",
              "      <div>\n",
              "<style scoped>\n",
              "    .dataframe tbody tr th:only-of-type {\n",
              "        vertical-align: middle;\n",
              "    }\n",
              "\n",
              "    .dataframe tbody tr th {\n",
              "        vertical-align: top;\n",
              "    }\n",
              "\n",
              "    .dataframe thead th {\n",
              "        text-align: right;\n",
              "    }\n",
              "</style>\n",
              "<table border=\"1\" class=\"dataframe\">\n",
              "  <thead>\n",
              "    <tr style=\"text-align: right;\">\n",
              "      <th></th>\n",
              "      <th>show_id</th>\n",
              "      <th>type</th>\n",
              "      <th>title</th>\n",
              "      <th>director</th>\n",
              "      <th>cast</th>\n",
              "      <th>country</th>\n",
              "      <th>date_added</th>\n",
              "      <th>release_year</th>\n",
              "      <th>rating</th>\n",
              "      <th>duration</th>\n",
              "      <th>listed_in</th>\n",
              "      <th>description</th>\n",
              "    </tr>\n",
              "  </thead>\n",
              "  <tbody>\n",
              "    <tr>\n",
              "      <th>0</th>\n",
              "      <td>s1</td>\n",
              "      <td>TV Show</td>\n",
              "      <td>3%</td>\n",
              "      <td>NaN</td>\n",
              "      <td>João Miguel, Bianca Comparato, Michel Gomes, R...</td>\n",
              "      <td>Brazil</td>\n",
              "      <td>August 14, 2020</td>\n",
              "      <td>2020</td>\n",
              "      <td>TV-MA</td>\n",
              "      <td>4 Seasons</td>\n",
              "      <td>International TV Shows, TV Dramas, TV Sci-Fi &amp;...</td>\n",
              "      <td>In a future where the elite inhabit an island ...</td>\n",
              "    </tr>\n",
              "    <tr>\n",
              "      <th>1</th>\n",
              "      <td>s2</td>\n",
              "      <td>Movie</td>\n",
              "      <td>7:19</td>\n",
              "      <td>Jorge Michel Grau</td>\n",
              "      <td>Demián Bichir, Héctor Bonilla, Oscar Serrano, ...</td>\n",
              "      <td>Mexico</td>\n",
              "      <td>December 23, 2016</td>\n",
              "      <td>2016</td>\n",
              "      <td>TV-MA</td>\n",
              "      <td>93 min</td>\n",
              "      <td>Dramas, International Movies</td>\n",
              "      <td>After a devastating earthquake hits Mexico Cit...</td>\n",
              "    </tr>\n",
              "    <tr>\n",
              "      <th>2</th>\n",
              "      <td>s3</td>\n",
              "      <td>Movie</td>\n",
              "      <td>23:59</td>\n",
              "      <td>Gilbert Chan</td>\n",
              "      <td>Tedd Chan, Stella Chung, Henley Hii, Lawrence ...</td>\n",
              "      <td>Singapore</td>\n",
              "      <td>December 20, 2018</td>\n",
              "      <td>2011</td>\n",
              "      <td>R</td>\n",
              "      <td>78 min</td>\n",
              "      <td>Horror Movies, International Movies</td>\n",
              "      <td>When an army recruit is found dead, his fellow...</td>\n",
              "    </tr>\n",
              "    <tr>\n",
              "      <th>3</th>\n",
              "      <td>s4</td>\n",
              "      <td>Movie</td>\n",
              "      <td>9</td>\n",
              "      <td>Shane Acker</td>\n",
              "      <td>Elijah Wood, John C. Reilly, Jennifer Connelly...</td>\n",
              "      <td>United States</td>\n",
              "      <td>November 16, 2017</td>\n",
              "      <td>2009</td>\n",
              "      <td>PG-13</td>\n",
              "      <td>80 min</td>\n",
              "      <td>Action &amp; Adventure, Independent Movies, Sci-Fi...</td>\n",
              "      <td>In a postapocalyptic world, rag-doll robots hi...</td>\n",
              "    </tr>\n",
              "    <tr>\n",
              "      <th>4</th>\n",
              "      <td>s5</td>\n",
              "      <td>Movie</td>\n",
              "      <td>21</td>\n",
              "      <td>Robert Luketic</td>\n",
              "      <td>Jim Sturgess, Kevin Spacey, Kate Bosworth, Aar...</td>\n",
              "      <td>United States</td>\n",
              "      <td>January 1, 2020</td>\n",
              "      <td>2008</td>\n",
              "      <td>PG-13</td>\n",
              "      <td>123 min</td>\n",
              "      <td>Dramas</td>\n",
              "      <td>A brilliant group of students become card-coun...</td>\n",
              "    </tr>\n",
              "  </tbody>\n",
              "</table>\n",
              "</div>\n",
              "      <button class=\"colab-df-convert\" onclick=\"convertToInteractive('df-9320c444-51f3-4b19-a967-6ee552ad0b40')\"\n",
              "              title=\"Convert this dataframe to an interactive table.\"\n",
              "              style=\"display:none;\">\n",
              "        \n",
              "  <svg xmlns=\"http://www.w3.org/2000/svg\" height=\"24px\"viewBox=\"0 0 24 24\"\n",
              "       width=\"24px\">\n",
              "    <path d=\"M0 0h24v24H0V0z\" fill=\"none\"/>\n",
              "    <path d=\"M18.56 5.44l.94 2.06.94-2.06 2.06-.94-2.06-.94-.94-2.06-.94 2.06-2.06.94zm-11 1L8.5 8.5l.94-2.06 2.06-.94-2.06-.94L8.5 2.5l-.94 2.06-2.06.94zm10 10l.94 2.06.94-2.06 2.06-.94-2.06-.94-.94-2.06-.94 2.06-2.06.94z\"/><path d=\"M17.41 7.96l-1.37-1.37c-.4-.4-.92-.59-1.43-.59-.52 0-1.04.2-1.43.59L10.3 9.45l-7.72 7.72c-.78.78-.78 2.05 0 2.83L4 21.41c.39.39.9.59 1.41.59.51 0 1.02-.2 1.41-.59l7.78-7.78 2.81-2.81c.8-.78.8-2.07 0-2.86zM5.41 20L4 18.59l7.72-7.72 1.47 1.35L5.41 20z\"/>\n",
              "  </svg>\n",
              "      </button>\n",
              "      \n",
              "  <style>\n",
              "    .colab-df-container {\n",
              "      display:flex;\n",
              "      flex-wrap:wrap;\n",
              "      gap: 12px;\n",
              "    }\n",
              "\n",
              "    .colab-df-convert {\n",
              "      background-color: #E8F0FE;\n",
              "      border: none;\n",
              "      border-radius: 50%;\n",
              "      cursor: pointer;\n",
              "      display: none;\n",
              "      fill: #1967D2;\n",
              "      height: 32px;\n",
              "      padding: 0 0 0 0;\n",
              "      width: 32px;\n",
              "    }\n",
              "\n",
              "    .colab-df-convert:hover {\n",
              "      background-color: #E2EBFA;\n",
              "      box-shadow: 0px 1px 2px rgba(60, 64, 67, 0.3), 0px 1px 3px 1px rgba(60, 64, 67, 0.15);\n",
              "      fill: #174EA6;\n",
              "    }\n",
              "\n",
              "    [theme=dark] .colab-df-convert {\n",
              "      background-color: #3B4455;\n",
              "      fill: #D2E3FC;\n",
              "    }\n",
              "\n",
              "    [theme=dark] .colab-df-convert:hover {\n",
              "      background-color: #434B5C;\n",
              "      box-shadow: 0px 1px 3px 1px rgba(0, 0, 0, 0.15);\n",
              "      filter: drop-shadow(0px 1px 2px rgba(0, 0, 0, 0.3));\n",
              "      fill: #FFFFFF;\n",
              "    }\n",
              "  </style>\n",
              "\n",
              "      <script>\n",
              "        const buttonEl =\n",
              "          document.querySelector('#df-9320c444-51f3-4b19-a967-6ee552ad0b40 button.colab-df-convert');\n",
              "        buttonEl.style.display =\n",
              "          google.colab.kernel.accessAllowed ? 'block' : 'none';\n",
              "\n",
              "        async function convertToInteractive(key) {\n",
              "          const element = document.querySelector('#df-9320c444-51f3-4b19-a967-6ee552ad0b40');\n",
              "          const dataTable =\n",
              "            await google.colab.kernel.invokeFunction('convertToInteractive',\n",
              "                                                     [key], {});\n",
              "          if (!dataTable) return;\n",
              "\n",
              "          const docLinkHtml = 'Like what you see? Visit the ' +\n",
              "            '<a target=\"_blank\" href=https://colab.research.google.com/notebooks/data_table.ipynb>data table notebook</a>'\n",
              "            + ' to learn more about interactive tables.';\n",
              "          element.innerHTML = '';\n",
              "          dataTable['output_type'] = 'display_data';\n",
              "          await google.colab.output.renderOutput(dataTable, element);\n",
              "          const docLink = document.createElement('div');\n",
              "          docLink.innerHTML = docLinkHtml;\n",
              "          element.appendChild(docLink);\n",
              "        }\n",
              "      </script>\n",
              "    </div>\n",
              "  </div>\n",
              "  "
            ]
          },
          "metadata": {},
          "execution_count": 4
        }
      ]
    },
    {
      "cell_type": "markdown",
      "source": [
        "### Dataset Rows & Columns count"
      ],
      "metadata": {
        "id": "7hBIi_osiCS2"
      }
    },
    {
      "cell_type": "code",
      "source": [
        "# Dataset Rows & Columns count\n",
        "rows=nfx_df.shape[0]\n",
        "columns=nfx_df.shape[1]\n",
        "print(f'Number of rows in dataset are {rows}')\n",
        "print(f'Number of columns in dataset are {columns}')"
      ],
      "metadata": {
        "id": "Kllu7SJgmLij",
        "colab": {
          "base_uri": "https://localhost:8080/"
        },
        "outputId": "81bfc804-3248-42b2-eee8-37b0e64eee1d"
      },
      "execution_count": 5,
      "outputs": [
        {
          "output_type": "stream",
          "name": "stdout",
          "text": [
            "Number of rows in dataset are 7787\n",
            "Number of columns in dataset are 12\n"
          ]
        }
      ]
    },
    {
      "cell_type": "markdown",
      "source": [
        "### Dataset Information"
      ],
      "metadata": {
        "id": "JlHwYmJAmNHm"
      }
    },
    {
      "cell_type": "code",
      "source": [
        "# Dataset Info\n",
        "nfx_df.info()"
      ],
      "metadata": {
        "id": "e9hRXRi6meOf",
        "colab": {
          "base_uri": "https://localhost:8080/"
        },
        "outputId": "a93dcc59-11eb-4ff4-aa97-00dfb6673b69"
      },
      "execution_count": 6,
      "outputs": [
        {
          "output_type": "stream",
          "name": "stdout",
          "text": [
            "<class 'pandas.core.frame.DataFrame'>\n",
            "RangeIndex: 7787 entries, 0 to 7786\n",
            "Data columns (total 12 columns):\n",
            " #   Column        Non-Null Count  Dtype \n",
            "---  ------        --------------  ----- \n",
            " 0   show_id       7787 non-null   object\n",
            " 1   type          7787 non-null   object\n",
            " 2   title         7787 non-null   object\n",
            " 3   director      5398 non-null   object\n",
            " 4   cast          7069 non-null   object\n",
            " 5   country       7280 non-null   object\n",
            " 6   date_added    7777 non-null   object\n",
            " 7   release_year  7787 non-null   int64 \n",
            " 8   rating        7780 non-null   object\n",
            " 9   duration      7787 non-null   object\n",
            " 10  listed_in     7787 non-null   object\n",
            " 11  description   7787 non-null   object\n",
            "dtypes: int64(1), object(11)\n",
            "memory usage: 730.2+ KB\n"
          ]
        }
      ]
    },
    {
      "cell_type": "markdown",
      "source": [
        "#### Duplicate Values"
      ],
      "metadata": {
        "id": "35m5QtbWiB9F"
      }
    },
    {
      "cell_type": "code",
      "source": [
        "# Dataset Duplicate Value Count\n",
        "duplicate = nfx_df.duplicated().sum()\n",
        "duplicate"
      ],
      "metadata": {
        "id": "1sLdpKYkmox0",
        "colab": {
          "base_uri": "https://localhost:8080/"
        },
        "outputId": "255154c1-a7f2-4992-c606-f08fab650993"
      },
      "execution_count": 7,
      "outputs": [
        {
          "output_type": "execute_result",
          "data": {
            "text/plain": [
              "0"
            ]
          },
          "metadata": {},
          "execution_count": 7
        }
      ]
    },
    {
      "cell_type": "markdown",
      "source": [
        "#### Missing Values/Null Values"
      ],
      "metadata": {
        "id": "PoPl-ycgm1ru"
      }
    },
    {
      "cell_type": "code",
      "source": [
        "# Missing Values/Null Values Count\n",
        "# function for determination of null values, uniques values in columns and there features.\n",
        "def Complete_columns_info(df):\n",
        "        mis_val =df.isna().sum()\n",
        "        mis_val_percent = 100 *df.isna().sum() / len(df)\n",
        "        unique_val= df.nunique()\n",
        "        cci_table = pd.concat([mis_val, mis_val_percent, unique_val], axis=1)\n",
        "        cci_table = cci_table.rename(columns = {0 : 'No of Null Values', 1 : '% of null values', 2 : 'No of unique values' })\n",
        "        cci_table['Data Type'] = df.dtypes\n",
        "        cci_table = cci_table.sort_values('% of null values', ascending=False).round(1)\n",
        "        print (\" selected dataframe has \" + str(df.shape[1]) + \" columns and \" + str(df.shape[0]),\"rows\")\n",
        "        return cci_table"
      ],
      "metadata": {
        "id": "GgHWkxvamxVg"
      },
      "execution_count": 8,
      "outputs": []
    },
    {
      "cell_type": "code",
      "source": [
        "# Calling the function\n",
        "Complete_columns_info(nfx_df)"
      ],
      "metadata": {
        "colab": {
          "base_uri": "https://localhost:8080/",
          "height": 0
        },
        "id": "z2uFcPJmUJn1",
        "outputId": "e3859ee4-57db-42a5-f7e3-7bda8de18b1c"
      },
      "execution_count": 9,
      "outputs": [
        {
          "output_type": "stream",
          "name": "stdout",
          "text": [
            " selected dataframe has 12 columns and 7787 rows\n"
          ]
        },
        {
          "output_type": "execute_result",
          "data": {
            "text/plain": [
              "              No of Null Values  % of null values  No of unique values  \\\n",
              "director                   2389              30.7                 4049   \n",
              "cast                        718               9.2                 6831   \n",
              "country                     507               6.5                  681   \n",
              "date_added                   10               0.1                 1565   \n",
              "rating                        7               0.1                   14   \n",
              "show_id                       0               0.0                 7787   \n",
              "type                          0               0.0                    2   \n",
              "title                         0               0.0                 7787   \n",
              "release_year                  0               0.0                   73   \n",
              "duration                      0               0.0                  216   \n",
              "listed_in                     0               0.0                  492   \n",
              "description                   0               0.0                 7769   \n",
              "\n",
              "             Data Type  \n",
              "director        object  \n",
              "cast            object  \n",
              "country         object  \n",
              "date_added      object  \n",
              "rating          object  \n",
              "show_id         object  \n",
              "type            object  \n",
              "title           object  \n",
              "release_year     int64  \n",
              "duration        object  \n",
              "listed_in       object  \n",
              "description     object  "
            ],
            "text/html": [
              "\n",
              "  <div id=\"df-26cbbdf3-c844-4851-bbeb-35c6355cf9e5\">\n",
              "    <div class=\"colab-df-container\">\n",
              "      <div>\n",
              "<style scoped>\n",
              "    .dataframe tbody tr th:only-of-type {\n",
              "        vertical-align: middle;\n",
              "    }\n",
              "\n",
              "    .dataframe tbody tr th {\n",
              "        vertical-align: top;\n",
              "    }\n",
              "\n",
              "    .dataframe thead th {\n",
              "        text-align: right;\n",
              "    }\n",
              "</style>\n",
              "<table border=\"1\" class=\"dataframe\">\n",
              "  <thead>\n",
              "    <tr style=\"text-align: right;\">\n",
              "      <th></th>\n",
              "      <th>No of Null Values</th>\n",
              "      <th>% of null values</th>\n",
              "      <th>No of unique values</th>\n",
              "      <th>Data Type</th>\n",
              "    </tr>\n",
              "  </thead>\n",
              "  <tbody>\n",
              "    <tr>\n",
              "      <th>director</th>\n",
              "      <td>2389</td>\n",
              "      <td>30.7</td>\n",
              "      <td>4049</td>\n",
              "      <td>object</td>\n",
              "    </tr>\n",
              "    <tr>\n",
              "      <th>cast</th>\n",
              "      <td>718</td>\n",
              "      <td>9.2</td>\n",
              "      <td>6831</td>\n",
              "      <td>object</td>\n",
              "    </tr>\n",
              "    <tr>\n",
              "      <th>country</th>\n",
              "      <td>507</td>\n",
              "      <td>6.5</td>\n",
              "      <td>681</td>\n",
              "      <td>object</td>\n",
              "    </tr>\n",
              "    <tr>\n",
              "      <th>date_added</th>\n",
              "      <td>10</td>\n",
              "      <td>0.1</td>\n",
              "      <td>1565</td>\n",
              "      <td>object</td>\n",
              "    </tr>\n",
              "    <tr>\n",
              "      <th>rating</th>\n",
              "      <td>7</td>\n",
              "      <td>0.1</td>\n",
              "      <td>14</td>\n",
              "      <td>object</td>\n",
              "    </tr>\n",
              "    <tr>\n",
              "      <th>show_id</th>\n",
              "      <td>0</td>\n",
              "      <td>0.0</td>\n",
              "      <td>7787</td>\n",
              "      <td>object</td>\n",
              "    </tr>\n",
              "    <tr>\n",
              "      <th>type</th>\n",
              "      <td>0</td>\n",
              "      <td>0.0</td>\n",
              "      <td>2</td>\n",
              "      <td>object</td>\n",
              "    </tr>\n",
              "    <tr>\n",
              "      <th>title</th>\n",
              "      <td>0</td>\n",
              "      <td>0.0</td>\n",
              "      <td>7787</td>\n",
              "      <td>object</td>\n",
              "    </tr>\n",
              "    <tr>\n",
              "      <th>release_year</th>\n",
              "      <td>0</td>\n",
              "      <td>0.0</td>\n",
              "      <td>73</td>\n",
              "      <td>int64</td>\n",
              "    </tr>\n",
              "    <tr>\n",
              "      <th>duration</th>\n",
              "      <td>0</td>\n",
              "      <td>0.0</td>\n",
              "      <td>216</td>\n",
              "      <td>object</td>\n",
              "    </tr>\n",
              "    <tr>\n",
              "      <th>listed_in</th>\n",
              "      <td>0</td>\n",
              "      <td>0.0</td>\n",
              "      <td>492</td>\n",
              "      <td>object</td>\n",
              "    </tr>\n",
              "    <tr>\n",
              "      <th>description</th>\n",
              "      <td>0</td>\n",
              "      <td>0.0</td>\n",
              "      <td>7769</td>\n",
              "      <td>object</td>\n",
              "    </tr>\n",
              "  </tbody>\n",
              "</table>\n",
              "</div>\n",
              "      <button class=\"colab-df-convert\" onclick=\"convertToInteractive('df-26cbbdf3-c844-4851-bbeb-35c6355cf9e5')\"\n",
              "              title=\"Convert this dataframe to an interactive table.\"\n",
              "              style=\"display:none;\">\n",
              "        \n",
              "  <svg xmlns=\"http://www.w3.org/2000/svg\" height=\"24px\"viewBox=\"0 0 24 24\"\n",
              "       width=\"24px\">\n",
              "    <path d=\"M0 0h24v24H0V0z\" fill=\"none\"/>\n",
              "    <path d=\"M18.56 5.44l.94 2.06.94-2.06 2.06-.94-2.06-.94-.94-2.06-.94 2.06-2.06.94zm-11 1L8.5 8.5l.94-2.06 2.06-.94-2.06-.94L8.5 2.5l-.94 2.06-2.06.94zm10 10l.94 2.06.94-2.06 2.06-.94-2.06-.94-.94-2.06-.94 2.06-2.06.94z\"/><path d=\"M17.41 7.96l-1.37-1.37c-.4-.4-.92-.59-1.43-.59-.52 0-1.04.2-1.43.59L10.3 9.45l-7.72 7.72c-.78.78-.78 2.05 0 2.83L4 21.41c.39.39.9.59 1.41.59.51 0 1.02-.2 1.41-.59l7.78-7.78 2.81-2.81c.8-.78.8-2.07 0-2.86zM5.41 20L4 18.59l7.72-7.72 1.47 1.35L5.41 20z\"/>\n",
              "  </svg>\n",
              "      </button>\n",
              "      \n",
              "  <style>\n",
              "    .colab-df-container {\n",
              "      display:flex;\n",
              "      flex-wrap:wrap;\n",
              "      gap: 12px;\n",
              "    }\n",
              "\n",
              "    .colab-df-convert {\n",
              "      background-color: #E8F0FE;\n",
              "      border: none;\n",
              "      border-radius: 50%;\n",
              "      cursor: pointer;\n",
              "      display: none;\n",
              "      fill: #1967D2;\n",
              "      height: 32px;\n",
              "      padding: 0 0 0 0;\n",
              "      width: 32px;\n",
              "    }\n",
              "\n",
              "    .colab-df-convert:hover {\n",
              "      background-color: #E2EBFA;\n",
              "      box-shadow: 0px 1px 2px rgba(60, 64, 67, 0.3), 0px 1px 3px 1px rgba(60, 64, 67, 0.15);\n",
              "      fill: #174EA6;\n",
              "    }\n",
              "\n",
              "    [theme=dark] .colab-df-convert {\n",
              "      background-color: #3B4455;\n",
              "      fill: #D2E3FC;\n",
              "    }\n",
              "\n",
              "    [theme=dark] .colab-df-convert:hover {\n",
              "      background-color: #434B5C;\n",
              "      box-shadow: 0px 1px 3px 1px rgba(0, 0, 0, 0.15);\n",
              "      filter: drop-shadow(0px 1px 2px rgba(0, 0, 0, 0.3));\n",
              "      fill: #FFFFFF;\n",
              "    }\n",
              "  </style>\n",
              "\n",
              "      <script>\n",
              "        const buttonEl =\n",
              "          document.querySelector('#df-26cbbdf3-c844-4851-bbeb-35c6355cf9e5 button.colab-df-convert');\n",
              "        buttonEl.style.display =\n",
              "          google.colab.kernel.accessAllowed ? 'block' : 'none';\n",
              "\n",
              "        async function convertToInteractive(key) {\n",
              "          const element = document.querySelector('#df-26cbbdf3-c844-4851-bbeb-35c6355cf9e5');\n",
              "          const dataTable =\n",
              "            await google.colab.kernel.invokeFunction('convertToInteractive',\n",
              "                                                     [key], {});\n",
              "          if (!dataTable) return;\n",
              "\n",
              "          const docLinkHtml = 'Like what you see? Visit the ' +\n",
              "            '<a target=\"_blank\" href=https://colab.research.google.com/notebooks/data_table.ipynb>data table notebook</a>'\n",
              "            + ' to learn more about interactive tables.';\n",
              "          element.innerHTML = '';\n",
              "          dataTable['output_type'] = 'display_data';\n",
              "          await google.colab.output.renderOutput(dataTable, element);\n",
              "          const docLink = document.createElement('div');\n",
              "          docLink.innerHTML = docLinkHtml;\n",
              "          element.appendChild(docLink);\n",
              "        }\n",
              "      </script>\n",
              "    </div>\n",
              "  </div>\n",
              "  "
            ]
          },
          "metadata": {},
          "execution_count": 9
        }
      ]
    },
    {
      "cell_type": "code",
      "source": [
        "# Visualizing the missing values\n",
        "msno.bar(nfx_df)"
      ],
      "metadata": {
        "id": "3q5wnI3om9sJ",
        "colab": {
          "base_uri": "https://localhost:8080/",
          "height": 0
        },
        "outputId": "5be4d4f7-3ab9-4a3f-fd1a-b2ea6d9cad30"
      },
      "execution_count": 10,
      "outputs": [
        {
          "output_type": "execute_result",
          "data": {
            "text/plain": [
              "<matplotlib.axes._subplots.AxesSubplot at 0x7f5b25655070>"
            ]
          },
          "metadata": {},
          "execution_count": 10
        },
        {
          "output_type": "display_data",
          "data": {
            "text/plain": [
              "<Figure size 1800x720 with 3 Axes>"
            ],
            "image/png": "[encoded data removed]"
          },
          "metadata": {
            "needs_background": "light"
          }
        }
      ]
    },
    {
      "cell_type": "markdown",
      "source": [
        "### What did you know about your dataset?"
      ],
      "metadata": {
        "id": "H0kj-8xxnORC"
      }
    },
    {
      "cell_type": "markdown",
      "source": [
        "Answer Here - \n",
        "\n",
        "\n",
        "\n",
        "*   This dataset has 7787 rows and 12 columns.\n",
        "*   Dataset is free from duplicate values.\n",
        "\n",
        "*   Director column has maximum percentage of null values almost 30%, followed by cast and country columns with 9.2 and 6.7 % of null values respectively.\n",
        "*   All columns have data of object type except release_year which is integer type, which means we have only one numerical column in the dataset.\n",
        "\n",
        "\n",
        "\n"
      ],
      "metadata": {
        "id": "gfoNAAC-nUe_"
      }
    },
    {
      "cell_type": "markdown",
      "source": [
        "## ***2. Understanding Your Variables***"
      ],
      "metadata": {
        "id": "nA9Y7ga8ng1Z"
      }
    },
    {
      "cell_type": "code",
      "source": [
        "# Dataset Columns\n",
        "nfx_df.columns"
      ],
      "metadata": {
        "id": "j7xfkqrt5Ag5",
        "colab": {
          "base_uri": "https://localhost:8080/"
        },
        "outputId": "fca48a10-d710-44d9-c2fc-cadcf5d69705"
      },
      "execution_count": 11,
      "outputs": [
        {
          "output_type": "execute_result",
          "data": {
            "text/plain": [
              "Index(['show_id', 'type', 'title', 'director', 'cast', 'country', 'date_added',\n",
              "       'release_year', 'rating', 'duration', 'listed_in', 'description'],\n",
              "      dtype='object')"
            ]
          },
          "metadata": {},
          "execution_count": 11
        }
      ]
    },
    {
      "cell_type": "code",
      "source": [
        "# Dataset Describe\n",
        "nfx_df.describe().round(2).style.background_gradient().set_properties(**{'border': '1.3px solid red',\n",
        "                          'color': 'black'})"
      ],
      "metadata": {
        "id": "DnOaZdaE5Q5t",
        "colab": {
          "base_uri": "https://localhost:8080/",
          "height": 311
        },
        "outputId": "dac0ce14-3fc6-42e8-e7c5-2cd318d7071d"
      },
      "execution_count": 12,
      "outputs": [
        {
          "output_type": "execute_result",
          "data": {
            "text/plain": [
              "<pandas.io.formats.style.Styler at 0x7f5b2557d610>"
            ],
            "text/html": [
              "<style type=\"text/css\">\n",
              "#T_55b6c_row0_col0 {\n",
              "  background-color: #023858;\n",
              "  color: #f1f1f1;\n",
              "  border: 1.3px solid red;\n",
              "  color: black;\n",
              "}\n",
              "#T_55b6c_row1_col0, #T_55b6c_row4_col0 {\n",
              "  background-color: #ced0e6;\n",
              "  color: #000000;\n",
              "  border: 1.3px solid red;\n",
              "  color: black;\n",
              "}\n",
              "#T_55b6c_row2_col0 {\n",
              "  background-color: #fff7fb;\n",
              "  color: #000000;\n",
              "  border: 1.3px solid red;\n",
              "  color: black;\n",
              "}\n",
              "#T_55b6c_row3_col0 {\n",
              "  background-color: #d1d2e6;\n",
              "  color: #000000;\n",
              "  border: 1.3px solid red;\n",
              "  color: black;\n",
              "}\n",
              "#T_55b6c_row5_col0, #T_55b6c_row6_col0, #T_55b6c_row7_col0 {\n",
              "  background-color: #cdd0e5;\n",
              "  color: #000000;\n",
              "  border: 1.3px solid red;\n",
              "  color: black;\n",
              "}\n",
              "</style>\n",
              "<table id=\"T_55b6c_\" class=\"dataframe\">\n",
              "  <thead>\n",
              "    <tr>\n",
              "      <th class=\"blank level0\" >&nbsp;</th>\n",
              "      <th class=\"col_heading level0 col0\" >release_year</th>\n",
              "    </tr>\n",
              "  </thead>\n",
              "  <tbody>\n",
              "    <tr>\n",
              "      <th id=\"T_55b6c_level0_row0\" class=\"row_heading level0 row0\" >count</th>\n",
              "      <td id=\"T_55b6c_row0_col0\" class=\"data row0 col0\" >7787.000000</td>\n",
              "    </tr>\n",
              "    <tr>\n",
              "      <th id=\"T_55b6c_level0_row1\" class=\"row_heading level0 row1\" >mean</th>\n",
              "      <td id=\"T_55b6c_row1_col0\" class=\"data row1 col0\" >2013.930000</td>\n",
              "    </tr>\n",
              "    <tr>\n",
              "      <th id=\"T_55b6c_level0_row2\" class=\"row_heading level0 row2\" >std</th>\n",
              "      <td id=\"T_55b6c_row2_col0\" class=\"data row2 col0\" >8.760000</td>\n",
              "    </tr>\n",
              "    <tr>\n",
              "      <th id=\"T_55b6c_level0_row3\" class=\"row_heading level0 row3\" >min</th>\n",
              "      <td id=\"T_55b6c_row3_col0\" class=\"data row3 col0\" >1925.000000</td>\n",
              "    </tr>\n",
              "    <tr>\n",
              "      <th id=\"T_55b6c_level0_row4\" class=\"row_heading level0 row4\" >25%</th>\n",
              "      <td id=\"T_55b6c_row4_col0\" class=\"data row4 col0\" >2013.000000</td>\n",
              "    </tr>\n",
              "    <tr>\n",
              "      <th id=\"T_55b6c_level0_row5\" class=\"row_heading level0 row5\" >50%</th>\n",
              "      <td id=\"T_55b6c_row5_col0\" class=\"data row5 col0\" >2017.000000</td>\n",
              "    </tr>\n",
              "    <tr>\n",
              "      <th id=\"T_55b6c_level0_row6\" class=\"row_heading level0 row6\" >75%</th>\n",
              "      <td id=\"T_55b6c_row6_col0\" class=\"data row6 col0\" >2018.000000</td>\n",
              "    </tr>\n",
              "    <tr>\n",
              "      <th id=\"T_55b6c_level0_row7\" class=\"row_heading level0 row7\" >max</th>\n",
              "      <td id=\"T_55b6c_row7_col0\" class=\"data row7 col0\" >2021.000000</td>\n",
              "    </tr>\n",
              "  </tbody>\n",
              "</table>\n"
            ]
          },
          "metadata": {},
          "execution_count": 12
        }
      ]
    },
    {
      "cell_type": "markdown",
      "source": [
        "### Variables Description "
      ],
      "metadata": {
        "id": "PBTbrJXOngz2"
      }
    },
    {
      "cell_type": "markdown",
      "source": [
        "Answer Here - \n",
        "\n",
        "#### Column Details\n",
        "\n",
        "| Field | Description || Field | Description |\n",
        "|-------|-------------||-------|-------------|\n",
        "|Show_id|Unique id for every movie/TV show||Release_year|Actual release year of the show|\n",
        "|Type|Identifier - Movie/tv show||Rating|TV rating of the show|\n",
        "|Title|Title of the show/movie||Duration|Total duration in minutes or number of seasons|\n",
        "|Director|Director of the show||Listed_in|Genre|\n",
        "|Cast|Actors involved||Description|Summary description|\n",
        "|Country|Country of production||Date_added|Date it was added on netflix|\n",
        "\n"
      ],
      "metadata": {
        "id": "aJV4KIxSnxay"
      }
    },
    {
      "cell_type": "markdown",
      "source": [
        "### Check Unique Values for each variable."
      ],
      "metadata": {
        "id": "u3PMJOP6ngxN"
      }
    },
    {
      "cell_type": "code",
      "source": [
        "# Check Unique Values for each variable.\n",
        "for col in nfx_df.columns:\n",
        "  uniques=nfx_df[col].unique()\n",
        "  print(uniques)"
      ],
      "metadata": {
        "id": "zms12Yq5n-jE",
        "colab": {
          "base_uri": "https://localhost:8080/"
        },
        "outputId": "8418b2f1-a7b5-4eef-bcd4-f93ad349158f"
      },
      "execution_count": 13,
      "outputs": [
        {
          "output_type": "stream",
          "name": "stdout",
          "text": [
            "['s1' 's2' 's3' ... 's7785' 's7786' 's7787']\n",
            "['TV Show' 'Movie']\n",
            "['3%' '7:19' '23:59' ... 'Zulu Man in Japan' \"Zumbo's Just Desserts\"\n",
            " \"ZZ TOP: THAT LITTLE OL' BAND FROM TEXAS\"]\n",
            "[nan 'Jorge Michel Grau' 'Gilbert Chan' ... 'Josef Fares' 'Mozez Singh'\n",
            " 'Sam Dunn']\n",
            "['João Miguel, Bianca Comparato, Michel Gomes, Rodolfo Valente, Vaneza Oliveira, Rafael Lozano, Viviane Porto, Mel Fronckowiak, Sergio Mamberti, Zezé Motta, Celso Frateschi'\n",
            " 'Demián Bichir, Héctor Bonilla, Oscar Serrano, Azalia Ortiz, Octavio Michel, Carmen Beato'\n",
            " 'Tedd Chan, Stella Chung, Henley Hii, Lawrence Koh, Tommy Kuan, Josh Lai, Mark Lee, Susan Leong, Benjamin Lim'\n",
            " ...\n",
            " 'Vicky Kaushal, Sarah-Jane Dias, Raaghav Chanana, Manish Chaudhary, Meghna Malik, Malkeet Rauni, Anita Shabdish, Chittaranjan Tripathy'\n",
            " 'Nasty C' 'Adriano Zumbo, Rachel Khoo']\n",
            "['Brazil' 'Mexico' 'Singapore' 'United States' 'Turkey' 'Egypt' 'India'\n",
            " 'Poland, United States' 'Thailand' 'Nigeria' nan\n",
            " 'Norway, Iceland, United States' 'United Kingdom' 'Japan' 'South Korea'\n",
            " 'Italy' 'Canada' 'Indonesia' 'Romania' 'Spain' 'Iceland'\n",
            " 'South Africa, Nigeria' 'France' 'United States, South Africa'\n",
            " 'Portugal, Spain' 'Hong Kong, China, Singapore' 'United States, Germany'\n",
            " 'South Africa, China, United States' 'Argentina'\n",
            " 'United States, France, Serbia' 'Germany' 'Denmark, France, Poland'\n",
            " 'Poland' 'Kenya' 'New Zealand, United Kingdom' 'Pakistan' 'Australia'\n",
            " 'Australia, United States' 'Mexico, United States' 'United States, China'\n",
            " 'China, Hong Kong' 'Taiwan' 'United States, United Kingdom'\n",
            " 'France, South Korea, Japan' 'United States, Canada'\n",
            " 'United Kingdom, United States' 'Netherlands, Denmark, South Africa'\n",
            " 'Canada, United States' 'Denmark' 'Hong Kong'\n",
            " 'France, Netherlands, Singapore' 'China' 'Philippines'\n",
            " 'United Kingdom, Spain, United States'\n",
            " 'United Arab Emirates, United States' 'Netherlands'\n",
            " 'United Kingdom, Hong Kong' 'Iran, France'\n",
            " 'United States, United Kingdom, France'\n",
            " 'United Kingdom, France, Belgium, United States, China'\n",
            " 'Argentina, Brazil, France, Poland, Germany, Denmark'\n",
            " 'Israel, United States' 'United States, Mexico'\n",
            " 'Uruguay, Argentina, Spain' 'Singapore, France'\n",
            " 'United Kingdom, United States, France, Germany' 'Turkey, United States'\n",
            " 'Bulgaria, United States' 'Australia, France'\n",
            " 'Hong Kong, Iceland, United States' 'United Arab Emirates'\n",
            " 'United States, Chile' 'Germany, France, Russia'\n",
            " 'Mauritius, South Africa' 'United States, Japan' 'Lebanon'\n",
            " 'United States, Bulgaria' 'Colombia' 'Uruguay, Argentina'\n",
            " 'Egypt, Algeria' 'France, Egypt' 'Uruguay' 'Soviet Union, India'\n",
            " 'Sweden, United States' 'South Africa' 'Malaysia'\n",
            " 'Ireland, United Kingdom, United States' 'Spain, Italy'\n",
            " 'United Kingdom, France, Germany' 'United States, Germany, Canada'\n",
            " 'United States, India' 'Japan, United States' 'Denmark, United States'\n",
            " 'South Africa, United States' 'Canada, Luxembourg'\n",
            " 'Serbia, United States' 'Canada, Nigeria' 'Iceland, Sweden, Belgium'\n",
            " 'Ireland, Canada' 'United States, Italy' 'Finland' 'India, Germany'\n",
            " 'China, Spain, South Korea, United States' 'Spain, Belgium'\n",
            " 'United Kingdom, Canada, United States, Germany'\n",
            " 'Brazil, Netherlands, United States, Colombia, Austria, Germany'\n",
            " 'France, Canada, Belgium'\n",
            " 'India, United Kingdom, China, Canada, Japan, South Korea, United States'\n",
            " 'France, Belgium' 'Indonesia, South Korea, Singapore' 'Norway' 'Peru'\n",
            " 'France, Senegal, Belgium' 'Canada, France' 'Chile'\n",
            " 'Romania, France, Switzerland, Germany'\n",
            " 'Bulgaria, United States, Spain, Canada' 'Sweden, Netherlands' 'Ghana'\n",
            " 'France, United States, Mexico'\n",
            " 'Australia, United Kingdom, United Arab Emirates, Canada'\n",
            " 'Singapore, United States' 'Japan, Canada, United States' 'Saudi Arabia'\n",
            " 'Australia, Armenia, Japan, Jordan, Mexico, Mongolia, New Zealand, Philippines, South Africa, Sweden, United States, Uruguay'\n",
            " 'United States, France' 'Norway, Denmark, Netherlands, Sweden' 'Namibia'\n",
            " 'Mexico, Finland' 'United States, Australia' 'Russia' 'Australia, Canada'\n",
            " 'United Kingdom, Ireland' 'Belgium, France' 'New Zealand'\n",
            " 'Uruguay, Spain, Mexico' 'South Korea, China'\n",
            " 'United States, Canada, Indonesia, United Kingdom, China, Singapore'\n",
            " 'India, Iran' 'United States, France, Japan' 'United Kingdom, France'\n",
            " 'Turkey, India' 'Philippines, Qatar' 'Vietnam'\n",
            " 'Ireland, Luxembourg, Belgium'\n",
            " 'Saudi Arabia, Syria, Egypt, Lebanon, Kuwait' 'Russia, United States'\n",
            " 'United Kingdom, Russia, United States' 'Argentina, Spain'\n",
            " 'Germany, Jordan, Netherlands' 'Hong Kong, China'\n",
            " 'Argentina, United States' 'France, Belgium, Spain'\n",
            " 'Germany, United States' 'Denmark, Sweden, Israel, United States'\n",
            " 'Ireland, United Kingdom' 'United States, Iceland'\n",
            " 'United Arab Emirates, United Kingdom, India' 'Sweden'\n",
            " 'Norway, Germany, Sweden' 'Finland, France' 'Denmark, Spain'\n",
            " 'United Kingdom, Russia' 'United States, United Kingdom, Australia'\n",
            " 'India, United Kingdom' 'United States, Canada, Ireland'\n",
            " 'Canada, United Kingdom' 'United States, Israel, Italy, South Africa'\n",
            " 'India, United States' 'United Kingdom, China' 'Indonesia, Singapore'\n",
            " 'Netherlands, Denmark, France, Germany' 'South Korea, Japan'\n",
            " 'Philippines, Canada, United Kingdom, United States'\n",
            " 'France, Malta, United States' 'Kuwait' 'United Kingdom, Pakistan'\n",
            " 'Ireland' 'France, New Zealand'\n",
            " 'United Kingdom, United States, Australia'\n",
            " 'United Kingdom, Czech Republic, United States, Germany, Bahamas'\n",
            " 'United States, Australia, China' 'China, Germany, India, United States'\n",
            " 'Germany, Sri Lanka' 'United States, Sweden'\n",
            " 'Canada, United States, Cayman Islands' 'India, France'\n",
            " 'United Kingdom, Canada' 'United States, India, Bangladesh'\n",
            " 'United States, Canada, France' 'Taiwan, China, France, United States'\n",
            " 'Brazil, France, Germany' 'United States,'\n",
            " 'Turkey, France, Germany, Poland' 'Australia, New Zealand, United States'\n",
            " 'Germany, United States, Hong Kong, Singapore'\n",
            " 'France, Germany, Switzerland' 'Mexico, Argentina'\n",
            " 'Italy, United States, Argentina'\n",
            " 'Germany, France, Luxembourg, United Kingdom, United States'\n",
            " 'Canada, United States, United Kingdom' 'United Kingdom, Canada, Italy'\n",
            " 'Czech Republic, France' 'Zimbabwe'\n",
            " 'United Kingdom, France, Germany, Spain'\n",
            " 'Taiwan, Hong Kong, United States, China' 'China, United States'\n",
            " 'Canada, Brazil' 'United Kingdom, Australia' 'Hungary'\n",
            " 'Germany, Australia' 'United Kingdom, Poland, United States' 'Bulgaria'\n",
            " 'Philippines, United States' 'Finland, Germany' 'United States, Thailand'\n",
            " 'Spain, Belgium, Switzerland, United States, China, United Kingdom'\n",
            " 'Denmark, Zimbabwe' 'United Kingdom, South Africa'\n",
            " 'Finland, Sweden, Norway, Latvia, Germany' 'United Kingdom, India'\n",
            " 'South Africa, United States, New Zealand, Canada' 'France, Qatar'\n",
            " 'France, Algeria' 'United States, Italy, United Kingdom, Liechtenstein'\n",
            " 'Denmark, France, Belgium, Italy, Netherlands, United States, United Kingdom'\n",
            " 'United States, Australia, Mexico'\n",
            " 'United Kingdom, Czech Republic, Germany, United States'\n",
            " 'Russia, Poland, Serbia' 'France, China, Japan, United States'\n",
            " 'United States, South Korea, China' 'Germany, Belgium' 'Chile, Argentina'\n",
            " 'China, United States, United Kingdom' 'Pakistan, Norway, United States'\n",
            " 'United Kingdom, Japan, United States' 'Philippines, Singapore'\n",
            " 'United States, Canada, Belgium, United Kingdom' 'Venezuela'\n",
            " 'Argentina, Uruguay, Serbia' 'United States, Mexico, Colombia'\n",
            " 'Colombia, Peru, United Kingdom' 'Brazil, United States'\n",
            " 'Czech Republic, United States'\n",
            " 'Canada, France, Italy, Morocco, United States' 'Canada, Spain, France'\n",
            " 'Hong Kong, United States' 'France, Canada, China, Cambodia'\n",
            " 'United States, Indonesia' 'Spain, France' 'Spain, Mexico, France'\n",
            " 'Spain, France, Italy' 'Spain, France, United States'\n",
            " 'United States, France, Canada' 'Israel' 'Italy, France'\n",
            " 'United Kingdom, Canada, United States' 'Cambodia, United States'\n",
            " 'China, Japan' 'United Arab Emirates, United States, United Kingdom'\n",
            " 'Argentina, Italy' 'United Kingdom, Israel, Russia'\n",
            " 'Italy, Switzerland, Albania, Poland' 'Spain, Cuba'\n",
            " 'United States, Brazil' 'United States, France, Mexico'\n",
            " 'United States, Nicaragua' 'Austria, Germany'\n",
            " 'United Arab Emirates, Jordan, Lebanon'\n",
            " 'France, United Kingdom, United States'\n",
            " 'United Kingdom, United States, Spain, Germany, Greece, Canada'\n",
            " 'France, Belgium, Luxembourg, Cambodia,' 'Italy, Turkey' 'Brazil, France'\n",
            " 'India, Turkey' 'Kenya, United States' 'United States, South Korea'\n",
            " 'South Korea, United States' 'Italy, Canada, France'\n",
            " 'Thailand, United States' 'United Kingdom, Denmark, Canada, Croatia'\n",
            " 'Netherlands, Belgium'\n",
            " 'United Kingdom, Canada, United States, Cayman Islands' 'Italy, Germany'\n",
            " 'United States, France, United Kingdom, Japan'\n",
            " 'United States, United Kingdom, Denmark, Sweden'\n",
            " 'United States, United Kingdom, Italy'\n",
            " 'United States, France, Canada, Spain' 'Uruguay, Guatemala'\n",
            " 'Germany, Australia, France, China'\n",
            " 'United States, United Kingdom, Japan'\n",
            " 'United States, United Kingdom, Canada'\n",
            " 'Italy, Switzerland, France, Germany' 'Russia, United States, China'\n",
            " 'United States, Canada, Germany' 'United States, Czech Republic'\n",
            " 'Ireland, United States' 'United States, United Arab Emirates'\n",
            " 'France, Australia, Germany' 'Hong Kong, China, United States'\n",
            " 'Lebanon, United Arab Emirates, France, Switzerland, Germany'\n",
            " 'United States, South Korea, Japan' 'Romania, United States'\n",
            " 'West Germany' 'United States, Ireland' 'Chile, Italy'\n",
            " 'Ireland, United Kingdom, Italy, United States' 'Belgium' 'Poland,'\n",
            " 'Slovenia, Croatia, Germany, Czech Republic, Qatar'\n",
            " 'Canada, United Kingdom, Netherlands'\n",
            " 'United Kingdom, United States, France' 'Indonesia, United Kingdom'\n",
            " 'United States, Spain, Germany' 'India, Japan'\n",
            " 'Switzerland, France, Belgium, United States'\n",
            " 'China, South Korea, United States' 'United Kingdom, France, Belgium'\n",
            " 'Canada, Ireland, United States'\n",
            " 'United Kingdom, United States, Dominican Republic'\n",
            " 'United States, Senegal' 'Germany, United Kingdom, United States'\n",
            " 'United States, Canada, United Kingdom' 'Canada, United States, France'\n",
            " 'United Kingdom, Germany, Canada' 'Argentina, France'\n",
            " 'South Africa, Germany, Netherlands, France'\n",
            " 'Canada, United States, United Kingdom, France, Luxembourg'\n",
            " 'Finland, Germany, Belgium' 'United States, United Kingdom, Germany'\n",
            " 'Taiwan, China' 'Cambodia' 'Spain, Portugal'\n",
            " 'Ireland, United States, France' 'Jordan' 'Austria'\n",
            " 'Germany, United States, Canada'\n",
            " 'United Kingdom, Germany, Canada, United States'\n",
            " 'United States, France, Canada, Lebanon, Qatar' 'Indonesia, Netherlands'\n",
            " 'Netherlands, Belgium, United Kingdom, United States'\n",
            " 'China, United States, Australia' 'France, Belgium, China, United States'\n",
            " 'Spain, United Kingdom' 'United States, Chile, Israel' 'Bangladesh'\n",
            " 'United Kingdom, Norway, Denmark, Germany, Sweden'\n",
            " 'United States, Japan, Canada' 'Norway, Denmark, Sweden'\n",
            " 'China, India, Nepal' 'United States, Argentina'\n",
            " 'Mexico, United States, Spain, Colombia'\n",
            " 'Colombia, Mexico, United States' 'United Kingdom, Belgium, Sweden'\n",
            " 'Nigeria, United Kingdom' 'United Kingdom, South Korea'\n",
            " 'United States, Taiwan' 'Netherlands, Belgium, Germany, Jordan'\n",
            " 'France, Canada' 'United Kingdom, France, United States'\n",
            " 'Denmark, Singapore, Canada, United States' 'Denmark, China'\n",
            " 'Malaysia, Singapore, Hong Kong' 'Norway, United States'\n",
            " 'United States, Philippines' 'United States, Greece, Brazil'\n",
            " 'France, United States' 'South Korea, France'\n",
            " 'United States, Australia, Samoa, United Kingdom' 'Canada, South Africa'\n",
            " 'United Kingdom, Italy' 'Germany, United Kingdom' 'China, United Kingdom'\n",
            " 'Argentina, Chile, Peru' 'United States, Russia' 'Uruguay, Germany'\n",
            " 'Turkey, Azerbaijan' 'United States, China, Hong Kong'\n",
            " 'Canada, Germany, France, United States'\n",
            " 'Argentina, United States, Mexico' 'France, United Kingdom, India'\n",
            " 'China, Taiwan' 'Italy, United Kingdom, France' 'Poland, West Germany'\n",
            " 'Germany, United States, Sweden' 'Canada, Spain'\n",
            " 'United Kingdom, France, Belgium, United States' 'France, Japan'\n",
            " 'Netherlands, Germany, Italy, Canada' 'United States, Cambodia'\n",
            " 'United States, Greece' 'United States, China, Colombia'\n",
            " 'United States, Spain, Italy' 'Norway, United Kingdom, France, Ireland'\n",
            " 'United States, Bermuda, Ecuador' 'United Kingdom, Poland'\n",
            " 'China, Canada, United States' 'United States, Spain' 'India, Mexico'\n",
            " 'United Kingdom, West Germany' 'Pakistan, United States'\n",
            " 'Israel, Sweden, Germany, Netherlands' 'Chile, United States, France'\n",
            " 'France, Morocco' 'United Kingdom, Germany' 'Georgia, Germany, France'\n",
            " 'Switzerland, France' 'Turkey, South Korea' 'Italy, India'\n",
            " 'United States, Botswana' 'United States, Colombia, Mexico'\n",
            " 'Chile, Argentina, France, Spain, United States'\n",
            " 'Puerto Rico, United States, Colombia' 'United States, Nigeria'\n",
            " 'Germany, United States, France' 'Spain, Germany, Denmark, United States'\n",
            " 'United Kingdom, United States, Japan' 'Netherlands, United States'\n",
            " 'United States, India, South Korea, China'\n",
            " 'Denmark, Germany, Belgium, United Kingdom, France'\n",
            " 'Denmark, Germany, Belgium, United Kingdom, France, Sweden'\n",
            " 'France, Switzerland, Spain, United States, United Arab Emirates'\n",
            " 'Norway, Sweden' 'United States, Ireland, United Kingdom, India'\n",
            " 'United Kingdom, Singapore' 'Spain, Germany' 'Germany, Czech Republic'\n",
            " 'Denmark, Brazil, France, Portugal, Sweden'\n",
            " 'Brazil, India, China, United States' 'India, Germany, Austria'\n",
            " 'Italy, United States' 'Denmark, France, United States, Sweden'\n",
            " 'Australia, Iraq' 'China, Morocco, Hong Kong' 'Spain, Colombia'\n",
            " 'Australia, United Arab Emirates' 'Canada, United States, Germany'\n",
            " 'France, Belgium, Italy' 'United Kingdom, Thailand' 'Venezuela, Colombia'\n",
            " 'France, Luxembourg, Canada' 'India, Nepal' 'Mexico, Spain'\n",
            " 'Colombia, United States' 'Colombia, Mexico'\n",
            " 'France, Germany, Czech Republic, Belgium'\n",
            " 'Germany, China, United Kingdom' 'Canada, Hungary, United States'\n",
            " 'Pakistan, United Arab Emirates' 'France, United Kingdom'\n",
            " 'Spain, United Kingdom, United States' 'United Kingdom, Kenya'\n",
            " 'United States, Norway, Canada' 'Canada, United States, Ireland'\n",
            " 'Switzerland, Vatican City, Italy, Germany, France'\n",
            " 'Portugal, France, Poland, United States' 'France, Japan, United States'\n",
            " 'United States, New Zealand' 'United States, New Zealand, Japan'\n",
            " 'United States, Netherlands, Japan, France' 'India, Switzerland'\n",
            " 'Canada, India' 'Canada, Japan, United States' 'United States, Morocco'\n",
            " 'United States, Mexico, Spain, Malta' 'Norway, Denmark'\n",
            " 'South Korea, Canada, United States, China' 'Singapore, Japan, France'\n",
            " 'Canada, Mexico, Germany, South Africa'\n",
            " 'United Kingdom, United States, Canada'\n",
            " 'Germany, France, United States, Canada, United Kingdom'\n",
            " 'Peru, Germany, Norway' 'Singapore, Malaysia' 'United States, Uruguay'\n",
            " 'India, Canada' 'Ireland, Canada, United Kingdom, United States'\n",
            " 'United States, Germany, Australia' 'Senegal' 'Israel, Germany, France'\n",
            " 'Australia, France, Ireland' 'South Africa, Angola'\n",
            " 'Austria, Czech Republic' 'Australia, India'\n",
            " 'United States, United Kingdom, Canada, Japan'\n",
            " 'Sweden, United Kingdom, Finland' 'Hong Kong, Taiwan'\n",
            " 'United States, United Kingdom, Spain, South Korea'\n",
            " 'South Korea, China, United States' 'Guatemala' 'Ukraine'\n",
            " 'United States, United Kingdom, Canada, China'\n",
            " 'Italy, South Africa, West Germany, Australia, United States'\n",
            " 'United Kingdom, Finland, Germany' 'South Africa, United States, Germany'\n",
            " 'United States, Germany, United Kingdom, Australia' 'India, Soviet Union'\n",
            " 'Italy, France, Switzerland' 'Canada, France, United States'\n",
            " 'United States, Colombia' 'India, Malaysia' 'Switzerland, United States'\n",
            " 'Thailand, Canada, United States' 'China, Hong Kong, United States'\n",
            " 'United Kingdom, New Zealand'\n",
            " 'United Kingdom, France, Germany, United States'\n",
            " 'South Korea, Czech Republic' 'Czech Republic, United Kingdom, France'\n",
            " 'Australia, United Kingdom, Canada'\n",
            " 'Canada, United Kingdom, United States' 'United States, Hungary'\n",
            " 'Jamaica, United States' 'Switzerland'\n",
            " 'Australia, United Kingdom, United States, New Zealand, Italy, France'\n",
            " 'France, United States, Canada' 'Australia, United Kingdom'\n",
            " 'United States, Denmark'\n",
            " 'United Kingdom, France, Canada, Belgium, United States'\n",
            " 'Denmark, United Kingdom, Sweden' 'Belarus' 'Cyprus'\n",
            " 'Lebanon, United States, United Arab Emirates' 'United States, Hong Kong'\n",
            " 'United States, Kazakhstan'\n",
            " 'Argentina, France, United States, Germany, Qatar'\n",
            " 'United States, Germany, United Kingdom'\n",
            " 'United States, Germany, United Kingdom, Italy'\n",
            " 'United States, New Zealand, United Kingdom' 'Finland, United States'\n",
            " 'Spain, France, Uruguay' 'France, Belgium, United States'\n",
            " 'France, Canada, United States' 'Spain, Argentina'\n",
            " 'United Kingdom, India, United States' 'Chile, France'\n",
            " 'United States, United Kingdom, France, Germany, Japan' 'Canada, Norway'\n",
            " 'United States, Hungary, Ireland, Canada' 'United States, Canada, China'\n",
            " 'United Kingdom, Malawi'\n",
            " 'Ireland, Canada, Luxembourg, United States, United Kingdom, Philippines, India'\n",
            " 'United States, Czech Republic, United Kingdom' 'Ghana, United States'\n",
            " 'Israel, Germany' 'Spain, Mexico' 'Mexico, France'\n",
            " 'Brazil, United Kingdom'\n",
            " 'France, Belgium, Luxembourg, Romania, Canada, United States'\n",
            " 'Israel, Germany, Poland, Luxembourg, Belgium, France, United States'\n",
            " 'France, Germany' 'United States, Malta, France, United Kingdom'\n",
            " 'United Kingdom, United States, Germany, Denmark, Belgium, Japan'\n",
            " 'Austria, United States' 'Canada, Australia' 'Greece, United States'\n",
            " 'United Kingdom, France, Belgium, Canada, United States'\n",
            " 'Argentina, Chile' 'Czech Republic, Slovakia'\n",
            " 'United Kingdom, Germany, United States, France'\n",
            " 'United Kingdom, Lithuania' 'Egypt, France' 'Spain, France, Canada'\n",
            " 'United States, Greece, United Kingdom'\n",
            " 'United Kingdom, China, United States, India' 'Taiwan, Malaysia'\n",
            " 'United States, Sweden, Norway' 'United Kingdom, United States, Morocco'\n",
            " 'United States, United Kingdom, Morocco' 'United States, China, Canada'\n",
            " 'Spain, Canada, United States' 'Canada, Belgium'\n",
            " 'United States, India, United Arab Emirates'\n",
            " 'United Kingdom, Canada, France, United States'\n",
            " 'Spain, Thailand, United States' 'Canada, Germany, South Africa'\n",
            " 'India, Germany, France' 'United States, Israel, United Kingdom, Canada'\n",
            " 'United Kingdom, Hungary, Australia' 'Lebanon, France'\n",
            " 'Belgium, Ireland, Netherlands, Germany, Afghanistan' 'Chile, Peru'\n",
            " 'Paraguay, Argentina'\n",
            " 'United Kingdom, Italy, Israel, Peru, United States' 'Norway, Germany'\n",
            " 'France, Canada, Italy, United States, China'\n",
            " 'Netherlands, Germany, Denmark, United Kingdom' 'France, Lebanon'\n",
            " 'Ireland, United Kingdom, Greece, France, Netherlands'\n",
            " 'Denmark, Indonesia, Finland, Norway, United Kingdom, Israel, France, United States, Germany, Netherlands'\n",
            " 'New Zealand, United States' 'Argentina, Uruguay, Spain, France'\n",
            " 'United Kingdom, Germany, United States'\n",
            " 'United States, Australia, South Africa, United Kingdom' 'Italy, Belgium'\n",
            " 'United States, Germany, Mexico' 'Chile, Spain, Argentina, Germany'\n",
            " 'Germany, Italy' 'United Kingdom, Nigeria'\n",
            " 'Belgium, United Kingdom, United States' 'Australia, New Zealand'\n",
            " 'Spain, Switzerland' 'Indonesia, United States'\n",
            " 'Canada, South Korea, United States' 'France, Iran, United States'\n",
            " 'Croatia' 'Somalia, Kenya, Sudan, South Africa, United States'\n",
            " 'Ireland, France, Iceland, United States, Mexico, Belgium, United Kingdom, Hong Kong'\n",
            " 'Spain, United States' 'United States, Canada, Japan, Panama'\n",
            " 'United Kingdom, Spain, Belgium' 'Serbia, South Korea, Slovenia'\n",
            " 'Denmark, United Kingdom, South Africa, Sweden, Belgium'\n",
            " 'Germany, Canada, United States' 'Ireland, South Africa'\n",
            " 'Canada, Germany' 'Spain, France, Canada, United States'\n",
            " 'India, United Kingdom, Canada, United States'\n",
            " 'United States, Belgium, Canada' 'United States, France, Canada, Belgium'\n",
            " 'United Kingdom, Egypt, United States'\n",
            " 'United Kingdom, Germany, United Arab Emirates, New Zealand'\n",
            " 'United Kingdom, France, United States, Belgium, Luxembourg, China, Germany'\n",
            " 'United Kingdom, Spain, United States, Germany'\n",
            " 'United States, France, Italy, United Kingdom' 'Georgia'\n",
            " 'United States, United Kingdom, India'\n",
            " 'Ireland, Canada, United States, United Kingdom'\n",
            " 'New Zealand, United Kingdom, Australia' 'United States, Poland'\n",
            " 'United Arab Emirates, Romania'\n",
            " 'United Kingdom, Australia, Canada, United States' 'Mexico, Netherlands'\n",
            " 'Spain, Italy, Argentina' 'Germany, United States, Italy'\n",
            " 'United States, Venezuela' 'United Kingdom, Canada, Japan'\n",
            " 'Canada, Japan, Netherlands'\n",
            " 'United Kingdom, United States, Czech Republic'\n",
            " 'United Kingdom, China, United States' 'United Kingdom, Brazil, Germany'\n",
            " 'Thailand, China, United States'\n",
            " 'United Kingdom, Namibia, South Africa, Zimbabwe, United States'\n",
            " 'United Kingdom, South Africa, Australia, United States'\n",
            " 'Canada, United States, India, United Kingdom'\n",
            " 'United States, Brazil, South Korea, Mexico, Japan, Germany'\n",
            " 'France, Lebanon, United Kingdom' 'United Kingdom, Jordan, Qatar, Iran'\n",
            " 'Switzerland, United Kingdom, United States' 'Belgium, Netherlands'\n",
            " 'United Kingdom, Germany, France, United States'\n",
            " 'Romania, United Kingdom' 'Lebanon, Qatar'\n",
            " 'United Kingdom, India, Sweden' 'United Kingdom, Belgium'\n",
            " 'India, Pakistan' 'United Kingdom,'\n",
            " 'Saudi Arabia, Netherlands, Germany, Jordan, United Arab Emirates, United States'\n",
            " 'France, Brazil, Spain, Belgium'\n",
            " 'United States, Brazil, India, Uganda, China'\n",
            " 'United Kingdom, Ireland, United States' 'Lebanon, Canada, France'\n",
            " 'India, Australia' 'Austria, Iraq, United States'\n",
            " 'France, Norway, Lebanon, Belgium'\n",
            " 'United Kingdom, France, United States, Belgium'\n",
            " 'Saudi Arabia, United Arab Emirates'\n",
            " 'Peru, United States, United Kingdom'\n",
            " 'Germany, United States, United Kingdom, Canada'\n",
            " 'Uruguay, Argentina, Germany, Spain' 'France, Luxembourg, United States'\n",
            " 'United Kingdom, Spain'\n",
            " 'Canada, India, Thailand, United States, United Arab Emirates'\n",
            " 'Romania, Bulgaria, Hungary' 'United States, East Germany, West Germany'\n",
            " 'France, Netherlands, South Africa, Finland'\n",
            " 'United Kingdom, Ukraine, United States' 'Egypt, Austria, United States'\n",
            " 'Russia, Spain' 'Croatia, Slovenia, Serbia, Montenegro' 'Japan, Canada'\n",
            " 'United States, France, South Korea, Indonesia'\n",
            " 'United Arab Emirates, Jordan'\n",
            " 'Sweden, Czech Republic, United Kingdom, Denmark, Netherlands']\n",
            "['August 14, 2020' 'December 23, 2016' 'December 20, 2018' ...\n",
            " 'December 6, 2018' 'March 9, 2016' 'January 11, 2020']\n",
            "[2020 2016 2011 2009 2008 2019 1997 2017 2018 2014 2015 2010 2005 2013\n",
            " 2012 2006 2000 2003 1989 2004 1977 1971 1993 2007 1998 1988 1996 2002\n",
            " 1986 1990 1979 1980 1974 2001 1999 1966 1991 1982 1994 1995 1978 1992\n",
            " 1972 1975 2021 1973 1967 1960 1981 1958 1976 1968 1956 1985 1965 1984\n",
            " 1983 1987 1945 1946 1962 1925 1942 1969 1955 1963 1964 1954 1970 1944\n",
            " 1947 1959 1943]\n",
            "['TV-MA' 'R' 'PG-13' 'TV-14' 'TV-PG' 'NR' 'TV-G' 'TV-Y' nan 'TV-Y7' 'PG'\n",
            " 'G' 'NC-17' 'TV-Y7-FV' 'UR']\n",
            "['4 Seasons' '93 min' '78 min' '80 min' '123 min' '1 Season' '95 min'\n",
            " '119 min' '118 min' '143 min' '103 min' '89 min' '91 min' '149 min'\n",
            " '144 min' '124 min' '87 min' '110 min' '128 min' '117 min' '100 min'\n",
            " '2 Seasons' '84 min' '99 min' '90 min' '102 min' '104 min' '105 min'\n",
            " '56 min' '125 min' '81 min' '97 min' '106 min' '107 min' '109 min'\n",
            " '44 min' '75 min' '101 min' '3 Seasons' '37 min' '113 min' '114 min'\n",
            " '130 min' '94 min' '140 min' '135 min' '82 min' '70 min' '121 min'\n",
            " '92 min' '164 min' '53 min' '83 min' '116 min' '86 min' '120 min'\n",
            " '96 min' '126 min' '129 min' '77 min' '137 min' '148 min' '28 min'\n",
            " '122 min' '176 min' '85 min' '22 min' '68 min' '111 min' '29 min'\n",
            " '142 min' '168 min' '21 min' '59 min' '20 min' '98 min' '108 min'\n",
            " '76 min' '26 min' '156 min' '30 min' '57 min' '150 min' '133 min'\n",
            " '115 min' '154 min' '127 min' '146 min' '136 min' '88 min' '131 min'\n",
            " '24 min' '112 min' '74 min' '63 min' '38 min' '25 min' '174 min' '60 min'\n",
            " '153 min' '158 min' '151 min' '162 min' '54 min' '51 min' '69 min'\n",
            " '64 min' '147 min' '42 min' '79 min' '5 Seasons' '40 min' '45 min'\n",
            " '172 min' '10 min' '163 min' '9 Seasons' '55 min' '72 min' '61 min'\n",
            " '71 min' '160 min' '171 min' '48 min' '139 min' '157 min' '15 min'\n",
            " '65 min' '134 min' '161 min' '62 min' '8 Seasons' '186 min' '49 min'\n",
            " '73 min' '58 min' '165 min' '166 min' '138 min' '159 min' '141 min'\n",
            " '132 min' '52 min' '67 min' '34 min' '66 min' '312 min' '180 min'\n",
            " '47 min' '6 Seasons' '155 min' '14 min' '177 min' '11 min' '9 min'\n",
            " '46 min' '145 min' '11 Seasons' '7 Seasons' '13 Seasons' '8 min' '12 min'\n",
            " '12 Seasons' '10 Seasons' '43 min' '50 min' '23 min' '185 min' '200 min'\n",
            " '169 min' '27 min' '170 min' '196 min' '33 min' '181 min' '204 min'\n",
            " '32 min' '35 min' '167 min' '16 Seasons' '179 min' '193 min' '13 min'\n",
            " '214 min' '17 min' '173 min' '192 min' '209 min' '187 min' '41 min'\n",
            " '182 min' '224 min' '233 min' '189 min' '152 min' '19 min' '15 Seasons'\n",
            " '208 min' '237 min' '31 min' '178 min' '230 min' '194 min' '228 min'\n",
            " '195 min' '3 min' '16 min' '5 min' '18 min' '205 min' '190 min' '36 min'\n",
            " '201 min' '253 min' '203 min' '191 min']\n",
            "['International TV Shows, TV Dramas, TV Sci-Fi & Fantasy'\n",
            " 'Dramas, International Movies' 'Horror Movies, International Movies'\n",
            " 'Action & Adventure, Independent Movies, Sci-Fi & Fantasy' 'Dramas'\n",
            " 'International TV Shows, TV Dramas, TV Mysteries'\n",
            " 'Horror Movies, International Movies, Thrillers' 'Dramas, Thrillers'\n",
            " 'Crime TV Shows, International TV Shows, TV Dramas'\n",
            " 'Crime TV Shows, Docuseries, International TV Shows'\n",
            " 'Documentaries, International Movies, Sports Movies'\n",
            " 'Independent Movies, Sci-Fi & Fantasy, Thrillers'\n",
            " 'Dramas, International Movies, Thrillers'\n",
            " 'International TV Shows, TV Dramas'\n",
            " 'Comedies, Dramas, Independent Movies' 'Sports Movies'\n",
            " 'Dramas, Independent Movies, International Movies'\n",
            " 'Action & Adventure, Dramas, International Movies'\n",
            " 'Anime Series, International TV Shows' 'Documentaries' 'Reality TV'\n",
            " 'Documentaries, International Movies' 'TV Comedies'\n",
            " 'Dramas, International Movies, Romantic Movies' 'Comedies'\n",
            " 'Comedies, Romantic Movies' 'Documentaries, Sports Movies'\n",
            " 'Comedies, Dramas, International Movies'\n",
            " 'International TV Shows, Romantic TV Shows, TV Comedies'\n",
            " 'Comedies, International Movies' 'Action & Adventure, Sci-Fi & Fantasy'\n",
            " 'Dramas, Romantic Movies' 'Dramas, Romantic Movies, Sports Movies'\n",
            " 'Comedies, International Movies, Romantic Movies' 'Action & Adventure'\n",
            " 'International TV Shows, Romantic TV Shows, TV Dramas'\n",
            " 'Docuseries, Science & Nature TV'\n",
            " 'Dramas, International Movies, Sports Movies' 'Movies'\n",
            " 'British TV Shows, International TV Shows, Reality TV'\n",
            " 'Dramas, Independent Movies, Sports Movies'\n",
            " 'International TV Shows, Korean TV Shows, Romantic TV Shows'\n",
            " 'Horror Movies, Independent Movies, Thrillers'\n",
            " 'Crime TV Shows, TV Dramas, TV Mysteries' 'Crime TV Shows, Docuseries'\n",
            " 'Horror Movies, Thrillers' 'Action & Adventure, International Movies'\n",
            " 'Horror Movies, Independent Movies' 'Documentaries, Music & Musicals'\n",
            " 'International Movies, Music & Musicals' 'Sci-Fi & Fantasy'\n",
            " 'Dramas, Independent Movies' 'British TV Shows, Reality TV'\n",
            " 'Action & Adventure, Comedies, International Movies' 'Comedies, Dramas'\n",
            " 'Dramas, LGBTQ Movies' 'Documentaries, Faith & Spirituality'\n",
            " 'Action & Adventure, Comedies'\n",
            " \"Kids' TV, TV Action & Adventure, TV Sci-Fi & Fantasy\"\n",
            " 'International Movies, Thrillers' \"Kids' TV\"\n",
            " 'International TV Shows, Romantic TV Shows, Spanish-Language TV Shows'\n",
            " 'Children & Family Movies, Comedies' 'Comedies, LGBTQ Movies'\n",
            " 'Comedies, Dramas, Romantic Movies' 'Action & Adventure, Dramas'\n",
            " 'Dramas, Independent Movies, Romantic Movies'\n",
            " 'Comedies, Independent Movies, Thrillers' 'TV Shows' 'Docuseries'\n",
            " 'Comedies, International Movies, Music & Musicals'\n",
            " 'Docuseries, International TV Shows, Science & Nature TV'\n",
            " 'British TV Shows, Docuseries, Science & Nature TV'\n",
            " 'Children & Family Movies, Dramas, Sports Movies'\n",
            " 'Children & Family Movies' 'Dramas, Sci-Fi & Fantasy'\n",
            " 'International TV Shows, TV Comedies, TV Dramas'\n",
            " 'Action & Adventure, Classic Movies, Dramas'\n",
            " 'Children & Family Movies, Dramas'\n",
            " 'Action & Adventure, International Movies, Romantic Movies'\n",
            " 'Children & Family Movies, Dramas, Romantic Movies'\n",
            " 'Children & Family Movies, Comedies, Music & Musicals'\n",
            " 'Classic Movies, Cult Movies, Dramas'\n",
            " 'Action & Adventure, International Movies, Sci-Fi & Fantasy'\n",
            " 'Comedies, Independent Movies' 'Comedies, Horror Movies'\n",
            " 'Children & Family Movies, Comedies, Romantic Movies'\n",
            " 'International TV Shows, TV Dramas, TV Horror' 'Thrillers'\n",
            " 'Stand-Up Comedy & Talk Shows, TV Comedies'\n",
            " 'International TV Shows, Romantic TV Shows, Teen TV Shows'\n",
            " 'Crime TV Shows, International TV Shows, Korean TV Shows'\n",
            " 'Comedies, International Movies, Sports Movies'\n",
            " 'Dramas, LGBTQ Movies, Romantic Movies' 'Comedies, Cult Movies'\n",
            " 'Dramas, Independent Movies, LGBTQ Movies'\n",
            " 'International TV Shows, Reality TV' 'Stand-Up Comedy'\n",
            " 'Documentaries, LGBTQ Movies'\n",
            " \"Kids' TV, TV Action & Adventure, TV Comedies\"\n",
            " 'Anime Features, International Movies'\n",
            " 'Music & Musicals, Romantic Movies' 'Comedies, Music & Musicals'\n",
            " 'International TV Shows, TV Comedies'\n",
            " 'International Movies, Romantic Movies'\n",
            " 'Anime Features, Children & Family Movies, International Movies'\n",
            " 'British TV Shows, TV Comedies, TV Dramas' 'TV Dramas' 'Horror Movies'\n",
            " 'Action & Adventure, Children & Family Movies, Independent Movies'\n",
            " 'Dramas, International Movies, Music & Musicals'\n",
            " 'Comedies, International Movies, Sci-Fi & Fantasy'\n",
            " 'International TV Shows, Korean TV Shows, Stand-Up Comedy & Talk Shows'\n",
            " 'Docuseries, Science & Nature TV, TV Comedies' 'Dramas, Sports Movies'\n",
            " 'Dramas, Music & Musicals, Romantic Movies'\n",
            " 'Children & Family Movies, Comedies, International Movies'\n",
            " 'Action & Adventure, Documentaries, International Movies'\n",
            " 'Comedies, International Movies, Thrillers'\n",
            " 'Action & Adventure, Dramas, Romantic Movies'\n",
            " 'Horror Movies, Independent Movies, International Movies'\n",
            " 'Dramas, Independent Movies, Sci-Fi & Fantasy'\n",
            " 'International Movies, Sci-Fi & Fantasy'\n",
            " 'Docuseries, Reality TV, Science & Nature TV'\n",
            " 'British TV Shows, Docuseries, International TV Shows'\n",
            " 'Docuseries, International TV Shows'\n",
            " 'British TV Shows, International TV Shows, TV Comedies'\n",
            " 'Action & Adventure, Horror Movies'\n",
            " 'British TV Shows, Reality TV, Romantic TV Shows'\n",
            " 'Crime TV Shows, International TV Shows, TV Action & Adventure'\n",
            " 'International TV Shows, Reality TV, Romantic TV Shows'\n",
            " 'International Movies, Music & Musicals, Romantic Movies'\n",
            " 'TV Comedies, TV Dramas'\n",
            " 'Anime Series, Crime TV Shows, International TV Shows'\n",
            " \"Kids' TV, TV Comedies, TV Dramas\" 'Action & Adventure, Comedies, Dramas'\n",
            " 'Documentaries, International Movies, Music & Musicals'\n",
            " \"Kids' TV, TV Comedies\" 'Classic Movies, Dramas, International Movies'\n",
            " 'Comedies, Independent Movies, International Movies'\n",
            " 'Classic Movies, Comedies, Dramas'\n",
            " 'International TV Shows, TV Action & Adventure, TV Mysteries'\n",
            " 'Comedies, International Movies, LGBTQ Movies'\n",
            " 'Children & Family Movies, Comedies, Sci-Fi & Fantasy'\n",
            " 'TV Dramas, Teen TV Shows' 'Children & Family Movies, Independent Movies'\n",
            " 'International TV Shows, Spanish-Language TV Shows, TV Comedies'\n",
            " 'Crime TV Shows, TV Action & Adventure, TV Dramas'\n",
            " 'Action & Adventure, Anime Features, International Movies'\n",
            " 'Action & Adventure, Classic Movies, Comedies'\n",
            " 'Crime TV Shows, TV Dramas' 'TV Horror, TV Mysteries, TV Thrillers'\n",
            " 'TV Dramas, TV Thrillers' 'Comedies, Cult Movies, Dramas'\n",
            " 'Crime TV Shows, TV Comedies, Teen TV Shows'\n",
            " 'Dramas, Faith & Spirituality' 'Comedies, Dramas, LGBTQ Movies'\n",
            " 'Action & Adventure, Comedies, Cult Movies'\n",
            " 'International TV Shows, TV Action & Adventure, TV Comedies'\n",
            " 'Dramas, Independent Movies, Music & Musicals'\n",
            " 'International TV Shows, TV Horror, TV Thrillers'\n",
            " 'International TV Shows, TV Horror, TV Mysteries'\n",
            " 'International TV Shows, TV Dramas, Teen TV Shows'\n",
            " 'Anime Series, International TV Shows, Teen TV Shows'\n",
            " 'Dramas, Sci-Fi & Fantasy, Thrillers'\n",
            " 'TV Action & Adventure, TV Dramas, TV Mysteries'\n",
            " 'Crime TV Shows, International TV Shows, TV Comedies'\n",
            " 'Action & Adventure, Comedies, Sci-Fi & Fantasy' \"Anime Series, Kids' TV\"\n",
            " 'Crime TV Shows, International TV Shows, Spanish-Language TV Shows'\n",
            " 'Horror Movies, Sci-Fi & Fantasy, Thrillers'\n",
            " 'International TV Shows, Korean TV Shows, TV Dramas'\n",
            " 'Stand-Up Comedy & Talk Shows'\n",
            " 'International Movies, Sci-Fi & Fantasy, Thrillers'\n",
            " 'Crime TV Shows, TV Action & Adventure'\n",
            " 'International TV Shows, Korean TV Shows, TV Action & Adventure'\n",
            " 'TV Action & Adventure, TV Comedies, TV Horror'\n",
            " 'International TV Shows, Romantic TV Shows'\n",
            " \"Crime TV Shows, Kids' TV, TV Comedies\"\n",
            " 'TV Comedies, TV Dramas, Teen TV Shows'\n",
            " 'Docuseries, International TV Shows, Reality TV'\n",
            " \"Classic & Cult TV, Kids' TV, TV Action & Adventure\"\n",
            " 'Horror Movies, Sci-Fi & Fantasy'\n",
            " 'Romantic TV Shows, TV Dramas, TV Sci-Fi & Fantasy'\n",
            " 'Dramas, International Movies, Sci-Fi & Fantasy'\n",
            " 'Children & Family Movies, Sports Movies'\n",
            " 'Dramas, Independent Movies, Thrillers'\n",
            " 'Independent Movies, International Movies, Thrillers'\n",
            " 'British TV Shows, TV Comedies'\n",
            " 'International TV Shows, Spanish-Language TV Shows, TV Dramas'\n",
            " 'Action & Adventure, Comedies, Independent Movies'\n",
            " 'International TV Shows, TV Action & Adventure, TV Dramas'\n",
            " 'Children & Family Movies, Music & Musicals' 'Music & Musicals'\n",
            " 'Action & Adventure, International Movies, Music & Musicals'\n",
            " 'Comedies, Sports Movies' 'Classic Movies, Thrillers'\n",
            " 'Docuseries, Reality TV' 'Crime TV Shows, TV Dramas, TV Horror'\n",
            " 'Crime TV Shows, TV Comedies, TV Dramas'\n",
            " 'British TV Shows, Docuseries, Reality TV'\n",
            " 'Reality TV, Science & Nature TV, TV Action & Adventure'\n",
            " 'Children & Family Movies, Documentaries, International Movies'\n",
            " 'Crime TV Shows, Romantic TV Shows, TV Dramas'\n",
            " 'British TV Shows, Docuseries'\n",
            " 'Documentaries, LGBTQ Movies, Music & Musicals'\n",
            " 'Romantic TV Shows, TV Dramas' 'Independent Movies, Thrillers'\n",
            " 'International TV Shows, TV Action & Adventure, TV Horror'\n",
            " 'Children & Family Movies, Documentaries, Sports Movies'\n",
            " 'Stand-Up Comedy & Talk Shows, TV Mysteries, TV Sci-Fi & Fantasy'\n",
            " 'International TV Shows, Reality TV, TV Comedies'\n",
            " 'Dramas, International Movies, LGBTQ Movies'\n",
            " 'Action & Adventure, Dramas, Independent Movies'\n",
            " 'British TV Shows, International TV Shows, TV Dramas'\n",
            " 'TV Action & Adventure, TV Dramas, TV Sci-Fi & Fantasy'\n",
            " 'TV Action & Adventure, TV Dramas, TV Horror'\n",
            " 'Action & Adventure, Anime Features, Sci-Fi & Fantasy' 'Anime Series'\n",
            " 'TV Dramas, TV Mysteries, TV Thrillers'\n",
            " 'Music & Musicals, Stand-Up Comedy'\n",
            " 'Docuseries, International TV Shows, Spanish-Language TV Shows'\n",
            " 'Crime TV Shows, International TV Shows, Reality TV'\n",
            " \"British TV Shows, Kids' TV\" 'Docuseries, Spanish-Language TV Shows'\n",
            " 'Crime TV Shows, TV Dramas, TV Thrillers'\n",
            " 'Documentaries, International Movies, LGBTQ Movies'\n",
            " 'British TV Shows, Crime TV Shows, International TV Shows'\n",
            " 'Action & Adventure, Independent Movies'\n",
            " 'Classic Movies, Dramas, Romantic Movies'\n",
            " 'Crime TV Shows, Romantic TV Shows, Spanish-Language TV Shows'\n",
            " 'Children & Family Movies, Comedies, Dramas' 'Cult Movies, Horror Movies'\n",
            " \"Kids' TV, TV Thrillers\" 'Classic Movies, Cult Movies, Horror Movies'\n",
            " 'Anime Series, Crime TV Shows, TV Thrillers'\n",
            " 'Anime Series, TV Horror, TV Thrillers' 'Classic Movies, Dramas'\n",
            " 'British TV Shows, Crime TV Shows, Docuseries'\n",
            " 'Action & Adventure, International Movies, Thrillers'\n",
            " 'Anime Series, Teen TV Shows'\n",
            " 'Children & Family Movies, Dramas, International Movies'\n",
            " 'Dramas, Faith & Spirituality, International Movies'\n",
            " 'TV Horror, TV Mysteries, Teen TV Shows'\n",
            " 'Children & Family Movies, Classic Movies'\n",
            " 'TV Dramas, TV Sci-Fi & Fantasy' 'Reality TV, Teen TV Shows'\n",
            " 'Docuseries, Reality TV, Teen TV Shows' 'Classic & Cult TV, TV Comedies'\n",
            " 'International TV Shows, Korean TV Shows, Reality TV'\n",
            " 'International TV Shows, Stand-Up Comedy & Talk Shows, TV Comedies'\n",
            " 'British TV Shows, International TV Shows, Romantic TV Shows'\n",
            " 'International TV Shows, TV Dramas, TV Thrillers' 'Anime Features'\n",
            " 'TV Horror, TV Mysteries, TV Sci-Fi & Fantasy'\n",
            " 'Children & Family Movies, Classic Movies, Comedies'\n",
            " 'Comedies, Faith & Spirituality, Romantic Movies'\n",
            " 'Classic Movies, Comedies, International Movies'\n",
            " 'Action & Adventure, Horror Movies, Sci-Fi & Fantasy'\n",
            " 'Action & Adventure, Classic Movies'\n",
            " 'TV Dramas, TV Sci-Fi & Fantasy, TV Thrillers'\n",
            " 'Comedies, Sci-Fi & Fantasy' 'Action & Adventure, Cult Movies, Dramas'\n",
            " 'TV Action & Adventure, TV Dramas' \"Kids' TV, Korean TV Shows\"\n",
            " 'Action & Adventure, Independent Movies, International Movies'\n",
            " 'Dramas, Faith & Spirituality, Independent Movies'\n",
            " 'Docuseries, TV Comedies'\n",
            " 'Documentaries, Faith & Spirituality, Music & Musicals'\n",
            " 'Romantic TV Shows, TV Comedies' \"Kids' TV, Spanish-Language TV Shows\"\n",
            " \"British TV Shows, Kids' TV, TV Thrillers\"\n",
            " 'Action & Adventure, Romantic Movies'\n",
            " 'British TV Shows, Classic & Cult TV, TV Comedies'\n",
            " 'Action & Adventure, Horror Movies, International Movies'\n",
            " 'Children & Family Movies, Documentaries'\n",
            " \"British TV Shows, Kids' TV, TV Comedies\"\n",
            " 'Horror Movies, Independent Movies, Sci-Fi & Fantasy'\n",
            " 'TV Sci-Fi & Fantasy, TV Thrillers'\n",
            " 'Romantic TV Shows, TV Comedies, TV Dramas'\n",
            " 'Reality TV, Romantic TV Shows'\n",
            " 'Classic Movies, Dramas, Independent Movies'\n",
            " 'Romantic TV Shows, TV Dramas, Teen TV Shows'\n",
            " 'TV Action & Adventure, TV Sci-Fi & Fantasy'\n",
            " 'British TV Shows, TV Horror, TV Thrillers'\n",
            " 'International Movies, Sports Movies' 'International Movies'\n",
            " 'Anime Series, International TV Shows, TV Horror'\n",
            " 'International TV Shows' 'Dramas, Music & Musicals, Sports Movies'\n",
            " 'International TV Shows, Spanish-Language TV Shows, TV Action & Adventure'\n",
            " 'Cult Movies, Dramas, International Movies'\n",
            " 'TV Action & Adventure, TV Comedies, TV Sci-Fi & Fantasy'\n",
            " 'Reality TV, Science & Nature TV'\n",
            " 'Action & Adventure, Anime Features, Children & Family Movies'\n",
            " \"Kids' TV, TV Action & Adventure\"\n",
            " 'Children & Family Movies, Sci-Fi & Fantasy' \"Crime TV Shows, Kids' TV\"\n",
            " 'International Movies, Music & Musicals, Thrillers'\n",
            " 'Crime TV Shows, Spanish-Language TV Shows, TV Action & Adventure'\n",
            " \"Classic & Cult TV, Kids' TV, Spanish-Language TV Shows\"\n",
            " 'Romantic TV Shows, Spanish-Language TV Shows, TV Dramas'\n",
            " 'Action & Adventure, Cult Movies, International Movies'\n",
            " 'Crime TV Shows, Spanish-Language TV Shows, TV Dramas'\n",
            " 'Action & Adventure, Children & Family Movies, Dramas'\n",
            " 'Dramas, Romantic Movies, Sci-Fi & Fantasy'\n",
            " 'Action & Adventure, Dramas, Sci-Fi & Fantasy'\n",
            " 'International TV Shows, TV Mysteries, TV Thrillers'\n",
            " 'Anime Series, International TV Shows, TV Thrillers'\n",
            " 'Horror Movies, International Movies, Sci-Fi & Fantasy'\n",
            " 'Comedies, Cult Movies, International Movies'\n",
            " 'Comedies, Music & Musicals, Romantic Movies'\n",
            " 'Children & Family Movies, Comedies, Faith & Spirituality'\n",
            " 'Crime TV Shows, Docuseries, TV Mysteries'\n",
            " 'Crime TV Shows, Docuseries, Science & Nature TV'\n",
            " 'British TV Shows, Crime TV Shows, TV Dramas'\n",
            " 'Classic Movies, Comedies, Cult Movies'\n",
            " 'International Movies, Romantic Movies, Thrillers'\n",
            " 'Classic Movies, Dramas, Music & Musicals'\n",
            " 'Cult Movies, Horror Movies, Thrillers' 'Anime Features, Romantic Movies'\n",
            " 'Comedies, Dramas, Music & Musicals'\n",
            " 'Anime Features, International Movies, Romantic Movies'\n",
            " 'Documentaries, Faith & Spirituality, International Movies'\n",
            " 'Action & Adventure, Classic Movies, Sci-Fi & Fantasy'\n",
            " 'International TV Shows, Stand-Up Comedy & Talk Shows'\n",
            " \"British TV Shows, Kids' TV, TV Dramas\"\n",
            " 'Classic & Cult TV, TV Action & Adventure, TV Horror'\n",
            " 'Children & Family Movies, Dramas, Faith & Spirituality'\n",
            " 'TV Action & Adventure, TV Comedies'\n",
            " 'Action & Adventure, Anime Features, Horror Movies'\n",
            " 'Crime TV Shows, International TV Shows, Romantic TV Shows'\n",
            " 'Classic Movies, Comedies, Music & Musicals'\n",
            " 'Comedies, Horror Movies, International Movies'\n",
            " \"Kids' TV, Spanish-Language TV Shows, Teen TV Shows\" 'Independent Movies'\n",
            " 'Crime TV Shows, International TV Shows, TV Mysteries'\n",
            " 'Action & Adventure, Thrillers' \"Kids' TV, TV Dramas, Teen TV Shows\"\n",
            " 'Anime Series, Crime TV Shows' \"Kids' TV, TV Dramas\"\n",
            " 'Crime TV Shows, TV Action & Adventure, TV Comedies'\n",
            " 'TV Comedies, Teen TV Shows' 'Reality TV, TV Horror, TV Thrillers'\n",
            " 'Documentaries, Horror Movies'\n",
            " 'Classic & Cult TV, TV Horror, TV Mysteries'\n",
            " 'Action & Adventure, Cult Movies, Sci-Fi & Fantasy'\n",
            " 'Anime Series, International TV Shows, Romantic TV Shows'\n",
            " 'Action & Adventure, Comedies, Romantic Movies'\n",
            " 'Comedies, Dramas, Faith & Spirituality'\n",
            " 'Comedies, Faith & Spirituality, International Movies' 'Romantic Movies'\n",
            " 'Dramas, Horror Movies, Sci-Fi & Fantasy'\n",
            " 'International TV Shows, Korean TV Shows, TV Comedies'\n",
            " 'Comedies, Independent Movies, LGBTQ Movies'\n",
            " 'TV Comedies, TV Dramas, TV Sci-Fi & Fantasy' 'Dramas, Music & Musicals'\n",
            " 'Dramas, Faith & Spirituality, Romantic Movies'\n",
            " 'International TV Shows, TV Action & Adventure, TV Sci-Fi & Fantasy'\n",
            " 'Reality TV, TV Comedies' \"Docuseries, Kids' TV, Science & Nature TV\"\n",
            " 'Action & Adventure, Sci-Fi & Fantasy, Thrillers'\n",
            " 'Action & Adventure, Children & Family Movies, Sci-Fi & Fantasy'\n",
            " 'Action & Adventure, Children & Family Movies, Classic Movies'\n",
            " 'Horror Movies, International Movies, Romantic Movies'\n",
            " 'TV Action & Adventure' 'TV Comedies, TV Dramas, TV Horror'\n",
            " 'British TV Shows, International TV Shows, Stand-Up Comedy & Talk Shows'\n",
            " 'Dramas, Music & Musicals, Sci-Fi & Fantasy'\n",
            " 'Spanish-Language TV Shows, TV Dramas' 'Documentaries, Stand-Up Comedy'\n",
            " 'Classic & Cult TV, TV Action & Adventure, TV Dramas'\n",
            " 'British TV Shows, TV Dramas, TV Sci-Fi & Fantasy'\n",
            " 'Anime Features, Music & Musicals'\n",
            " 'International TV Shows, TV Comedies, TV Sci-Fi & Fantasy'\n",
            " 'Comedies, Independent Movies, Romantic Movies'\n",
            " 'Comedies, Cult Movies, Horror Movies'\n",
            " 'Comedies, Cult Movies, Sports Movies' 'Classic Movies, Documentaries'\n",
            " 'Sci-Fi & Fantasy, Thrillers'\n",
            " 'Classic & Cult TV, Crime TV Shows, International TV Shows'\n",
            " \"Kids' TV, Korean TV Shows, TV Comedies\"\n",
            " 'British TV Shows, Romantic TV Shows, TV Dramas'\n",
            " 'Action & Adventure, Faith & Spirituality, Sci-Fi & Fantasy'\n",
            " 'TV Dramas, TV Sci-Fi & Fantasy, Teen TV Shows'\n",
            " 'Action & Adventure, Children & Family Movies'\n",
            " 'Comedies, Horror Movies, Independent Movies'\n",
            " 'Action & Adventure, Classic Movies, Cult Movies'\n",
            " 'TV Dramas, TV Horror, TV Mysteries'\n",
            " 'International Movies, Romantic Movies, Sci-Fi & Fantasy'\n",
            " 'Anime Series, Romantic TV Shows, Teen TV Shows'\n",
            " 'TV Action & Adventure, TV Horror, TV Sci-Fi & Fantasy'\n",
            " 'Anime Features, Music & Musicals, Sci-Fi & Fantasy'\n",
            " 'Action & Adventure, Anime Features, Classic Movies'\n",
            " 'International TV Shows, Reality TV, Spanish-Language TV Shows'\n",
            " 'Anime Series, Romantic TV Shows'\n",
            " 'International TV Shows, Reality TV, TV Action & Adventure'\n",
            " 'TV Comedies, TV Dramas, TV Mysteries'\n",
            " 'Docuseries, Science & Nature TV, TV Dramas'\n",
            " 'Crime TV Shows, TV Action & Adventure, TV Thrillers'\n",
            " 'Anime Features, Children & Family Movies' 'Docuseries, TV Dramas'\n",
            " 'British TV Shows, International TV Shows, TV Action & Adventure'\n",
            " 'Comedies, Cult Movies, Independent Movies'\n",
            " 'Action & Adventure, Horror Movies, Independent Movies'\n",
            " 'British TV Shows, Docuseries, TV Comedies' 'Comedies, Documentaries'\n",
            " 'British TV Shows, Classic & Cult TV, International TV Shows'\n",
            " 'TV Comedies, TV Sci-Fi & Fantasy'\n",
            " 'TV Comedies, TV Sci-Fi & Fantasy, Teen TV Shows'\n",
            " 'Documentaries, Dramas, International Movies'\n",
            " 'Action & Adventure, Classic Movies, International Movies'\n",
            " 'Cult Movies, Independent Movies, Thrillers'\n",
            " 'Comedies, Independent Movies, Music & Musicals'\n",
            " 'TV Action & Adventure, TV Dramas, Teen TV Shows'\n",
            " 'Romantic TV Shows, TV Action & Adventure, TV Dramas'\n",
            " 'Crime TV Shows, TV Comedies'\n",
            " 'Classic Movies, Cult Movies, Documentaries'\n",
            " 'Children & Family Movies, Comedies, Cult Movies'\n",
            " \"Classic & Cult TV, Kids' TV, TV Comedies\"\n",
            " 'Classic Movies, Dramas, LGBTQ Movies'\n",
            " 'Comedies, Romantic Movies, Sports Movies'\n",
            " \"Anime Series, Kids' TV, TV Action & Adventure\"\n",
            " 'Action & Adventure, Children & Family Movies, Comedies'\n",
            " 'Reality TV, TV Comedies, TV Horror'\n",
            " 'Classic Movies, Dramas, Sports Movies'\n",
            " \"Kids' TV, TV Action & Adventure, TV Dramas\"\n",
            " 'Action & Adventure, Sci-Fi & Fantasy, Sports Movies'\n",
            " 'Dramas, Romantic Movies, Thrillers' 'Action & Adventure, Cult Movies'\n",
            " 'Children & Family Movies, Dramas, Independent Movies'\n",
            " 'Children & Family Movies, Comedies, LGBTQ Movies'\n",
            " 'Action & Adventure, Comedies, Music & Musicals'\n",
            " 'Classic Movies, Horror Movies, Thrillers'\n",
            " 'Classic & Cult TV, TV Dramas, TV Sci-Fi & Fantasy'\n",
            " 'Children & Family Movies, Comedies, Sports Movies'\n",
            " 'Docuseries, Stand-Up Comedy & Talk Shows'\n",
            " 'Action & Adventure, Dramas, Faith & Spirituality'\n",
            " 'TV Comedies, TV Horror, TV Thrillers'\n",
            " 'Classic Movies, Comedies, Independent Movies'\n",
            " 'Crime TV Shows, TV Horror, TV Mysteries'\n",
            " 'Children & Family Movies, Classic Movies, Dramas'\n",
            " 'Romantic TV Shows, Spanish-Language TV Shows, TV Comedies'\n",
            " 'Dramas, Faith & Spirituality, Sports Movies'\n",
            " 'Classic & Cult TV, TV Action & Adventure, TV Sci-Fi & Fantasy'\n",
            " 'International TV Shows, Korean TV Shows, TV Horror'\n",
            " 'Classic Movies, Comedies, Romantic Movies'\n",
            " 'Dramas, Horror Movies, Music & Musicals'\n",
            " 'Cult Movies, Horror Movies, Independent Movies'\n",
            " 'Classic Movies, Dramas, Thrillers'\n",
            " 'TV Dramas, TV Mysteries, TV Sci-Fi & Fantasy'\n",
            " 'Classic Movies, Independent Movies, Thrillers'\n",
            " 'TV Comedies, TV Mysteries'\n",
            " 'International TV Shows, Romantic TV Shows, TV Mysteries'\n",
            " \"Kids' TV, TV Comedies, Teen TV Shows\"\n",
            " 'Crime TV Shows, TV Action & Adventure, TV Sci-Fi & Fantasy'\n",
            " \"Kids' TV, TV Comedies, TV Sci-Fi & Fantasy\"\n",
            " 'Anime Series, International TV Shows, Spanish-Language TV Shows'\n",
            " 'Cult Movies, Dramas, Thrillers'\n",
            " 'International TV Shows, Spanish-Language TV Shows, TV Horror'\n",
            " 'Children & Family Movies, Faith & Spirituality'\n",
            " 'Comedies, Music & Musicals, Sports Movies'\n",
            " 'Classic Movies, Comedies, Sports Movies'\n",
            " 'Comedies, Dramas, Sports Movies'\n",
            " 'Action & Adventure, Dramas, Sports Movies'\n",
            " \"Kids' TV, Reality TV, TV Dramas\"\n",
            " 'Horror Movies, LGBTQ Movies, Music & Musicals'\n",
            " 'Comedies, LGBTQ Movies, Music & Musicals'\n",
            " 'International TV Shows, Romantic TV Shows, TV Action & Adventure'\n",
            " 'Cult Movies, Documentaries, LGBTQ Movies'\n",
            " 'Action & Adventure, Romantic Movies, Sci-Fi & Fantasy'\n",
            " 'Classic & Cult TV, TV Sci-Fi & Fantasy'\n",
            " 'TV Action & Adventure, TV Mysteries, TV Sci-Fi & Fantasy'\n",
            " 'Children & Family Movies, Dramas, Music & Musicals'\n",
            " 'Docuseries, TV Sci-Fi & Fantasy'\n",
            " \"British TV Shows, Classic & Cult TV, Kids' TV\"\n",
            " 'Action & Adventure, International Movies, Sports Movies'\n",
            " 'Docuseries, Science & Nature TV, TV Action & Adventure'\n",
            " 'Comedies, Cult Movies, LGBTQ Movies'\n",
            " 'Crime TV Shows, International TV Shows, TV Sci-Fi & Fantasy'\n",
            " 'Comedies, Horror Movies, Sci-Fi & Fantasy'\n",
            " 'Action & Adventure, Comedies, Horror Movies'\n",
            " 'Classic & Cult TV, Crime TV Shows, TV Dramas' 'TV Horror, Teen TV Shows'\n",
            " 'Reality TV, Spanish-Language TV Shows'\n",
            " 'Action & Adventure, Documentaries, Sports Movies'\n",
            " 'Anime Features, International Movies, Sci-Fi & Fantasy'\n",
            " 'LGBTQ Movies, Thrillers' 'Action & Adventure, Sports Movies'\n",
            " 'International Movies, LGBTQ Movies, Romantic Movies'\n",
            " \"Kids' TV, Reality TV, Science & Nature TV\"\n",
            " 'International TV Shows, Spanish-Language TV Shows, Stand-Up Comedy & Talk Shows']\n",
            "['In a future where the elite inhabit an island paradise far from the crowded slums, you get one chance to join the 3% saved from squalor.'\n",
            " 'After a devastating earthquake hits Mexico City, trapped survivors from all walks of life wait to be rescued while trying desperately to stay alive.'\n",
            " \"When an army recruit is found dead, his fellow soldiers are forced to confront a terrifying secret that's haunting their jungle island training camp.\"\n",
            " ...\n",
            " \"In this documentary, South African rapper Nasty C hits the stage and streets of Tokyo, introducing himself to the city's sights, sounds and culture.\"\n",
            " 'Dessert wizard Adriano Zumbo looks for the next “Willy Wonka” in this tense competition that finds skilled amateurs competing for a $100,000 prize.'\n",
            " 'This documentary delves into the mystique behind the blues-rock trio and explores how the enigmatic band created their iconic look and sound.']\n"
          ]
        }
      ]
    },
    {
      "cell_type": "markdown",
      "source": [
        "## 3. ***Data Wrangling***"
      ],
      "metadata": {
        "id": "dauF4eBmngu3"
      }
    },
    {
      "cell_type": "markdown",
      "source": [
        "### Data Wrangling Code"
      ],
      "metadata": {
        "id": "bKJF3rekwFvQ"
      }
    },
    {
      "cell_type": "code",
      "source": [
        "# Write your code to make your dataset analysis ready.\n",
        "# Assigning the Ratings into grouped categories\n",
        "ratings = {\n",
        "    'TV-PG': 'Older Kids',\n",
        "    'TV-MA': 'Adults',\n",
        "    'TV-Y7-FV': 'Older Kids',\n",
        "    'TV-Y7': 'Older Kids',\n",
        "    'TV-14': 'Teens',\n",
        "    'R': 'Adults',\n",
        "    'TV-Y': 'Kids',\n",
        "    'NR': 'Adults',\n",
        "    'PG-13': 'Teens',\n",
        "    'TV-G': 'Kids',\n",
        "    'PG': 'Older Kids',\n",
        "    'G': 'Kids',\n",
        "    'UR': 'Adults',\n",
        "    'NC-17': 'Adults'}\n",
        "nfx_df['target_ages'] = nfx_df['rating'].replace(ratings)\n",
        "\n",
        "# Type should be a category\n",
        "nfx_df['type'] = pd.Categorical(nfx_df['type'])\n",
        "nfx_df['target_ages'] = pd.Categorical(nfx_df['target_ages'], categories=['Kids', 'Older Kids', 'Teens', 'Adults'])\n",
        "\n",
        "# Adding columns of month and year of addition\n",
        "nfx_df[\"date_added\"] = pd.to_datetime(nfx_df['date_added'])\n",
        "nfx_df['year'] = nfx_df['date_added'].dt.year\n",
        "nfx_df['month'] = nfx_df['date_added'].dt.month\n",
        "\n",
        "#  Creating two extra columns \n",
        "tv_shows=nfx_df[nfx_df['type']=='TV Show']\n",
        "movies=nfx_df[nfx_df['type']=='Movie']\n",
        "\n",
        "# duration manipulation for movie\n",
        "movies.duration = movies.duration.str.replace(' min','').astype(int)\n",
        "\n",
        "# duration manipulation for tv shows\n",
        "tv_shows.rename(columns={'duration':'seasons'}, inplace=True)\n",
        "tv_shows.replace({'seasons':{'1 Season':'1 Seasons'}}, inplace=True)\n",
        "tv_shows.seasons = tv_shows.seasons.str.replace(' Seasons','').astype(int)\n",
        "\n",
        "# Splitting datasets for movies and tv show\n",
        "df_movies = nfx_df[nfx_df['type']=='Movie'].copy()\n",
        "df_shows = nfx_df[nfx_df['type']=='TV Show'].copy()"
      ],
      "metadata": {
        "id": "wk-9a2fpoLcV"
      },
      "execution_count": 14,
      "outputs": []
    },
    {
      "cell_type": "markdown",
      "source": [
        "### What all manipulations have you done and insights you found?"
      ],
      "metadata": {
        "id": "MSa1f5Uengrz"
      }
    },
    {
      "cell_type": "markdown",
      "source": [
        "Answer Here - We assigned rating column different categories, and converted type column into a catgorical column. A new columns month and year have been added using date added column. Now columns make more sense and are understandable. We are ready to perform EDA on our dataset."
      ],
      "metadata": {
        "id": "LbyXE7I1olp8"
      }
    },
    {
      "cell_type": "markdown",
      "source": [
        "## ***4. Data Vizualization, Storytelling & Experimenting with charts : Understand the relationships between variables***"
      ],
      "metadata": {
        "id": "GF8Ens_Soomf"
      }
    },
    {
      "cell_type": "markdown",
      "source": [
        "##**Univariate Analysis**"
      ],
      "metadata": {
        "id": "-d8DRkvZsEQ0"
      }
    },
    {
      "cell_type": "markdown",
      "source": [
        "#### Chart - 1"
      ],
      "metadata": {
        "id": "0wOQAZs5pc--"
      }
    },
    {
      "cell_type": "code",
      "source": [
        "# Chart - 1 visualization code\n",
        "# pie chart for movie and tv show\n",
        "plot_donut_chart(df=nfx_df, col='type', colors=['red','black'], title='Distribution')"
      ],
      "metadata": {
        "id": "7v_ESjsspbW7",
        "colab": {
          "base_uri": "https://localhost:8080/",
          "height": 484
        },
        "outputId": "712f62f7-4625-4959-875b-4105911c1bb3"
      },
      "execution_count": 15,
      "outputs": [
        {
          "output_type": "display_data",
          "data": {
            "text/plain": [
              "<Figure size 576x576 with 1 Axes>"
            ],
            "image/png": "[encoded data removed]"
          },
          "metadata": {}
        }
      ]
    },
    {
      "cell_type": "markdown",
      "source": [
        "##### 1. Why did you pick the specific chart?"
      ],
      "metadata": {
        "id": "K5QZ13OEpz2H"
      }
    },
    {
      "cell_type": "markdown",
      "source": [
        "Answer Here - "
      ],
      "metadata": {
        "id": "XESiWehPqBRc"
      }
    },
    {
      "cell_type": "markdown",
      "source": [
        "##### 2. What is/are the insight(s) found from the chart?"
      ],
      "metadata": {
        "id": "lQ7QKXXCp7Bj"
      }
    },
    {
      "cell_type": "markdown",
      "source": [
        "Answer Here - ."
      ],
      "metadata": {
        "id": "C_j1G7yiqdRP"
      }
    },
    {
      "cell_type": "markdown",
      "source": [
        "##### 3. Will the gained insights help creating a positive business impact? \n",
        "Are there any insights that lead to negative growth? Justify with specific reason."
      ],
      "metadata": {
        "id": "448CDAPjqfQr"
      }
    },
    {
      "cell_type": "markdown",
      "source": [
        "Answer Here - "
      ],
      "metadata": {
        "id": "3cspy4FjqxJW"
      }
    },
    {
      "cell_type": "markdown",
      "source": [
        "#### Chart - 2"
      ],
      "metadata": {
        "id": "KSlN3yHqYklG"
      }
    },
    {
      "cell_type": "code",
      "source": [
        "# Chart - 2 visualization code\n",
        "# Graph for top 10 actors\n",
        "actors = nfx_df[nfx_df.cast != 'No Cast'].set_index('title').cast.str.split(', ', expand=True).stack().reset_index(level=1, drop=True)\n",
        "sns.countplot(y = actors, order=actors.value_counts().index[:10], palette='Paired')\n",
        "plt.show()"
      ],
      "metadata": {
        "id": "R4YgtaqtYklH",
        "colab": {
          "base_uri": "https://localhost:8080/",
          "height": 279
        },
        "outputId": "87f217ca-ae3f-497b-f348-232a138b0ec2"
      },
      "execution_count": 16,
      "outputs": [
        {
          "output_type": "display_data",
          "data": {
            "text/plain": [
              "<Figure size 432x288 with 1 Axes>"
            ],
            "image/png": "[encoded data removed]"
          },
          "metadata": {
            "needs_background": "light"
          }
        }
      ]
    },
    {
      "cell_type": "markdown",
      "source": [
        "##### 1. Why did you pick the specific chart?"
      ],
      "metadata": {
        "id": "t6dVpIINYklI"
      }
    },
    {
      "cell_type": "markdown",
      "source": [
        "Answer Here - Bar charts are one of the most common charts representing data and are very informative and easy to comprehend, ans therefore is main reason to use these to present this data."
      ],
      "metadata": {
        "id": "5aaW0BYyYklI"
      }
    },
    {
      "cell_type": "markdown",
      "source": [
        "##### 2. What is/are the insight(s) found from the chart?"
      ],
      "metadata": {
        "id": "ijmpgYnKYklI"
      }
    },
    {
      "cell_type": "markdown",
      "source": [
        "Answer Here -  This chart gives us a list of top 10 actors of movies and series, Anupam Kher and Shahrukh Khan are the best rated actors according to this representation followed by Naseeruddin Shah and Om Puri."
      ],
      "metadata": {
        "id": "PSx9atu2YklI"
      }
    },
    {
      "cell_type": "markdown",
      "source": [
        "##### 3. Will the gained insights help creating a positive business impact? \n",
        "Are there any insights that lead to negative growth? Justify with specific reason."
      ],
      "metadata": {
        "id": "-JiQyfWJYklI"
      }
    },
    {
      "cell_type": "markdown",
      "source": [
        "Answer Here"
      ],
      "metadata": {
        "id": "BcBbebzrYklV"
      }
    },
    {
      "cell_type": "markdown",
      "source": [
        "#### Chart - 3"
      ],
      "metadata": {
        "id": "EM7whBJCYoAo"
      }
    },
    {
      "cell_type": "code",
      "source": [
        "# Chart - 3 visualization code\n",
        "# Graph for top 10 directors\n",
        "directors = nfx_df[nfx_df.director != 'No Director'].set_index('title').director.str.split(', ', expand=True).stack().reset_index(level=1, drop=True)\n",
        "sns.countplot(y = directors, order=directors.value_counts().index[:10], palette='Set2')\n",
        "plt.show()\n"
      ],
      "metadata": {
        "id": "t6GMdE67YoAp",
        "colab": {
          "base_uri": "https://localhost:8080/",
          "height": 279
        },
        "outputId": "db9415d8-90e0-4e5b-ec4f-a148b88683a4"
      },
      "execution_count": 17,
      "outputs": [
        {
          "output_type": "display_data",
          "data": {
            "text/plain": [
              "<Figure size 432x288 with 1 Axes>"
            ],
            "image/png": "[encoded data removed]"
          },
          "metadata": {
            "needs_background": "light"
          }
        }
      ]
    },
    {
      "cell_type": "markdown",
      "source": [
        "##### 1. Why did you pick the specific chart?"
      ],
      "metadata": {
        "id": "fge-S5ZAYoAp"
      }
    },
    {
      "cell_type": "markdown",
      "source": [
        "Answer Here - Here also we have used bar charts to present top 10 directors, as these are best to comprehend, and compare this data."
      ],
      "metadata": {
        "id": "5dBItgRVYoAp"
      }
    },
    {
      "cell_type": "markdown",
      "source": [
        "##### 2. What is/are the insight(s) found from the chart?"
      ],
      "metadata": {
        "id": "85gYPyotYoAp"
      }
    },
    {
      "cell_type": "markdown",
      "source": [
        "Answer Here - Jan Suter, Raul Campous are the leading directors from the list tailed by Marcus Raboy and Jay Karas.\n",
        " \n",
        "\n"
      ],
      "metadata": {
        "id": "4jstXR6OYoAp"
      }
    },
    {
      "cell_type": "markdown",
      "source": [
        "##### 3. Will the gained insights help creating a positive business impact? \n",
        "Are there any insights that lead to negative growth? Justify with specific reason."
      ],
      "metadata": {
        "id": "RoGjAbkUYoAp"
      }
    },
    {
      "cell_type": "markdown",
      "source": [
        "Answer Here"
      ],
      "metadata": {
        "id": "zfJ8IqMcYoAp"
      }
    },
    {
      "cell_type": "markdown",
      "source": [
        "#### Chart - 4"
      ],
      "metadata": {
        "id": "4Of9eVA-YrdM"
      }
    },
    {
      "cell_type": "code",
      "source": [
        "# Chart - 4 visualization code\n",
        "# #Analysing top10 genre of the movies\n",
        "figure, ax= plt.subplots(nrows=1, ncols=2, figsize=(20,7))\n",
        "sns.countplot(y=movies['listed_in'],data=movies,order=movies['listed_in'].value_counts().index[0:10],  palette='Paired', ax=ax[0])\n",
        "ax[0].set_title('Top10 Genre of Movies')\n",
        "# #Analysing top10 genres of TVSHOWS\n",
        "sns.countplot(y=tv_shows['listed_in'],data=tv_shows,order=tv_shows['listed_in'].value_counts().index[0:10], palette='Paired', ax=ax[1])\n",
        "ax[1].set_title('Top10 Genre of TV Shows')\n",
        "\n",
        "plt.tight_layout()"
      ],
      "metadata": {
        "id": "irlUoxc8YrdO",
        "colab": {
          "base_uri": "https://localhost:8080/",
          "height": 501
        },
        "outputId": "4a6b9ea7-fe51-4250-b619-8a8cc8ebb5bc"
      },
      "execution_count": 18,
      "outputs": [
        {
          "output_type": "display_data",
          "data": {
            "text/plain": [
              "<Figure size 1440x504 with 2 Axes>"
            ],
            "image/png": "[encoded data removed]"
          },
          "metadata": {
            "needs_background": "light"
          }
        }
      ]
    },
    {
      "cell_type": "markdown",
      "source": [
        "##### 1. Why did you pick the specific chart?"
      ],
      "metadata": {
        "id": "iky9q4vBYrdO"
      }
    },
    {
      "cell_type": "markdown",
      "source": [
        "Answer Here - Bar charts are used to measure items across classes, here we have different genres as classes from 'listed_in' column, as we want to compare different genres."
      ],
      "metadata": {
        "id": "aJRCwT6DYrdO"
      }
    },
    {
      "cell_type": "markdown",
      "source": [
        "##### 2. What is/are the insight(s) found from the chart?"
      ],
      "metadata": {
        "id": "F6T5p64dYrdO"
      }
    },
    {
      "cell_type": "markdown",
      "source": [
        "Answer Here - Above plot clearly suggests most of the netflix movies and series are of documentary type, followed by standup comedy and drama genre. This shows that people prefer more these genres as compared to other genre, there are more views to these genres."
      ],
      "metadata": {
        "id": "Xx8WAJvtYrdO"
      }
    },
    {
      "cell_type": "markdown",
      "source": [
        "##### 3. Will the gained insights help creating a positive business impact? \n",
        "Are there any insights that lead to negative growth? Justify with specific reason."
      ],
      "metadata": {
        "id": "y-Ehk30pYrdP"
      }
    },
    {
      "cell_type": "markdown",
      "source": [
        "Answer Here - Producers can have an insight about top genres and can work accordingly, so that they can bring more content of that genre in order to make profit, they can also try to work on other genres and find what they are lacking in other genres that people are not that implicated towards those genres."
      ],
      "metadata": {
        "id": "jLNxxz7MYrdP"
      }
    },
    {
      "cell_type": "markdown",
      "source": [
        "#### Chart - 5"
      ],
      "metadata": {
        "id": "bamQiAODYuh1"
      }
    },
    {
      "cell_type": "code",
      "source": [
        "# Chart - 5 visualization code\n",
        "# Release of movies month-wise\n",
        "fig = plt.figure(figsize=(18,6))\n",
        "sns.set(style='whitegrid')\n",
        "fig.set_facecolor(\"lightblue\")\n",
        "sns.countplot(data=nfx_df,x = 'month',palette =\"autumn_r\")\n",
        "plt.title('Count Plot - Movies added to Netflix by month ', fontsize=10)\n",
        "plt.ylabel('\"No. of movies added to Netflix', fontsize=10)\n",
        "plt.xlabel('Month -> (Movies added to Netflix) ', fontsize=10)"
      ],
      "metadata": {
        "id": "TIJwrbroYuh3",
        "colab": {
          "base_uri": "https://localhost:8080/",
          "height": 423
        },
        "outputId": "a60257f1-97cc-43b3-db4f-8d4ad5e8f070"
      },
      "execution_count": 19,
      "outputs": [
        {
          "output_type": "execute_result",
          "data": {
            "text/plain": [
              "Text(0.5, 0, 'Month -> (Movies added to Netflix) ')"
            ]
          },
          "metadata": {},
          "execution_count": 19
        },
        {
          "output_type": "display_data",
          "data": {
            "text/plain": [
              "<Figure size 1296x432 with 1 Axes>"
            ],
            "image/png": "[encoded data removed]"
          },
          "metadata": {}
        }
      ]
    },
    {
      "cell_type": "markdown",
      "source": [
        "##### 1. Why did you pick the specific chart?"
      ],
      "metadata": {
        "id": "QHF8YVU7Yuh3"
      }
    },
    {
      "cell_type": "markdown",
      "source": [
        "Answer Here."
      ],
      "metadata": {
        "id": "dcxuIMRPYuh3"
      }
    },
    {
      "cell_type": "markdown",
      "source": [
        "##### 2. What is/are the insight(s) found from the chart?"
      ],
      "metadata": {
        "id": "GwzvFGzlYuh3"
      }
    },
    {
      "cell_type": "markdown",
      "source": [
        "Answer Here - Most of the movies and series are released in the month of October, December and January."
      ],
      "metadata": {
        "id": "uyqkiB8YYuh3"
      }
    },
    {
      "cell_type": "markdown",
      "source": [
        "##### 3. Will the gained insights help creating a positive business impact? \n",
        "Are there any insights that lead to negative growth? Justify with specific reason."
      ],
      "metadata": {
        "id": "qYpmQ266Yuh3"
      }
    },
    {
      "cell_type": "markdown",
      "source": [
        "Answer Here"
      ],
      "metadata": {
        "id": "_WtzZ_hCYuh4"
      }
    },
    {
      "cell_type": "markdown",
      "source": [
        "#### Chart - 6"
      ],
      "metadata": {
        "id": "OH-pJp9IphqM"
      }
    },
    {
      "cell_type": "code",
      "source": [
        "# Chart - 6 visualization code\n",
        "# Total release for last 10 years\n",
        "fig = plt.figure(figsize=(18,6))\n",
        "sns.set(style='whitegrid')\n",
        "fig.set_facecolor(\"lightblue\")\n",
        "sns.countplot(data = nfx_df,x = 'year',palette =\"autumn_r\")\n",
        "plt.title('Movies added to Netflix each year ', fontsize=10)\n",
        "plt.ylabel('No. of movies added to Netflix', fontsize=10)\n",
        "plt.xlabel('Year -> (Movies added to Netflix) ', fontsize=10)"
      ],
      "metadata": {
        "id": "kuRf4wtuphqN",
        "colab": {
          "base_uri": "https://localhost:8080/",
          "height": 423
        },
        "outputId": "3fb42508-7e7e-4002-82b7-84ddc7397d50"
      },
      "execution_count": 20,
      "outputs": [
        {
          "output_type": "execute_result",
          "data": {
            "text/plain": [
              "Text(0.5, 0, 'Year -> (Movies added to Netflix) ')"
            ]
          },
          "metadata": {},
          "execution_count": 20
        },
        {
          "output_type": "display_data",
          "data": {
            "text/plain": [
              "<Figure size 1296x432 with 1 Axes>"
            ],
            "image/png": "[encoded data removed]"
          },
          "metadata": {}
        }
      ]
    },
    {
      "cell_type": "markdown",
      "source": [
        "##### 1. Why did you pick the specific chart?"
      ],
      "metadata": {
        "id": "bbFf2-_FphqN"
      }
    },
    {
      "cell_type": "markdown",
      "source": [
        "Answer Here."
      ],
      "metadata": {
        "id": "loh7H2nzphqN"
      }
    },
    {
      "cell_type": "markdown",
      "source": [
        "##### 2. What is/are the insight(s) found from the chart?"
      ],
      "metadata": {
        "id": "_ouA3fa0phqN"
      }
    },
    {
      "cell_type": "markdown",
      "source": [
        "Answer Here - Hike was observed in the year 2019 for movie/series release, and then in 2021 there was sudden drop, reason behind this drop may be corona as shooting were cancelled due to pandemic in 2020. Netflix was not trending before 2015 so there were very less infact no releases before 2014."
      ],
      "metadata": {
        "id": "VECbqPI7phqN"
      }
    },
    {
      "cell_type": "markdown",
      "source": [
        "##### 3. Will the gained insights help creating a positive business impact? \n",
        "Are there any insights that lead to negative growth? Justify with specific reason."
      ],
      "metadata": {
        "id": "Seke61FWphqN"
      }
    },
    {
      "cell_type": "markdown",
      "source": [
        "Answer Here"
      ],
      "metadata": {
        "id": "DW4_bGpfphqN"
      }
    },
    {
      "cell_type": "markdown",
      "source": [
        "#**Bivariate Analysis**"
      ],
      "metadata": {
        "id": "9rZpvudlIfqr"
      }
    },
    {
      "cell_type": "markdown",
      "source": [
        "#### Chart - 7"
      ],
      "metadata": {
        "id": "Qw1FVmvjTCfs"
      }
    },
    {
      "cell_type": "code",
      "source": [
        "# Chart - 7 visualization code\n",
        "#ploting a distribution curve for netflix movies duration\n",
        "fig, ax = plt.subplots(1,2, figsize=(20, 5))\n",
        "g1 = sns.distplot(movies.duration, color='blue',ax=ax[0]);\n",
        "g1.set_xticks(np.arange(0,360,30))\n",
        "g1.set_title(\"Duration Distribution for Netflix Movies\")\n",
        "g1.set_ylabel(\"% of All Netflix Movies\")\n",
        "g1.set_xlabel(\"Duration (minutes)\")\n",
        "#ploting count of seasons fot Netflix TV shows\n",
        "g2 = sns.countplot(tv_shows.seasons, color='blue',ax=ax[1]);\n",
        "g2.set_title(\"Netflix TV Shows Seasons\")\n",
        "g2.set_ylabel(\"Count\")\n",
        "g2.set_xlabel(\"Season\")\n",
        "fig.show()"
      ],
      "metadata": {
        "id": "NvEA1MtDRcRl",
        "colab": {
          "base_uri": "https://localhost:8080/",
          "height": 355
        },
        "outputId": "3f469429-befc-42b8-8458-b699e25c9846"
      },
      "execution_count": 21,
      "outputs": [
        {
          "output_type": "display_data",
          "data": {
            "text/plain": [
              "<Figure size 1440x360 with 2 Axes>"
            ],
            "image/png": "[encoded data removed]"
          },
          "metadata": {}
        }
      ]
    },
    {
      "cell_type": "markdown",
      "source": [
        "##### 1. Why did you pick the specific chart?"
      ],
      "metadata": {
        "id": "vImtJcVWTMh1"
      }
    },
    {
      "cell_type": "markdown",
      "source": [
        "Answer Here."
      ],
      "metadata": {
        "id": "XTqQi5IWT1u9"
      }
    },
    {
      "cell_type": "markdown",
      "source": [
        "##### 2. What is/are the insight(s) found from the chart?"
      ],
      "metadata": {
        "id": "n0_hsL4hTk2z"
      }
    },
    {
      "cell_type": "markdown",
      "source": [
        "Answer Here."
      ],
      "metadata": {
        "id": "_EG56FvDT258"
      }
    },
    {
      "cell_type": "markdown",
      "source": [
        "##### 3. Will the gained insights help creating a positive business impact?\n",
        "Are there any insights that lead to negative growth? Justify with specific reason"
      ],
      "metadata": {
        "id": "wTAaQFV9TppS"
      }
    },
    {
      "cell_type": "markdown",
      "source": [
        "Answer Here."
      ],
      "metadata": {
        "id": "umUQbvvTT3wH"
      }
    },
    {
      "cell_type": "markdown",
      "source": [
        "#### Chart - 8"
      ],
      "metadata": {
        "id": "PIIx-8_IphqN"
      }
    },
    {
      "cell_type": "code",
      "source": [
        "# Chart - 8 visualization code"
      ],
      "metadata": {
        "id": "lqAIGUfyphqO"
      },
      "execution_count": 22,
      "outputs": []
    },
    {
      "cell_type": "markdown",
      "source": [
        "##### 1. Why did you pick the specific chart?"
      ],
      "metadata": {
        "id": "t27r6nlMphqO"
      }
    },
    {
      "cell_type": "markdown",
      "source": [
        "Answer Here."
      ],
      "metadata": {
        "id": "iv6ro40sphqO"
      }
    },
    {
      "cell_type": "markdown",
      "source": [
        "##### 2. What is/are the insight(s) found from the chart?"
      ],
      "metadata": {
        "id": "r2jJGEOYphqO"
      }
    },
    {
      "cell_type": "markdown",
      "source": [
        "Answer Here"
      ],
      "metadata": {
        "id": "Po6ZPi4hphqO"
      }
    },
    {
      "cell_type": "markdown",
      "source": [
        "##### 3. Will the gained insights help creating a positive business impact? \n",
        "Are there any insights that lead to negative growth? Justify with specific reason."
      ],
      "metadata": {
        "id": "b0JNsNcRphqO"
      }
    },
    {
      "cell_type": "markdown",
      "source": [
        "Answer Here"
      ],
      "metadata": {
        "id": "xvSq8iUTphqO"
      }
    },
    {
      "cell_type": "markdown",
      "source": [
        "#### Chart - 8"
      ],
      "metadata": {
        "id": "BZR9WyysphqO"
      }
    },
    {
      "cell_type": "code",
      "source": [
        "# Chart - 8 visualization code"
      ],
      "metadata": {
        "id": "TdPTWpAVphqO"
      },
      "execution_count": 23,
      "outputs": []
    },
    {
      "cell_type": "markdown",
      "source": [
        "##### 1. Why did you pick the specific chart?"
      ],
      "metadata": {
        "id": "jj7wYXLtphqO"
      }
    },
    {
      "cell_type": "markdown",
      "source": [
        "Answer Here."
      ],
      "metadata": {
        "id": "Ob8u6rCTphqO"
      }
    },
    {
      "cell_type": "markdown",
      "source": [
        "##### 2. What is/are the insight(s) found from the chart?"
      ],
      "metadata": {
        "id": "eZrbJ2SmphqO"
      }
    },
    {
      "cell_type": "markdown",
      "source": [
        "Answer Here"
      ],
      "metadata": {
        "id": "mZtgC_hjphqO"
      }
    },
    {
      "cell_type": "markdown",
      "source": [
        "##### 3. Will the gained insights help creating a positive business impact? \n",
        "Are there any insights that lead to negative growth? Justify with specific reason."
      ],
      "metadata": {
        "id": "rFu4xreNphqO"
      }
    },
    {
      "cell_type": "markdown",
      "source": [
        "Answer Here"
      ],
      "metadata": {
        "id": "ey_0qi68phqO"
      }
    },
    {
      "cell_type": "markdown",
      "source": [
        "#### Chart - 9"
      ],
      "metadata": {
        "id": "YJ55k-q6phqO"
      }
    },
    {
      "cell_type": "code",
      "source": [
        "# Chart - 9 visualization code"
      ],
      "metadata": {
        "id": "B2aS4O1ophqO"
      },
      "execution_count": 24,
      "outputs": []
    },
    {
      "cell_type": "markdown",
      "source": [
        "##### 1. Why did you pick the specific chart?"
      ],
      "metadata": {
        "id": "gCFgpxoyphqP"
      }
    },
    {
      "cell_type": "markdown",
      "source": [
        "Answer Here."
      ],
      "metadata": {
        "id": "TVxDimi2phqP"
      }
    },
    {
      "cell_type": "markdown",
      "source": [
        "##### 2. What is/are the insight(s) found from the chart?"
      ],
      "metadata": {
        "id": "OVtJsKN_phqQ"
      }
    },
    {
      "cell_type": "markdown",
      "source": [
        "Answer Here"
      ],
      "metadata": {
        "id": "ngGi97qjphqQ"
      }
    },
    {
      "cell_type": "markdown",
      "source": [
        "##### 3. Will the gained insights help creating a positive business impact? \n",
        "Are there any insights that lead to negative growth? Justify with specific reason."
      ],
      "metadata": {
        "id": "lssrdh5qphqQ"
      }
    },
    {
      "cell_type": "markdown",
      "source": [
        "Answer Here"
      ],
      "metadata": {
        "id": "tBpY5ekJphqQ"
      }
    },
    {
      "cell_type": "markdown",
      "source": [
        "#### Chart - 10"
      ],
      "metadata": {
        "id": "U2RJ9gkRphqQ"
      }
    },
    {
      "cell_type": "code",
      "source": [
        "# Chart - 10 visualization code"
      ],
      "metadata": {
        "id": "GM7a4YP4phqQ"
      },
      "execution_count": 25,
      "outputs": []
    },
    {
      "cell_type": "markdown",
      "source": [
        "##### 1. Why did you pick the specific chart?"
      ],
      "metadata": {
        "id": "1M8mcRywphqQ"
      }
    },
    {
      "cell_type": "markdown",
      "source": [
        "Answer Here."
      ],
      "metadata": {
        "id": "8agQvks0phqQ"
      }
    },
    {
      "cell_type": "markdown",
      "source": [
        "##### 2. What is/are the insight(s) found from the chart?"
      ],
      "metadata": {
        "id": "tgIPom80phqQ"
      }
    },
    {
      "cell_type": "markdown",
      "source": [
        "Answer Here"
      ],
      "metadata": {
        "id": "Qp13pnNzphqQ"
      }
    },
    {
      "cell_type": "markdown",
      "source": [
        "##### 3. Will the gained insights help creating a positive business impact? \n",
        "Are there any insights that lead to negative growth? Justify with specific reason."
      ],
      "metadata": {
        "id": "JMzcOPDDphqR"
      }
    },
    {
      "cell_type": "markdown",
      "source": [
        "Answer Here"
      ],
      "metadata": {
        "id": "R4Ka1PC2phqR"
      }
    },
    {
      "cell_type": "markdown",
      "source": [
        "#### Chart - 11"
      ],
      "metadata": {
        "id": "x-EpHcCOp1ci"
      }
    },
    {
      "cell_type": "code",
      "source": [
        "# Chart - 11 visualization code  "
      ],
      "metadata": {
        "id": "mAQTIvtqp1cj"
      },
      "execution_count": 26,
      "outputs": []
    },
    {
      "cell_type": "markdown",
      "source": [
        "##### 1. Why did you pick the specific chart?"
      ],
      "metadata": {
        "id": "X_VqEhTip1ck"
      }
    },
    {
      "cell_type": "markdown",
      "source": [
        "Answer Here."
      ],
      "metadata": {
        "id": "-vsMzt_np1ck"
      }
    },
    {
      "cell_type": "markdown",
      "source": [
        "##### 2. What is/are the insight(s) found from the chart?"
      ],
      "metadata": {
        "id": "8zGJKyg5p1ck"
      }
    },
    {
      "cell_type": "markdown",
      "source": [
        "Answer Here"
      ],
      "metadata": {
        "id": "ZYdMsrqVp1ck"
      }
    },
    {
      "cell_type": "markdown",
      "source": [
        "##### 3. Will the gained insights help creating a positive business impact? \n",
        "Are there any insights that lead to negative growth? Justify with specific reason."
      ],
      "metadata": {
        "id": "PVzmfK_Ep1ck"
      }
    },
    {
      "cell_type": "markdown",
      "source": [
        "Answer Here"
      ],
      "metadata": {
        "id": "druuKYZpp1ck"
      }
    },
    {
      "cell_type": "markdown",
      "source": [
        "#### Chart - 12"
      ],
      "metadata": {
        "id": "n3dbpmDWp1ck"
      }
    },
    {
      "cell_type": "code",
      "source": [
        "# Chart - 12 visualization code  "
      ],
      "metadata": {
        "id": "bwevp1tKp1ck"
      },
      "execution_count": 27,
      "outputs": []
    },
    {
      "cell_type": "markdown",
      "source": [
        "##### 1. Why did you pick the specific chart?"
      ],
      "metadata": {
        "id": "ylSl6qgtp1ck"
      }
    },
    {
      "cell_type": "markdown",
      "source": [
        "Answer Here."
      ],
      "metadata": {
        "id": "m2xqNkiQp1ck"
      }
    },
    {
      "cell_type": "markdown",
      "source": [
        "##### 2. What is/are the insight(s) found from the chart?"
      ],
      "metadata": {
        "id": "ZWILFDl5p1ck"
      }
    },
    {
      "cell_type": "markdown",
      "source": [
        "Answer Here"
      ],
      "metadata": {
        "id": "x-lUsV2mp1ck"
      }
    },
    {
      "cell_type": "markdown",
      "source": [
        "##### 3. Will the gained insights help creating a positive business impact? \n",
        "Are there any insights that lead to negative growth? Justify with specific reason."
      ],
      "metadata": {
        "id": "M7G43BXep1ck"
      }
    },
    {
      "cell_type": "markdown",
      "source": [
        "Answer Here"
      ],
      "metadata": {
        "id": "5wwDJXsLp1cl"
      }
    },
    {
      "cell_type": "markdown",
      "source": [
        "#### Chart - 13"
      ],
      "metadata": {
        "id": "Ag9LCva-p1cl"
      }
    },
    {
      "cell_type": "code",
      "source": [
        "# Chart - 13 visualization code"
      ],
      "metadata": {
        "id": "EUfxeq9-p1cl"
      },
      "execution_count": 28,
      "outputs": []
    },
    {
      "cell_type": "markdown",
      "source": [
        "##### 1. Why did you pick the specific chart?"
      ],
      "metadata": {
        "id": "E6MkPsBcp1cl"
      }
    },
    {
      "cell_type": "markdown",
      "source": [
        "Answer Here."
      ],
      "metadata": {
        "id": "V22bRsFWp1cl"
      }
    },
    {
      "cell_type": "markdown",
      "source": [
        "##### 2. What is/are the insight(s) found from the chart?"
      ],
      "metadata": {
        "id": "2cELzS2fp1cl"
      }
    },
    {
      "cell_type": "markdown",
      "source": [
        "Answer Here"
      ],
      "metadata": {
        "id": "ozQPc2_Ip1cl"
      }
    },
    {
      "cell_type": "markdown",
      "source": [
        "##### 3. Will the gained insights help creating a positive business impact? \n",
        "Are there any insights that lead to negative growth? Justify with specific reason."
      ],
      "metadata": {
        "id": "3MPXvC8up1cl"
      }
    },
    {
      "cell_type": "markdown",
      "source": [
        "Answer Here"
      ],
      "metadata": {
        "id": "GL8l1tdLp1cl"
      }
    },
    {
      "cell_type": "markdown",
      "source": [
        "#**Multivariate Analysis**"
      ],
      "metadata": {
        "id": "dxfYUNu7IvjA"
      }
    },
    {
      "cell_type": "markdown",
      "source": [
        "#### Chart - 14 - Correlation Heatmap"
      ],
      "metadata": {
        "id": "NC_X3p0fY2L0"
      }
    },
    {
      "cell_type": "code",
      "source": [
        "# Correlation Heatmap visualization code"
      ],
      "metadata": {
        "id": "xyC9zolEZNRQ"
      },
      "execution_count": 29,
      "outputs": []
    },
    {
      "cell_type": "markdown",
      "source": [
        "##### 1. Why did you pick the specific chart?"
      ],
      "metadata": {
        "id": "UV0SzAkaZNRQ"
      }
    },
    {
      "cell_type": "markdown",
      "source": [
        "Answer Here."
      ],
      "metadata": {
        "id": "DVPuT8LYZNRQ"
      }
    },
    {
      "cell_type": "markdown",
      "source": [
        "##### 2. What is/are the insight(s) found from the chart?"
      ],
      "metadata": {
        "id": "YPEH6qLeZNRQ"
      }
    },
    {
      "cell_type": "markdown",
      "source": [
        "Answer Here"
      ],
      "metadata": {
        "id": "bfSqtnDqZNRR"
      }
    },
    {
      "cell_type": "markdown",
      "source": [
        "#### Chart - 15 - Pair Plot "
      ],
      "metadata": {
        "id": "q29F0dvdveiT"
      }
    },
    {
      "cell_type": "code",
      "source": [
        "# Pair Plot visualization code"
      ],
      "metadata": {
        "id": "o58-TEIhveiU"
      },
      "execution_count": 30,
      "outputs": []
    },
    {
      "cell_type": "markdown",
      "source": [
        "##### 1. Why did you pick the specific chart?"
      ],
      "metadata": {
        "id": "EXh0U9oCveiU"
      }
    },
    {
      "cell_type": "markdown",
      "source": [
        "Answer Here."
      ],
      "metadata": {
        "id": "eMmPjTByveiU"
      }
    },
    {
      "cell_type": "markdown",
      "source": [
        "##### 2. What is/are the insight(s) found from the chart?"
      ],
      "metadata": {
        "id": "22aHeOlLveiV"
      }
    },
    {
      "cell_type": "markdown",
      "source": [
        "Answer Here"
      ],
      "metadata": {
        "id": "uPQ8RGwHveiV"
      }
    },
    {
      "cell_type": "markdown",
      "source": [
        "## ***5. Hypothesis Testing***"
      ],
      "metadata": {
        "id": "g-ATYxFrGrvw"
      }
    },
    {
      "cell_type": "markdown",
      "source": [
        "### Based on your chart experiments, define three hypothetical statements from the dataset. In the next three questions, perform hypothesis testing to obtain final conclusion about the statements through your code and statistical testing."
      ],
      "metadata": {
        "id": "Yfr_Vlr8HBkt"
      }
    },
    {
      "cell_type": "markdown",
      "source": [
        "Answer Here."
      ],
      "metadata": {
        "id": "-7MS06SUHkB-"
      }
    },
    {
      "cell_type": "markdown",
      "source": [
        "### Hypothetical Statement - 1"
      ],
      "metadata": {
        "id": "8yEUt7NnHlrM"
      }
    },
    {
      "cell_type": "markdown",
      "source": [
        "#### 1. State Your research hypothesis as a null hypothesis and alternate hypothesis."
      ],
      "metadata": {
        "id": "tEA2Xm5dHt1r"
      }
    },
    {
      "cell_type": "markdown",
      "source": [
        "Answer Here:\n",
        "\n"
      ],
      "metadata": {
        "id": "HI9ZP0laH0D-"
      }
    },
    {
      "cell_type": "markdown",
      "source": [
        "#### 2. Perform an appropriate statistical test."
      ],
      "metadata": {
        "id": "I79__PHVH19G"
      }
    },
    {
      "cell_type": "code",
      "source": [
        "# Perform Statistical Test to obtain P-Value"
      ],
      "metadata": {
        "id": "oZrfquKtyian"
      },
      "execution_count": 31,
      "outputs": []
    },
    {
      "cell_type": "markdown",
      "source": [
        "##### Which statistical test have you done to obtain P-Value?"
      ],
      "metadata": {
        "id": "Ou-I18pAyIpj"
      }
    },
    {
      "cell_type": "markdown",
      "source": [
        "Answer Here."
      ],
      "metadata": {
        "id": "s2U0kk00ygSB"
      }
    },
    {
      "cell_type": "markdown",
      "source": [
        "##### Why did you choose the specific statistical test?"
      ],
      "metadata": {
        "id": "fF3858GYyt-u"
      }
    },
    {
      "cell_type": "markdown",
      "source": [
        "Answer Here."
      ],
      "metadata": {
        "id": "HO4K0gP5y3B4"
      }
    },
    {
      "cell_type": "markdown",
      "source": [
        "### Hypothetical Statement - 2"
      ],
      "metadata": {
        "id": "4_0_7-oCpUZd"
      }
    },
    {
      "cell_type": "markdown",
      "source": [
        "#### 1. State Your research hypothesis as a null hypothesis and alternate hypothesis."
      ],
      "metadata": {
        "id": "hwyV_J3ipUZe"
      }
    },
    {
      "cell_type": "markdown",
      "source": [
        "Answer Here:\n",
        "\n"
      ],
      "metadata": {
        "id": "FnpLGJ-4pUZe"
      }
    },
    {
      "cell_type": "markdown",
      "source": [
        "#### 2. Perform an appropriate statistical test."
      ],
      "metadata": {
        "id": "3yB-zSqbpUZe"
      }
    },
    {
      "cell_type": "code",
      "source": [
        "# Perform Statistical Test to obtain P-Value"
      ],
      "metadata": {
        "id": "sWxdNTXNpUZe"
      },
      "execution_count": 32,
      "outputs": []
    },
    {
      "cell_type": "markdown",
      "source": [
        "##### Which statistical test have you done to obtain P-Value?"
      ],
      "metadata": {
        "id": "dEUvejAfpUZe"
      }
    },
    {
      "cell_type": "markdown",
      "source": [
        "Answer Here."
      ],
      "metadata": {
        "id": "oLDrPz7HpUZf"
      }
    },
    {
      "cell_type": "markdown",
      "source": [
        "##### Why did you choose the specific statistical test?"
      ],
      "metadata": {
        "id": "Fd15vwWVpUZf"
      }
    },
    {
      "cell_type": "markdown",
      "source": [
        "Answer Here."
      ],
      "metadata": {
        "id": "4xOGYyiBpUZf"
      }
    },
    {
      "cell_type": "markdown",
      "source": [
        "### Hypothetical Statement - 3"
      ],
      "metadata": {
        "id": "bn_IUdTipZyH"
      }
    },
    {
      "cell_type": "markdown",
      "source": [
        "#### 1. State Your research hypothesis as a null hypothesis and alternate hypothesis."
      ],
      "metadata": {
        "id": "49K5P_iCpZyH"
      }
    },
    {
      "cell_type": "markdown",
      "source": [
        "Answer Here."
      ],
      "metadata": {
        "id": "7gWI5rT9pZyH"
      }
    },
    {
      "cell_type": "markdown",
      "source": [
        "#### 2. Perform an appropriate statistical test."
      ],
      "metadata": {
        "id": "Nff-vKELpZyI"
      }
    },
    {
      "cell_type": "code",
      "source": [
        "# Perform Statistical Test to obtain P-Value"
      ],
      "metadata": {
        "id": "s6AnJQjtpZyI"
      },
      "execution_count": 33,
      "outputs": []
    },
    {
      "cell_type": "markdown",
      "source": [
        "##### Which statistical test have you done to obtain P-Value?"
      ],
      "metadata": {
        "id": "kLW572S8pZyI"
      }
    },
    {
      "cell_type": "markdown",
      "source": [
        "Answer Here."
      ],
      "metadata": {
        "id": "ytWJ8v15pZyI"
      }
    },
    {
      "cell_type": "markdown",
      "source": [
        "##### Why did you choose the specific statistical test?"
      ],
      "metadata": {
        "id": "dWbDXHzopZyI"
      }
    },
    {
      "cell_type": "markdown",
      "source": [
        "Answer Here."
      ],
      "metadata": {
        "id": "M99G98V6pZyI"
      }
    },
    {
      "cell_type": "markdown",
      "source": [
        "## ***6. Feature Engineering & Data Pre-processing***"
      ],
      "metadata": {
        "id": "yLjJCtPM0KBk"
      }
    },
    {
      "cell_type": "markdown",
      "source": [
        "### 1. Handling Missing Values"
      ],
      "metadata": {
        "id": "xiyOF9F70UgQ"
      }
    },
    {
      "cell_type": "code",
      "source": [
        "# Handling Missing Values & Missing Value Imputation"
      ],
      "metadata": {
        "id": "iRsAHk1K0fpS"
      },
      "execution_count": 34,
      "outputs": []
    },
    {
      "cell_type": "markdown",
      "source": [
        "#### What all missing value imputation techniques have you used and why did you use those techniques?"
      ],
      "metadata": {
        "id": "7wuGOrhz0itI"
      }
    },
    {
      "cell_type": "markdown",
      "source": [
        "Answer Here - "
      ],
      "metadata": {
        "id": "1ixusLtI0pqI"
      }
    },
    {
      "cell_type": "markdown",
      "source": [
        "### 2. Handling Outliers"
      ],
      "metadata": {
        "id": "id1riN9m0vUs"
      }
    },
    {
      "cell_type": "code",
      "source": [
        "# Handling Outliers & Outlier treatments"
      ],
      "metadata": {
        "id": "M6w2CzZf04JK"
      },
      "execution_count": 35,
      "outputs": []
    },
    {
      "cell_type": "markdown",
      "source": [
        "##### What all outlier treatment techniques have you used and why did you use those techniques?"
      ],
      "metadata": {
        "id": "578E2V7j08f6"
      }
    },
    {
      "cell_type": "markdown",
      "source": [
        "Answer Here."
      ],
      "metadata": {
        "id": "uGZz5OrT1HH-"
      }
    },
    {
      "cell_type": "markdown",
      "source": [
        "### 3. Categorical Encoding"
      ],
      "metadata": {
        "id": "89xtkJwZ18nB"
      }
    },
    {
      "cell_type": "code",
      "source": [
        "# Encode your categorical columns"
      ],
      "metadata": {
        "id": "21JmIYMG2hEo"
      },
      "execution_count": 36,
      "outputs": []
    },
    {
      "cell_type": "markdown",
      "source": [
        "#### What all categorical encoding techniques have you used & why did you use those techniques?"
      ],
      "metadata": {
        "id": "67NQN5KX2AMe"
      }
    },
    {
      "cell_type": "markdown",
      "source": [
        "Answer Here."
      ],
      "metadata": {
        "id": "UDaue5h32n_G"
      }
    },
    {
      "cell_type": "markdown",
      "source": [
        "### 4. Textual Data Preprocessing \n",
        "(It's mandatory for textual dataset i.e., NLP, Sentiment Analysis, Text Clustering etc.)"
      ],
      "metadata": {
        "id": "Iwf50b-R2tYG"
      }
    },
    {
      "cell_type": "markdown",
      "source": [
        "#### 1. Expand Contraction"
      ],
      "metadata": {
        "id": "GMQiZwjn3iu7"
      }
    },
    {
      "cell_type": "code",
      "source": [
        "# Expand Contraction"
      ],
      "metadata": {
        "id": "PTouz10C3oNN"
      },
      "execution_count": 37,
      "outputs": []
    },
    {
      "cell_type": "markdown",
      "source": [
        "#### 2. Lower Casing"
      ],
      "metadata": {
        "id": "WVIkgGqN3qsr"
      }
    },
    {
      "cell_type": "code",
      "source": [
        "# Lower Casing"
      ],
      "metadata": {
        "id": "88JnJ1jN3w7j"
      },
      "execution_count": 38,
      "outputs": []
    },
    {
      "cell_type": "markdown",
      "source": [
        "#### 3. Removing Punctuations"
      ],
      "metadata": {
        "id": "XkPnILGE3zoT"
      }
    },
    {
      "cell_type": "code",
      "source": [
        "# Remove Punctuations"
      ],
      "metadata": {
        "id": "vqbBqNaA33c0"
      },
      "execution_count": 39,
      "outputs": []
    },
    {
      "cell_type": "code",
      "source": [
        "# Calling our function"
      ],
      "metadata": {
        "id": "ZEIB-ARiCfy8"
      },
      "execution_count": 40,
      "outputs": []
    },
    {
      "cell_type": "markdown",
      "source": [
        "#### 4. Removing URLs & Removing words and digits contain digits."
      ],
      "metadata": {
        "id": "Hlsf0x5436Go"
      }
    },
    {
      "cell_type": "code",
      "source": [
        "# Remove URLs & Remove words and digits contain digits"
      ],
      "metadata": {
        "id": "2sxKgKxu4Ip3"
      },
      "execution_count": 41,
      "outputs": []
    },
    {
      "cell_type": "markdown",
      "source": [
        "#### 5. Removing Stopwords & Removing White spaces"
      ],
      "metadata": {
        "id": "mT9DMSJo4nBL"
      }
    },
    {
      "cell_type": "code",
      "source": [
        "# Remove Stopwords"
      ],
      "metadata": {
        "id": "T2LSJh154s8W"
      },
      "execution_count": 42,
      "outputs": []
    },
    {
      "cell_type": "code",
      "source": [
        "# Remove White spaces"
      ],
      "metadata": {
        "id": "EgLJGffy4vm0"
      },
      "execution_count": 43,
      "outputs": []
    },
    {
      "cell_type": "markdown",
      "source": [
        "#### 6. Rephrase Text"
      ],
      "metadata": {
        "id": "c49ITxTc407N"
      }
    },
    {
      "cell_type": "code",
      "source": [
        "# Rephrase Text"
      ],
      "metadata": {
        "id": "foqY80Qu48N2"
      },
      "execution_count": 44,
      "outputs": []
    },
    {
      "cell_type": "markdown",
      "source": [
        "#### 7. Tokenization"
      ],
      "metadata": {
        "id": "OeJFEK0N496M"
      }
    },
    {
      "cell_type": "code",
      "source": [
        "# Tokenization"
      ],
      "metadata": {
        "id": "ijx1rUOS5CUU"
      },
      "execution_count": 45,
      "outputs": []
    },
    {
      "cell_type": "markdown",
      "source": [
        "#### 8. Text Normalization"
      ],
      "metadata": {
        "id": "9ExmJH0g5HBk"
      }
    },
    {
      "cell_type": "code",
      "source": [
        "# Normalizing Text (i.e., Stemming, Lemmatization etc.)"
      ],
      "metadata": {
        "id": "AIJ1a-Zc5PY8"
      },
      "execution_count": 46,
      "outputs": []
    },
    {
      "cell_type": "markdown",
      "source": [
        "##### Which text normalization technique have you used and why?"
      ],
      "metadata": {
        "id": "cJNqERVU536h"
      }
    },
    {
      "cell_type": "markdown",
      "source": [
        "Answer Here."
      ],
      "metadata": {
        "id": "Z9jKVxE06BC1"
      }
    },
    {
      "cell_type": "markdown",
      "source": [
        "#### 9. Part of speech tagging"
      ],
      "metadata": {
        "id": "k5UmGsbsOxih"
      }
    },
    {
      "cell_type": "code",
      "source": [
        "# POS Taging"
      ],
      "metadata": {
        "id": "btT3ZJBAO6Ik"
      },
      "execution_count": 47,
      "outputs": []
    },
    {
      "cell_type": "markdown",
      "source": [
        "#### 10. Text Vectorization"
      ],
      "metadata": {
        "id": "T0VqWOYE6DLQ"
      }
    },
    {
      "cell_type": "code",
      "source": [
        "# Vectorizing Text"
      ],
      "metadata": {
        "id": "yBRtdhth6JDE"
      },
      "execution_count": 48,
      "outputs": []
    },
    {
      "cell_type": "markdown",
      "source": [
        "##### Which text vectorization technique have you used and why?"
      ],
      "metadata": {
        "id": "qBMux9mC6MCf"
      }
    },
    {
      "cell_type": "markdown",
      "source": [
        "Answer Here."
      ],
      "metadata": {
        "id": "su2EnbCh6UKQ"
      }
    },
    {
      "cell_type": "markdown",
      "source": [
        "### 4. Feature Manipulation & Selection"
      ],
      "metadata": {
        "id": "-oLEiFgy-5Pf"
      }
    },
    {
      "cell_type": "markdown",
      "source": [
        "#### 1. Feature Manipulation"
      ],
      "metadata": {
        "id": "C74aWNz2AliB"
      }
    },
    {
      "cell_type": "code",
      "source": [
        "# Manipulate Features to minimize feature correlation and create new features"
      ],
      "metadata": {
        "id": "h1qC4yhBApWC"
      },
      "execution_count": 49,
      "outputs": []
    },
    {
      "cell_type": "markdown",
      "source": [
        "#### 2. Feature Selection"
      ],
      "metadata": {
        "id": "2DejudWSA-a0"
      }
    },
    {
      "cell_type": "code",
      "source": [
        "# Select your features wisely to avoid overfitting"
      ],
      "metadata": {
        "id": "YLhe8UmaBCEE"
      },
      "execution_count": 50,
      "outputs": []
    },
    {
      "cell_type": "markdown",
      "source": [
        "##### What all feature selection methods have you used  and why?"
      ],
      "metadata": {
        "id": "pEMng2IbBLp7"
      }
    },
    {
      "cell_type": "markdown",
      "source": [
        "Answer Here."
      ],
      "metadata": {
        "id": "rb2Lh6Z8BgGs"
      }
    },
    {
      "cell_type": "markdown",
      "source": [
        "##### Which all features you found important and why?"
      ],
      "metadata": {
        "id": "rAdphbQ9Bhjc"
      }
    },
    {
      "cell_type": "markdown",
      "source": [
        "Answer Here."
      ],
      "metadata": {
        "id": "fGgaEstsBnaf"
      }
    },
    {
      "cell_type": "markdown",
      "source": [
        "### 5. Data Transformation"
      ],
      "metadata": {
        "id": "TNVZ9zx19K6k"
      }
    },
    {
      "cell_type": "markdown",
      "source": [
        "#### Do you think that your data needs to be transformed? If yes, which transformation have you used. Explain Why?"
      ],
      "metadata": {
        "id": "nqoHp30x9hH9"
      }
    },
    {
      "cell_type": "code",
      "source": [
        "# Transform Your data"
      ],
      "metadata": {
        "id": "I6quWQ1T9rtH"
      },
      "execution_count": 51,
      "outputs": []
    },
    {
      "cell_type": "markdown",
      "source": [
        "### 6. Data Scaling"
      ],
      "metadata": {
        "id": "rMDnDkt2B6du"
      }
    },
    {
      "cell_type": "code",
      "source": [
        "# Scaling your data"
      ],
      "metadata": {
        "id": "dL9LWpySC6x_"
      },
      "execution_count": 52,
      "outputs": []
    },
    {
      "cell_type": "markdown",
      "source": [
        "##### Which method have you used to scale you data and why?"
      ],
      "metadata": {
        "id": "yiiVWRdJDDil"
      }
    },
    {
      "cell_type": "markdown",
      "source": [
        "### 7. Dimesionality Reduction"
      ],
      "metadata": {
        "id": "1UUpS68QDMuG"
      }
    },
    {
      "cell_type": "markdown",
      "source": [
        "##### Do you think that dimensionality reduction is needed? Explain Why?"
      ],
      "metadata": {
        "id": "kexQrXU-DjzY"
      }
    },
    {
      "cell_type": "markdown",
      "source": [
        "Answer Here."
      ],
      "metadata": {
        "id": "GGRlBsSGDtTQ"
      }
    },
    {
      "cell_type": "code",
      "source": [
        "# DImensionality Reduction (If needed)"
      ],
      "metadata": {
        "id": "kQfvxBBHDvCa"
      },
      "execution_count": 53,
      "outputs": []
    },
    {
      "cell_type": "markdown",
      "source": [
        "##### Which dimensionality reduction technique have you used and why? (If dimensionality reduction done on dataset.)"
      ],
      "metadata": {
        "id": "T5CmagL3EC8N"
      }
    },
    {
      "cell_type": "markdown",
      "source": [
        "Answer Here."
      ],
      "metadata": {
        "id": "ZKr75IDuEM7t"
      }
    },
    {
      "cell_type": "markdown",
      "source": [
        "### 8. Data Splitting"
      ],
      "metadata": {
        "id": "BhH2vgX9EjGr"
      }
    },
    {
      "cell_type": "code",
      "source": [
        "# Split your data to train and test. Choose Splitting ratio wisely."
      ],
      "metadata": {
        "id": "0CTyd2UwEyNM"
      },
      "execution_count": 54,
      "outputs": []
    },
    {
      "cell_type": "markdown",
      "source": [
        "##### What data splitting ratio have you used and why? "
      ],
      "metadata": {
        "id": "qjKvONjwE8ra"
      }
    },
    {
      "cell_type": "markdown",
      "source": [
        "Answer Here."
      ],
      "metadata": {
        "id": "Y2lJ8cobFDb_"
      }
    },
    {
      "cell_type": "markdown",
      "source": [
        "### 9. Handling Imbalanced Dataset"
      ],
      "metadata": {
        "id": "P1XJ9OREExlT"
      }
    },
    {
      "cell_type": "markdown",
      "source": [
        "##### Do you think the dataset is imbalanced? Explain Why."
      ],
      "metadata": {
        "id": "VFOzZv6IFROw"
      }
    },
    {
      "cell_type": "markdown",
      "source": [
        "Answer Here."
      ],
      "metadata": {
        "id": "GeKDIv7pFgcC"
      }
    },
    {
      "cell_type": "code",
      "source": [
        "# Handling Imbalanced Dataset (If needed)"
      ],
      "metadata": {
        "id": "nQsRhhZLFiDs"
      },
      "execution_count": 55,
      "outputs": []
    },
    {
      "cell_type": "markdown",
      "source": [
        "##### What technique did you use to handle the imbalance dataset and why? (If needed to be balanced)"
      ],
      "metadata": {
        "id": "TIqpNgepFxVj"
      }
    },
    {
      "cell_type": "markdown",
      "source": [
        "Answer Here."
      ],
      "metadata": {
        "id": "qbet1HwdGDTz"
      }
    },
    {
      "cell_type": "markdown",
      "source": [
        "## ***7. ML Model Implementation***"
      ],
      "metadata": {
        "id": "VfCC591jGiD4"
      }
    },
    {
      "cell_type": "markdown",
      "source": [
        "### ML Model - 1"
      ],
      "metadata": {
        "id": "OB4l2ZhMeS1U"
      }
    },
    {
      "cell_type": "code",
      "source": [
        "# ML Model - 1 Implementation\n",
        "\n",
        "# Fit the Algorithm\n",
        "\n",
        "# Predict on the model"
      ],
      "metadata": {
        "id": "7ebyywQieS1U"
      },
      "execution_count": 56,
      "outputs": []
    },
    {
      "cell_type": "markdown",
      "source": [
        "#### 1. Explain the ML Model used and it's performance using Evaluation metric Score Chart."
      ],
      "metadata": {
        "id": "ArJBuiUVfxKd"
      }
    },
    {
      "cell_type": "code",
      "source": [
        "# Visualizing evaluation Metric Score chart"
      ],
      "metadata": {
        "id": "rqD5ZohzfxKe"
      },
      "execution_count": 57,
      "outputs": []
    },
    {
      "cell_type": "markdown",
      "source": [
        "#### 2. Cross- Validation & Hyperparameter Tuning"
      ],
      "metadata": {
        "id": "4qY1EAkEfxKe"
      }
    },
    {
      "cell_type": "code",
      "source": [
        "# ML Model - 1 Implementation with hyperparameter optimization techniques (i.e., GridSearch CV, RandomSearch CV, Bayesian Optimization etc.)\n",
        "\n",
        "# Fit the Algorithm\n",
        "\n",
        "# Predict on the model"
      ],
      "metadata": {
        "id": "Dy61ujd6fxKe"
      },
      "execution_count": 58,
      "outputs": []
    },
    {
      "cell_type": "markdown",
      "source": [
        "##### Which hyperparameter optimization technique have you used and why?"
      ],
      "metadata": {
        "id": "PiV4Ypx8fxKe"
      }
    },
    {
      "cell_type": "markdown",
      "source": [
        "Answer Here."
      ],
      "metadata": {
        "id": "negyGRa7fxKf"
      }
    },
    {
      "cell_type": "markdown",
      "source": [
        "##### Have you seen any improvement? Note down the improvement with updates Evaluation metric Score Chart."
      ],
      "metadata": {
        "id": "TfvqoZmBfxKf"
      }
    },
    {
      "cell_type": "markdown",
      "source": [
        "Answer Here."
      ],
      "metadata": {
        "id": "OaLui8CcfxKf"
      }
    },
    {
      "cell_type": "markdown",
      "source": [
        "### ML Model - 2"
      ],
      "metadata": {
        "id": "dJ2tPlVmpsJ0"
      }
    },
    {
      "cell_type": "markdown",
      "source": [
        "#### 1. Explain the ML Model used and it's performance using Evaluation metric Score Chart."
      ],
      "metadata": {
        "id": "JWYfwnehpsJ1"
      }
    },
    {
      "cell_type": "code",
      "source": [
        "# Visualizing evaluation Metric Score chart"
      ],
      "metadata": {
        "id": "yEl-hgQWpsJ1"
      },
      "execution_count": 59,
      "outputs": []
    },
    {
      "cell_type": "markdown",
      "source": [
        "#### 2. Cross- Validation & Hyperparameter Tuning"
      ],
      "metadata": {
        "id": "-jK_YjpMpsJ2"
      }
    },
    {
      "cell_type": "code",
      "source": [
        "# ML Model - 1 Implementation with hyperparameter optimization techniques (i.e., GridSearch CV, RandomSearch CV, Bayesian Optimization etc.)\n",
        "\n",
        "# Fit the Algorithm\n",
        "\n",
        "# Predict on the model"
      ],
      "metadata": {
        "id": "Dn0EOfS6psJ2"
      },
      "execution_count": 60,
      "outputs": []
    },
    {
      "cell_type": "markdown",
      "source": [
        "##### Which hyperparameter optimization technique have you used and why?"
      ],
      "metadata": {
        "id": "HAih1iBOpsJ2"
      }
    },
    {
      "cell_type": "markdown",
      "source": [
        "Answer Here."
      ],
      "metadata": {
        "id": "9kBgjYcdpsJ2"
      }
    },
    {
      "cell_type": "markdown",
      "source": [
        "##### Have you seen any improvement? Note down the improvement with updates Evaluation metric Score Chart."
      ],
      "metadata": {
        "id": "zVGeBEFhpsJ2"
      }
    },
    {
      "cell_type": "markdown",
      "source": [
        "Answer Here."
      ],
      "metadata": {
        "id": "74yRdG6UpsJ3"
      }
    },
    {
      "cell_type": "markdown",
      "source": [
        "#### 3. Explain each evaluation metric's indication towards business and the business impact pf the ML model used."
      ],
      "metadata": {
        "id": "bmKjuQ-FpsJ3"
      }
    },
    {
      "cell_type": "markdown",
      "source": [
        "Answer Here."
      ],
      "metadata": {
        "id": "BDKtOrBQpsJ3"
      }
    },
    {
      "cell_type": "markdown",
      "source": [
        "### ML Model - 3"
      ],
      "metadata": {
        "id": "Fze-IPXLpx6K"
      }
    },
    {
      "cell_type": "code",
      "source": [
        "# ML Model - 3 Implementation\n",
        "\n",
        "# Fit the Algorithm\n",
        "\n",
        "# Predict on the model"
      ],
      "metadata": {
        "id": "FFrSXAtrpx6M"
      },
      "execution_count": 61,
      "outputs": []
    },
    {
      "cell_type": "markdown",
      "source": [
        "#### 1. Explain the ML Model used and it's performance using Evaluation metric Score Chart."
      ],
      "metadata": {
        "id": "7AN1z2sKpx6M"
      }
    },
    {
      "cell_type": "code",
      "source": [
        "# Visualizing evaluation Metric Score chart"
      ],
      "metadata": {
        "id": "xIY4lxxGpx6M"
      },
      "execution_count": 62,
      "outputs": []
    },
    {
      "cell_type": "markdown",
      "source": [
        "#### 2. Cross- Validation & Hyperparameter Tuning"
      ],
      "metadata": {
        "id": "9PIHJqyupx6M"
      }
    },
    {
      "cell_type": "code",
      "source": [
        "# ML Model - 3 Implementation with hyperparameter optimization techniques (i.e., GridSearch CV, RandomSearch CV, Bayesian Optimization etc.)\n",
        "\n",
        "# Fit the Algorithm\n",
        "\n",
        "# Predict on the model"
      ],
      "metadata": {
        "id": "eSVXuaSKpx6M"
      },
      "execution_count": 63,
      "outputs": []
    },
    {
      "cell_type": "markdown",
      "source": [
        "##### Which hyperparameter optimization technique have you used and why?"
      ],
      "metadata": {
        "id": "_-qAgymDpx6N"
      }
    },
    {
      "cell_type": "markdown",
      "source": [
        "Answer Here."
      ],
      "metadata": {
        "id": "lQMffxkwpx6N"
      }
    },
    {
      "cell_type": "markdown",
      "source": [
        "##### Have you seen any improvement? Note down the improvement with updates Evaluation metric Score Chart."
      ],
      "metadata": {
        "id": "Z-hykwinpx6N"
      }
    },
    {
      "cell_type": "markdown",
      "source": [
        "Answer Here."
      ],
      "metadata": {
        "id": "MzVzZC6opx6N"
      }
    },
    {
      "cell_type": "markdown",
      "source": [
        "### 1. Which Evaluation metrics did you consider for a positive business impact and why?"
      ],
      "metadata": {
        "id": "h_CCil-SKHpo"
      }
    },
    {
      "cell_type": "markdown",
      "source": [
        "Answer Here."
      ],
      "metadata": {
        "id": "jHVz9hHDKFms"
      }
    },
    {
      "cell_type": "markdown",
      "source": [
        "### 2. Which ML model did you choose from the above created models as your final prediction model and why?"
      ],
      "metadata": {
        "id": "cBFFvTBNJzUa"
      }
    },
    {
      "cell_type": "markdown",
      "source": [
        "Answer Here."
      ],
      "metadata": {
        "id": "6ksF5Q1LKTVm"
      }
    },
    {
      "cell_type": "markdown",
      "source": [
        "### 3. Explain the model which you have used and the feature importance using any model explainability tool?"
      ],
      "metadata": {
        "id": "HvGl1hHyA_VK"
      }
    },
    {
      "cell_type": "markdown",
      "source": [
        "Answer Here."
      ],
      "metadata": {
        "id": "YnvVTiIxBL-C"
      }
    },
    {
      "cell_type": "markdown",
      "source": [
        "## ***8.*** ***Future Work (Optional)***"
      ],
      "metadata": {
        "id": "EyNgTHvd2WFk"
      }
    },
    {
      "cell_type": "markdown",
      "source": [
        "### 1. Save the best performing ml model in a pickle file or joblib file format for deployment process.\n"
      ],
      "metadata": {
        "id": "KH5McJBi2d8v"
      }
    },
    {
      "cell_type": "code",
      "source": [
        "# Save the File"
      ],
      "metadata": {
        "id": "bQIANRl32f4J"
      },
      "execution_count": 64,
      "outputs": []
    },
    {
      "cell_type": "markdown",
      "source": [
        "### 2. Again Load the saved model file and try to predict unseen data for a sanity check.\n"
      ],
      "metadata": {
        "id": "iW_Lq9qf2h6X"
      }
    },
    {
      "cell_type": "code",
      "source": [
        "# Load the File and predict unseen data."
      ],
      "metadata": {
        "id": "oEXk9ydD2nVC"
      },
      "execution_count": 65,
      "outputs": []
    },
    {
      "cell_type": "markdown",
      "source": [
        "### ***Congrats! Your model is successfully created and ready for deployment on a live server for a real user interaction !!!***"
      ],
      "metadata": {
        "id": "-Kee-DAl2viO"
      }
    },
    {
      "cell_type": "markdown",
      "source": [
        "# **Conclusion**"
      ],
      "metadata": {
        "id": "gCX9965dhzqZ"
      }
    },
    {
      "cell_type": "markdown",
      "source": [
        "Write the conclusion here."
      ],
      "metadata": {
        "id": "Fjb1IsQkh3yE"
      }
    },
    {
      "cell_type": "markdown",
      "source": [
        "### ***Hurrah! You have successfully completed your Machine Learning Capstone Project !!!***"
      ],
      "metadata": {
        "id": "gIfDvo9L0UH2"
      }
    }
  ]
}